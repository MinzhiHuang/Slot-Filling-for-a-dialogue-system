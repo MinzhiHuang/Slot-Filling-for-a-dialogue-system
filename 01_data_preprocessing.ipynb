{
 "cells": [
  {
   "cell_type": "markdown",
   "id": "7d56c1d8-ac18-455d-aaa7-e474e348c4ea",
   "metadata": {},
   "source": [
    "## 01 - Data Preprocessing\n",
    "In this notebook, we will read in and pre-process data in train and dev set"
   ]
  },
  {
   "cell_type": "code",
   "execution_count": 1,
   "id": "6f2ada1a-064e-4910-9f31-c6b9f1df1c16",
   "metadata": {},
   "outputs": [],
   "source": [
    "import pandas as pd"
   ]
  },
  {
   "cell_type": "code",
   "execution_count": 2,
   "id": "4fcb39df-d2b6-4dcd-866b-dca469c7ee3f",
   "metadata": {},
   "outputs": [],
   "source": [
    "path = \"./data/MultiWOZ/\""
   ]
  },
  {
   "cell_type": "code",
   "execution_count": 3,
   "id": "55d5d6a1-f045-4968-b463-06854a66a754",
   "metadata": {},
   "outputs": [],
   "source": [
    "utt_train = \"./data/MultiWOZ/WOZ_train_utt.txt\"\n",
    "ans_train = \"./data/MultiWOZ/WOZ_train_ans.txt\""
   ]
  },
  {
   "cell_type": "code",
   "execution_count": 4,
   "id": "d74ad34a-6db4-40b8-934f-6c9f791f59b0",
   "metadata": {},
   "outputs": [
    {
     "name": "stdout",
     "output_type": "stream",
     "text": [
      "Length = 3760\n"
     ]
    }
   ],
   "source": [
    "# read in train set utterance\n",
    "lines = []\n",
    "with open(utt_train, encoding=\"utf-8\") as f:\n",
    "    lines = f.readlines()\n",
    "    print(\"Length =\", len(lines))"
   ]
  },
  {
   "cell_type": "code",
   "execution_count": 5,
   "id": "dd403bd4-73f9-422f-9e7b-2fc66603d509",
   "metadata": {},
   "outputs": [
    {
     "data": {
      "text/html": [
       "<div>\n",
       "<style scoped>\n",
       "    .dataframe tbody tr th:only-of-type {\n",
       "        vertical-align: middle;\n",
       "    }\n",
       "\n",
       "    .dataframe tbody tr th {\n",
       "        vertical-align: top;\n",
       "    }\n",
       "\n",
       "    .dataframe thead th {\n",
       "        text-align: right;\n",
       "    }\n",
       "</style>\n",
       "<table border=\"1\" class=\"dataframe\">\n",
       "  <thead>\n",
       "    <tr style=\"text-align: right;\">\n",
       "      <th></th>\n",
       "      <th>text</th>\n",
       "    </tr>\n",
       "  </thead>\n",
       "  <tbody>\n",
       "    <tr>\n",
       "      <th>0</th>\n",
       "      <td>Guten Tag, I am staying overnight in Cambridge...</td>\n",
       "    </tr>\n",
       "    <tr>\n",
       "      <th>1</th>\n",
       "      <td>Hi there! Can you give me some info on Cityroomz?</td>\n",
       "    </tr>\n",
       "    <tr>\n",
       "      <th>2</th>\n",
       "      <td>I am looking for a hotel named alyesbray lodge...</td>\n",
       "    </tr>\n",
       "    <tr>\n",
       "      <th>3</th>\n",
       "      <td>I am looking for a restaurant. I would like so...</td>\n",
       "    </tr>\n",
       "    <tr>\n",
       "      <th>4</th>\n",
       "      <td>I'm looking for an expensive restaurant in the...</td>\n",
       "    </tr>\n",
       "  </tbody>\n",
       "</table>\n",
       "</div>"
      ],
      "text/plain": [
       "                                                text\n",
       "0  Guten Tag, I am staying overnight in Cambridge...\n",
       "1  Hi there! Can you give me some info on Cityroomz?\n",
       "2  I am looking for a hotel named alyesbray lodge...\n",
       "3  I am looking for a restaurant. I would like so...\n",
       "4  I'm looking for an expensive restaurant in the..."
      ]
     },
     "execution_count": 5,
     "metadata": {},
     "output_type": "execute_result"
    }
   ],
   "source": [
    "df = pd.DataFrame({\"text\": lines})\n",
    "\n",
    "# apply data cleaning\n",
    "df[\"text\"] = df[\"text\"].apply(lambda text: text.strip())\n",
    "df.head()"
   ]
  },
  {
   "cell_type": "code",
   "execution_count": 6,
   "id": "ce0fb6b2-6e02-47fd-a075-f50b83d0c965",
   "metadata": {},
   "outputs": [
    {
     "data": {
      "text/plain": [
       "'Would you be able to suggest a steakhouse restaurant in Cambridge?'"
      ]
     },
     "execution_count": 6,
     "metadata": {},
     "output_type": "execute_result"
    }
   ],
   "source": [
    "df.iloc[110][\"text\"]"
   ]
  },
  {
   "cell_type": "code",
   "execution_count": 7,
   "id": "83a9dc88-50a0-4e42-a045-ab65d888b1de",
   "metadata": {},
   "outputs": [
    {
     "name": "stdout",
     "output_type": "stream",
     "text": [
      "Length = 3760\n"
     ]
    }
   ],
   "source": [
    "# read in answers\n",
    "lines = []\n",
    "with open(ans_train, encoding=\"utf-8\") as f:\n",
    "    lines = f.readlines()\n",
    "    print(\"Length =\", len(lines))"
   ]
  },
  {
   "cell_type": "code",
   "execution_count": 8,
   "id": "1c57295c-4267-49ac-8259-41fb52a77cff",
   "metadata": {},
   "outputs": [],
   "source": [
    "# df[\"answer\"]\n",
    "# order = hotel-area / hotel-internet"
   ]
  },
  {
   "cell_type": "code",
   "execution_count": 9,
   "id": "22da7df1-5b83-4d50-b10c-ce4a4fb4f890",
   "metadata": {},
   "outputs": [
    {
     "data": {
      "text/html": [
       "<div>\n",
       "<style scoped>\n",
       "    .dataframe tbody tr th:only-of-type {\n",
       "        vertical-align: middle;\n",
       "    }\n",
       "\n",
       "    .dataframe tbody tr th {\n",
       "        vertical-align: top;\n",
       "    }\n",
       "\n",
       "    .dataframe thead th {\n",
       "        text-align: right;\n",
       "    }\n",
       "</style>\n",
       "<table border=\"1\" class=\"dataframe\">\n",
       "  <thead>\n",
       "    <tr style=\"text-align: right;\">\n",
       "      <th></th>\n",
       "      <th>text</th>\n",
       "      <th>answer</th>\n",
       "    </tr>\n",
       "  </thead>\n",
       "  <tbody>\n",
       "    <tr>\n",
       "      <th>0</th>\n",
       "      <td>Guten Tag, I am staying overnight in Cambridge...</td>\n",
       "      <td>find_hotel|hotel-area=centre|hotel-internet=ye...</td>\n",
       "    </tr>\n",
       "    <tr>\n",
       "      <th>1</th>\n",
       "      <td>Hi there! Can you give me some info on Cityroomz?</td>\n",
       "      <td>find_hotel|hotel-name=cityroomz</td>\n",
       "    </tr>\n",
       "    <tr>\n",
       "      <th>2</th>\n",
       "      <td>I am looking for a hotel named alyesbray lodge...</td>\n",
       "      <td>find_hotel|hotel-name=alyesbray lodge guest house</td>\n",
       "    </tr>\n",
       "    <tr>\n",
       "      <th>3</th>\n",
       "      <td>I am looking for a restaurant. I would like so...</td>\n",
       "      <td>find_restaurant|restaurant-food=chinese|restau...</td>\n",
       "    </tr>\n",
       "    <tr>\n",
       "      <th>4</th>\n",
       "      <td>I'm looking for an expensive restaurant in the...</td>\n",
       "      <td>find_restaurant|restaurant-area=centre|restaur...</td>\n",
       "    </tr>\n",
       "  </tbody>\n",
       "</table>\n",
       "</div>"
      ],
      "text/plain": [
       "                                                text  \\\n",
       "0  Guten Tag, I am staying overnight in Cambridge...   \n",
       "1  Hi there! Can you give me some info on Cityroomz?   \n",
       "2  I am looking for a hotel named alyesbray lodge...   \n",
       "3  I am looking for a restaurant. I would like so...   \n",
       "4  I'm looking for an expensive restaurant in the...   \n",
       "\n",
       "                                              answer  \n",
       "0  find_hotel|hotel-area=centre|hotel-internet=ye...  \n",
       "1                    find_hotel|hotel-name=cityroomz  \n",
       "2  find_hotel|hotel-name=alyesbray lodge guest house  \n",
       "3  find_restaurant|restaurant-food=chinese|restau...  \n",
       "4  find_restaurant|restaurant-area=centre|restaur...  "
      ]
     },
     "execution_count": 9,
     "metadata": {},
     "output_type": "execute_result"
    }
   ],
   "source": [
    "df[\"answer\"] = lines\n",
    "df[\"answer\"] = df[\"answer\"].apply(lambda text: text.strip())\n",
    "df.head()"
   ]
  },
  {
   "cell_type": "code",
   "execution_count": 10,
   "id": "69b4416f-96be-4f05-888d-e55a87a74e39",
   "metadata": {},
   "outputs": [
    {
     "data": {
      "text/plain": [
       "'find_restaurant|restaurant-food=steakhouse'"
      ]
     },
     "execution_count": 10,
     "metadata": {},
     "output_type": "execute_result"
    }
   ],
   "source": [
    "df.iloc[110][\"answer\"]"
   ]
  },
  {
   "cell_type": "code",
   "execution_count": 11,
   "id": "5cc0a1ed-8acc-4cc1-b1d0-403688f96707",
   "metadata": {},
   "outputs": [
    {
     "data": {
      "text/html": [
       "<div>\n",
       "<style scoped>\n",
       "    .dataframe tbody tr th:only-of-type {\n",
       "        vertical-align: middle;\n",
       "    }\n",
       "\n",
       "    .dataframe tbody tr th {\n",
       "        vertical-align: top;\n",
       "    }\n",
       "\n",
       "    .dataframe thead th {\n",
       "        text-align: right;\n",
       "    }\n",
       "</style>\n",
       "<table border=\"1\" class=\"dataframe\">\n",
       "  <thead>\n",
       "    <tr style=\"text-align: right;\">\n",
       "      <th></th>\n",
       "      <th>text</th>\n",
       "      <th>answer</th>\n",
       "    </tr>\n",
       "  </thead>\n",
       "  <tbody>\n",
       "    <tr>\n",
       "      <th>0</th>\n",
       "      <td>Guten Tag, I am staying overnight in Cambridge...</td>\n",
       "      <td>[find_hotel, hotel-area=centre, hotel-internet...</td>\n",
       "    </tr>\n",
       "    <tr>\n",
       "      <th>1</th>\n",
       "      <td>Hi there! Can you give me some info on Cityroomz?</td>\n",
       "      <td>[find_hotel, hotel-name=cityroomz]</td>\n",
       "    </tr>\n",
       "    <tr>\n",
       "      <th>2</th>\n",
       "      <td>I am looking for a hotel named alyesbray lodge...</td>\n",
       "      <td>[find_hotel, hotel-name=alyesbray lodge guest ...</td>\n",
       "    </tr>\n",
       "    <tr>\n",
       "      <th>3</th>\n",
       "      <td>I am looking for a restaurant. I would like so...</td>\n",
       "      <td>[find_restaurant, restaurant-food=chinese, res...</td>\n",
       "    </tr>\n",
       "    <tr>\n",
       "      <th>4</th>\n",
       "      <td>I'm looking for an expensive restaurant in the...</td>\n",
       "      <td>[find_restaurant, restaurant-area=centre, rest...</td>\n",
       "    </tr>\n",
       "  </tbody>\n",
       "</table>\n",
       "</div>"
      ],
      "text/plain": [
       "                                                text  \\\n",
       "0  Guten Tag, I am staying overnight in Cambridge...   \n",
       "1  Hi there! Can you give me some info on Cityroomz?   \n",
       "2  I am looking for a hotel named alyesbray lodge...   \n",
       "3  I am looking for a restaurant. I would like so...   \n",
       "4  I'm looking for an expensive restaurant in the...   \n",
       "\n",
       "                                              answer  \n",
       "0  [find_hotel, hotel-area=centre, hotel-internet...  \n",
       "1                 [find_hotel, hotel-name=cityroomz]  \n",
       "2  [find_hotel, hotel-name=alyesbray lodge guest ...  \n",
       "3  [find_restaurant, restaurant-food=chinese, res...  \n",
       "4  [find_restaurant, restaurant-area=centre, rest...  "
      ]
     },
     "execution_count": 11,
     "metadata": {},
     "output_type": "execute_result"
    }
   ],
   "source": [
    "# split the slots\n",
    "df[\"answer\"] = df[\"answer\"].apply(lambda text: text.split(\"|\"))\n",
    "df.head()"
   ]
  },
  {
   "cell_type": "code",
   "execution_count": 12,
   "id": "106a3a20-34e0-46f8-a7b4-50bb5f16f558",
   "metadata": {},
   "outputs": [
    {
     "data": {
      "text/plain": [
       "{'restaurant-food': 'asian oriental', 'restaurant-pricerange': 'expensive'}"
      ]
     },
     "execution_count": 12,
     "metadata": {},
     "output_type": "execute_result"
    }
   ],
   "source": [
    "def list2dict(item_slots):\n",
    "    \"\"\" \n",
    "    convert slot lists in format A=B to dict A:B\n",
    "    \"\"\"\n",
    "    result = dict()\n",
    "    # skip the first item (intent)\n",
    "    for slot in item_slots[1:]:\n",
    "        # print(slot)\n",
    "        key, value = slot.split(\"=\")\n",
    "        result[key] = value\n",
    "    \n",
    "    return result\n",
    "\n",
    "list2dict([\"find_restaurant\", \"restaurant-food=asian oriental\", \"restaurant-pricerange=expensive\"])"
   ]
  },
  {
   "cell_type": "code",
   "execution_count": 13,
   "id": "52b615df-9cdb-4d71-8733-afa285982dbb",
   "metadata": {},
   "outputs": [
    {
     "data": {
      "text/html": [
       "<div>\n",
       "<style scoped>\n",
       "    .dataframe tbody tr th:only-of-type {\n",
       "        vertical-align: middle;\n",
       "    }\n",
       "\n",
       "    .dataframe tbody tr th {\n",
       "        vertical-align: top;\n",
       "    }\n",
       "\n",
       "    .dataframe thead th {\n",
       "        text-align: right;\n",
       "    }\n",
       "</style>\n",
       "<table border=\"1\" class=\"dataframe\">\n",
       "  <thead>\n",
       "    <tr style=\"text-align: right;\">\n",
       "      <th></th>\n",
       "      <th>text</th>\n",
       "      <th>answer</th>\n",
       "      <th>intent</th>\n",
       "    </tr>\n",
       "  </thead>\n",
       "  <tbody>\n",
       "    <tr>\n",
       "      <th>0</th>\n",
       "      <td>Guten Tag, I am staying overnight in Cambridge...</td>\n",
       "      <td>[find_hotel, hotel-area=centre, hotel-internet...</td>\n",
       "      <td>find_hotel</td>\n",
       "    </tr>\n",
       "    <tr>\n",
       "      <th>1</th>\n",
       "      <td>Hi there! Can you give me some info on Cityroomz?</td>\n",
       "      <td>[find_hotel, hotel-name=cityroomz]</td>\n",
       "      <td>find_hotel</td>\n",
       "    </tr>\n",
       "    <tr>\n",
       "      <th>2</th>\n",
       "      <td>I am looking for a hotel named alyesbray lodge...</td>\n",
       "      <td>[find_hotel, hotel-name=alyesbray lodge guest ...</td>\n",
       "      <td>find_hotel</td>\n",
       "    </tr>\n",
       "    <tr>\n",
       "      <th>3</th>\n",
       "      <td>I am looking for a restaurant. I would like so...</td>\n",
       "      <td>[find_restaurant, restaurant-food=chinese, res...</td>\n",
       "      <td>find_restaurant</td>\n",
       "    </tr>\n",
       "    <tr>\n",
       "      <th>4</th>\n",
       "      <td>I'm looking for an expensive restaurant in the...</td>\n",
       "      <td>[find_restaurant, restaurant-area=centre, rest...</td>\n",
       "      <td>find_restaurant</td>\n",
       "    </tr>\n",
       "  </tbody>\n",
       "</table>\n",
       "</div>"
      ],
      "text/plain": [
       "                                                text  \\\n",
       "0  Guten Tag, I am staying overnight in Cambridge...   \n",
       "1  Hi there! Can you give me some info on Cityroomz?   \n",
       "2  I am looking for a hotel named alyesbray lodge...   \n",
       "3  I am looking for a restaurant. I would like so...   \n",
       "4  I'm looking for an expensive restaurant in the...   \n",
       "\n",
       "                                              answer           intent  \n",
       "0  [find_hotel, hotel-area=centre, hotel-internet...       find_hotel  \n",
       "1                 [find_hotel, hotel-name=cityroomz]       find_hotel  \n",
       "2  [find_hotel, hotel-name=alyesbray lodge guest ...       find_hotel  \n",
       "3  [find_restaurant, restaurant-food=chinese, res...  find_restaurant  \n",
       "4  [find_restaurant, restaurant-area=centre, rest...  find_restaurant  "
      ]
     },
     "execution_count": 13,
     "metadata": {},
     "output_type": "execute_result"
    }
   ],
   "source": [
    "# get the intent\n",
    "df[\"intent\"] = df[\"answer\"].apply(lambda item:item[0])\n",
    "df.head()"
   ]
  },
  {
   "cell_type": "code",
   "execution_count": 14,
   "id": "9f6cb644-19b2-45e2-af47-0a7e4f5954c0",
   "metadata": {},
   "outputs": [
    {
     "data": {
      "text/html": [
       "<div>\n",
       "<style scoped>\n",
       "    .dataframe tbody tr th:only-of-type {\n",
       "        vertical-align: middle;\n",
       "    }\n",
       "\n",
       "    .dataframe tbody tr th {\n",
       "        vertical-align: top;\n",
       "    }\n",
       "\n",
       "    .dataframe thead th {\n",
       "        text-align: right;\n",
       "    }\n",
       "</style>\n",
       "<table border=\"1\" class=\"dataframe\">\n",
       "  <thead>\n",
       "    <tr style=\"text-align: right;\">\n",
       "      <th></th>\n",
       "      <th>text</th>\n",
       "      <th>answer</th>\n",
       "      <th>intent</th>\n",
       "      <th>slots</th>\n",
       "    </tr>\n",
       "  </thead>\n",
       "  <tbody>\n",
       "    <tr>\n",
       "      <th>0</th>\n",
       "      <td>Guten Tag, I am staying overnight in Cambridge...</td>\n",
       "      <td>[find_hotel, hotel-area=centre, hotel-internet...</td>\n",
       "      <td>find_hotel</td>\n",
       "      <td>{'hotel-area': 'centre', 'hotel-internet': 'ye...</td>\n",
       "    </tr>\n",
       "    <tr>\n",
       "      <th>1</th>\n",
       "      <td>Hi there! Can you give me some info on Cityroomz?</td>\n",
       "      <td>[find_hotel, hotel-name=cityroomz]</td>\n",
       "      <td>find_hotel</td>\n",
       "      <td>{'hotel-name': 'cityroomz'}</td>\n",
       "    </tr>\n",
       "    <tr>\n",
       "      <th>2</th>\n",
       "      <td>I am looking for a hotel named alyesbray lodge...</td>\n",
       "      <td>[find_hotel, hotel-name=alyesbray lodge guest ...</td>\n",
       "      <td>find_hotel</td>\n",
       "      <td>{'hotel-name': 'alyesbray lodge guest house'}</td>\n",
       "    </tr>\n",
       "    <tr>\n",
       "      <th>3</th>\n",
       "      <td>I am looking for a restaurant. I would like so...</td>\n",
       "      <td>[find_restaurant, restaurant-food=chinese, res...</td>\n",
       "      <td>find_restaurant</td>\n",
       "      <td>{'restaurant-food': 'chinese', 'restaurant-pri...</td>\n",
       "    </tr>\n",
       "    <tr>\n",
       "      <th>4</th>\n",
       "      <td>I'm looking for an expensive restaurant in the...</td>\n",
       "      <td>[find_restaurant, restaurant-area=centre, rest...</td>\n",
       "      <td>find_restaurant</td>\n",
       "      <td>{'restaurant-area': 'centre', 'restaurant-pric...</td>\n",
       "    </tr>\n",
       "  </tbody>\n",
       "</table>\n",
       "</div>"
      ],
      "text/plain": [
       "                                                text  \\\n",
       "0  Guten Tag, I am staying overnight in Cambridge...   \n",
       "1  Hi there! Can you give me some info on Cityroomz?   \n",
       "2  I am looking for a hotel named alyesbray lodge...   \n",
       "3  I am looking for a restaurant. I would like so...   \n",
       "4  I'm looking for an expensive restaurant in the...   \n",
       "\n",
       "                                              answer           intent  \\\n",
       "0  [find_hotel, hotel-area=centre, hotel-internet...       find_hotel   \n",
       "1                 [find_hotel, hotel-name=cityroomz]       find_hotel   \n",
       "2  [find_hotel, hotel-name=alyesbray lodge guest ...       find_hotel   \n",
       "3  [find_restaurant, restaurant-food=chinese, res...  find_restaurant   \n",
       "4  [find_restaurant, restaurant-area=centre, rest...  find_restaurant   \n",
       "\n",
       "                                               slots  \n",
       "0  {'hotel-area': 'centre', 'hotel-internet': 'ye...  \n",
       "1                        {'hotel-name': 'cityroomz'}  \n",
       "2      {'hotel-name': 'alyesbray lodge guest house'}  \n",
       "3  {'restaurant-food': 'chinese', 'restaurant-pri...  \n",
       "4  {'restaurant-area': 'centre', 'restaurant-pric...  "
      ]
     },
     "execution_count": 14,
     "metadata": {},
     "output_type": "execute_result"
    }
   ],
   "source": [
    "# build the slots into dictionary format\n",
    "df[\"slots\"] = df[\"answer\"].apply(list2dict)\n",
    "df.head()"
   ]
  },
  {
   "cell_type": "code",
   "execution_count": 15,
   "id": "30cb807c-e0ad-419d-97ac-a296e3631f74",
   "metadata": {},
   "outputs": [
    {
     "data": {
      "text/plain": [
       "2.898936170212766"
      ]
     },
     "execution_count": 15,
     "metadata": {},
     "output_type": "execute_result"
    }
   ],
   "source": [
    "# check percentage for 'dontcare' answer\n",
    "w = 'dontcare'\n",
    "sum(df[\"slots\"].apply(lambda slots: w in slots.values())) * 100 / len(df)"
   ]
  },
  {
   "cell_type": "code",
   "execution_count": 16,
   "id": "c9ccfce6-c801-40bf-baa3-7e5342cd876a",
   "metadata": {},
   "outputs": [
    {
     "name": "stdout",
     "output_type": "stream",
     "text": [
      "Writing to  ./data/train.csv\n",
      "Completed\n"
     ]
    }
   ],
   "source": [
    "output_file = \"./data/train.csv\"\n",
    "print(\"Writing to \", output_file)\n",
    "df.to_csv(output_file, index=False)\n",
    "print(\"Completed\")"
   ]
  },
  {
   "cell_type": "code",
   "execution_count": 17,
   "id": "2c94219c-bc95-4f54-a29c-0b593e80b66f",
   "metadata": {},
   "outputs": [
    {
     "name": "stdout",
     "output_type": "stream",
     "text": [
      "Building slot sets...\n",
      "Done.\n",
      "Slot count = 293\n",
      "Restaurant slots = 218\n",
      "Hotel slots = 73\n"
     ]
    }
   ],
   "source": [
    "# analyze the slots\n",
    "slots = set() # empty set\n",
    "restauant_slots = set()\n",
    "hotel_slots = set()\n",
    "\n",
    "n = len(df)\n",
    "max_row = n # set to n for full set\n",
    "\n",
    "print(\"Building slot sets...\")\n",
    "for item in df[\"answer\"][:max_row]:\n",
    "    # print(item)\n",
    "    # item_set = set(item)\n",
    "    # print(item_set)\n",
    "    slots.update(item)\n",
    "    restauant_slots.update([slot \n",
    "                            for slot in item\n",
    "                            if slot.startswith(\"restaurant\")\n",
    "                           ])\n",
    "    \n",
    "    hotel_slots.update([slot \n",
    "                        for slot in item\n",
    "                        if slot.startswith(\"hotel\")\n",
    "                        ])\n",
    "\n",
    "print(\"Done.\")\n",
    "print(\"Slot count =\", len(slots))\n",
    "# print(slots)\n",
    "print(\"Restaurant slots =\", len(restauant_slots))\n",
    "print(\"Hotel slots =\", len(hotel_slots))"
   ]
  },
  {
   "cell_type": "code",
   "execution_count": 18,
   "id": "97bee0b1-647f-43f5-998b-ca379961022f",
   "metadata": {},
   "outputs": [
    {
     "name": "stdout",
     "output_type": "stream",
     "text": [
      "Keys = dict_keys(['restaurant-food', 'restaurant-name', 'restaurant-pricerange', 'restaurant-area'])\n"
     ]
    }
   ],
   "source": [
    "# finding unique slots keys\n",
    "from collections import defaultdict\n",
    "\n",
    "restaurant_dict = defaultdict(list)\n",
    "for item in restauant_slots:\n",
    "    key, value = item.split(\"=\")\n",
    "    restaurant_dict[key].append(value)\n",
    "\n",
    "print(\"Keys =\", restaurant_dict.keys())\n"
   ]
  },
  {
   "cell_type": "code",
   "execution_count": 19,
   "id": "822fb3b0-5671-4fe3-86eb-a7b1e003a800",
   "metadata": {},
   "outputs": [
    {
     "name": "stdout",
     "output_type": "stream",
     "text": [
      "restaurant-food ['afghan', 'afternoon tea', 'turkish', 'mexican', 'swiss', 'modern european', 'barbeque', 'swedish', 'french', 'kosher', 'modern global', 'traditional', 'german', 'scandinavian', 'bbq', 'corsica', 'brazilian', 'eritrean', 'european', 'gastropub', 'steakhouse', 'unusual', 'english', 'australian', 'north indian', 'spanish', 'korean', 'morrocan', 'international', 'northern european', 'persian', 'vegetarian', 'south indian', 'danish', 'dontcare', 'singaporean', 'catalan', 'welsh', 'north african', 'modern', 'japanese', 'muslim', 'middle eastern', 'global', 'panasian', 'christmas', 'lebanese', 'hungarian', 'americas', 'jamaican', 'british', 'chinese', 'romanian', 'bistro', 'cuban', 'russian', 'cantonese', 'thai', 'mediterranean', 'fusion', 'greek', 'polynesian', 'latin american', 'asian oriental', 'australasian', 'sri lankan', 'irish', 'new zealand', 'pizza', 'belgian', 'venetian', 'creative', 'modern eclectic', 'basque', 'molecular gastronomy', 'caribbean', 'portuguese', 'scottish', 'tuscan', 'moroccan', 'light bites', 'north american', 'canapes', 'halal', 'asian', 'indonesian', 'malaysian', 'crossover', 'indian', 'african', 'polish', 'the americas', 'italian', 'modern american', 'chines', 'world', 'austrian', 'singapore', 'seafood', 'vietnamese']\n",
      "-------\n",
      "restaurant-name ['pipasha restaurant', 'the slug and lettuce', 'darrys cookhouse and wine shop', 'bloomsbury restaurant', 'da vinci pizzeria', 'grafton hotel restaurant', 'good luck', 'dojo noodle bar', 'curry prince', 'panahar', 'cotto', 'golden wok', 'pizza hut city centre', 'saffron brasserie', 'the gandhi', 'dontcare', 'nirala', 'clowns cafe', 'sala thong', 'loch fyne', 'michaelhouse cafe', 'efes restaurant', 'the cow pizza kitchen and bar', 'mahal of cambridge', 'prezzo', 'city stop restaurant', 'the hotpot', 'cambridge chop house', 'bedouin', 'bangkok city', 'gourmet burger kitchen', 'pizza express fen ditton', 'golden curry', 'galleria', 'charlie chan', 'hk fusion', 'shiraz', 'thanh binh', 'nandos', 'hotel du vin and bistro', 'the varsity restaurant', 'royal spice', 'cafe uno', 'cambridge lodge restaurant', 'meze bar', 'ian hong house', 'de luca cucina and bar', 'river bar steakhouse and grill', 'royal standard', 'pasquale pizzeria', 'ask', 'little seoul', 'saint johns chop house', 'peking restaurant', 'anatolia', 'copper kettle', 'slug and lettuce', 'curry garden', 'saigon city', 'rajmahal', 'la raza', 'j restaurant', 'la margherita', 'cote', 'travellers rest', 'curry queen', 'rice house', 'eraina', 'frankie and bennys', 'taj tandoori', 'yippee noodle bar', 'ali baba', 'curry king', 'stazione restaurant and coffee bar', 'nandos city centre', 'the missing sock', 'shanghai family restaurant', 'cow pizza kitchen and bar', 'india house', 'sitar tandoori', 'rice boat', 'the lucky star', 'jinling noodle bar', 'hakka', 'lan hong house', 'pizza hut fenditton', 'la tasca', 'graffiti', 'kymmoy', 'backstreet bistro', 'kohinoor', 'tang chinese', 'wagamama', 'luca cucina and bar', 'fitzbillies restaurant', 'the oak bistro', 'cocum', 'chiquito restaurant bar', 'the gardenia', 'restaurant two two', 'meghna', 'restaurant one seven', 'maharajah tandoori restaurant', 'yu garden', 'golden house', 'pizza express', 'riverside brasserie', 'tandoori palace']\n",
      "-------\n",
      "restaurant-pricerange ['dontcare', 'expensive', 'moderate', 'cheap']\n",
      "-------\n",
      "restaurant-area ['east', 'south', 'west', 'centre', 'dontcare', 'north']\n",
      "-------\n"
     ]
    }
   ],
   "source": [
    "for k in restaurant_dict.keys():\n",
    "    print(k, restaurant_dict[k])\n",
    "    print(\"-------\")"
   ]
  },
  {
   "cell_type": "code",
   "execution_count": 20,
   "id": "7bd8311a-df8d-4056-bebc-f67b656bdeec",
   "metadata": {},
   "outputs": [
    {
     "name": "stdout",
     "output_type": "stream",
     "text": [
      "Keys = dict_keys(['hotel-name', 'hotel-stars', 'hotel-area', 'hotel-internet', 'hotel-pricerange', 'hotel-parking', 'hotel-type'])\n"
     ]
    }
   ],
   "source": [
    "hotel_dict = defaultdict(list)\n",
    "for item in hotel_slots:\n",
    "    key, value = item.split(\"=\")\n",
    "    hotel_dict[key].append(value)\n",
    "\n",
    "print(\"Keys =\", hotel_dict.keys())"
   ]
  },
  {
   "cell_type": "code",
   "execution_count": 21,
   "id": "80a101a3-fe10-464c-8995-1031cfc8bd52",
   "metadata": {},
   "outputs": [
    {
     "name": "stdout",
     "output_type": "stream",
     "text": [
      "hotel-name ['lovell lodge', 'hobsons house', 'arbury lodge guesthouse', 'finches bed and breakfast', 'limehouse', 'a and b quest house', 'carolina b&b', 'gonville', 'alpha milton guest house', 'university arms hotel', 'b guesthouse', 'hamilton lodge', 'allenbell', 'arbury guesthouse and lodge', 'express by holiday inn in cambridge', 'a and b guest house', 'express by holiday inn - cambridge', 'kirkwood house', 'avalon', 'aylesbray lodge guest house', 'lensfield hotel', 'acorn guest house', 'cityroomz', 'worth house', 'kirkwood', 'huntingdon marriott hotel', 'dontcare', 'alexander bed and breakfast', 'express by holiday inn', 'cambridge belfry', 'autumn house', 'warkworth house', 'rosas bed and breakfast', 'alyesbray lodge guest house', 'gonville hotel', 'bridge guest house', 'ashley hotel', 'leverton house', 'finches', 'home from home', 'city centre north b and b', 'archway house', 'alexeander b&b', 'carolina bed and breakfast', 'arbury lodge', 'el shaddai', 'alpha-milton guest house', 'express by holiday inn cambridge']\n",
      "-------\n",
      "hotel-stars ['dontcare', '0', '4', '2', '3', '1', '5']\n",
      "-------\n",
      "hotel-area ['south', 'north', 'dontcare', 'west', 'centre', 'east']\n",
      "-------\n",
      "hotel-internet ['yes', 'no', 'dontcare']\n",
      "-------\n",
      "hotel-pricerange ['cheap', 'dontcare', 'moderate', 'expensive']\n",
      "-------\n",
      "hotel-parking ['dontcare', 'no', 'yes']\n",
      "-------\n",
      "hotel-type ['guesthouse', 'dontcare']\n",
      "-------\n"
     ]
    }
   ],
   "source": [
    "for k in hotel_dict.keys():\n",
    "    print(k, hotel_dict[k])\n",
    "    print(\"-------\")"
   ]
  },
  {
   "cell_type": "code",
   "execution_count": 22,
   "id": "627a9708-725e-4d5d-afe9-48fd1fee3fc9",
   "metadata": {},
   "outputs": [],
   "source": [
    "# process dev set"
   ]
  },
  {
   "cell_type": "code",
   "execution_count": 23,
   "id": "f0ea975f-71e5-41a8-b6df-1d69e3a53e15",
   "metadata": {},
   "outputs": [],
   "source": [
    "utt_dev = \"./data/MultiWOZ/WOZ_dev_utt.txt\"\n",
    "ans_dev = \"./data/MultiWOZ/WOZ_dev_ans.txt\""
   ]
  },
  {
   "cell_type": "code",
   "execution_count": 24,
   "id": "7a149461-59bb-46ea-9ceb-5480b623d716",
   "metadata": {},
   "outputs": [
    {
     "name": "stdout",
     "output_type": "stream",
     "text": [
      "Length = 413\n"
     ]
    }
   ],
   "source": [
    "# read in train set utterance\n",
    "lines_utt = []\n",
    "with open(utt_dev, encoding=\"utf-8\") as f:\n",
    "    lines_utt = f.readlines()\n",
    "    print(\"Length =\", len(lines_utt))"
   ]
  },
  {
   "cell_type": "code",
   "execution_count": 25,
   "id": "65a4c913-6e4b-4344-8ce7-1b9931fb724c",
   "metadata": {},
   "outputs": [
    {
     "name": "stdout",
     "output_type": "stream",
     "text": [
      "Length = 413\n"
     ]
    }
   ],
   "source": [
    "lines_ans = []\n",
    "with open(ans_dev, encoding=\"utf-8\") as f:\n",
    "    lines_ans = f.readlines()\n",
    "    print(\"Length =\", len(lines_ans))"
   ]
  },
  {
   "cell_type": "code",
   "execution_count": 26,
   "id": "c0d2b58c-5429-4e12-bdc0-bfa5fdbfe15a",
   "metadata": {},
   "outputs": [
    {
     "data": {
      "text/html": [
       "<div>\n",
       "<style scoped>\n",
       "    .dataframe tbody tr th:only-of-type {\n",
       "        vertical-align: middle;\n",
       "    }\n",
       "\n",
       "    .dataframe tbody tr th {\n",
       "        vertical-align: top;\n",
       "    }\n",
       "\n",
       "    .dataframe thead th {\n",
       "        text-align: right;\n",
       "    }\n",
       "</style>\n",
       "<table border=\"1\" class=\"dataframe\">\n",
       "  <thead>\n",
       "    <tr style=\"text-align: right;\">\n",
       "      <th></th>\n",
       "      <th>text</th>\n",
       "      <th>answer_raw</th>\n",
       "    </tr>\n",
       "  </thead>\n",
       "  <tbody>\n",
       "    <tr>\n",
       "      <th>0</th>\n",
       "      <td>I'm looking for a local place to dine in the c...</td>\n",
       "      <td>find_restaurant|restaurant-area=centre|restaur...</td>\n",
       "    </tr>\n",
       "    <tr>\n",
       "      <th>1</th>\n",
       "      <td>My husband and I are celebrating our anniversa...</td>\n",
       "      <td>find_hotel</td>\n",
       "    </tr>\n",
       "    <tr>\n",
       "      <th>2</th>\n",
       "      <td>I'm looking for an expensive restaurant in the...</td>\n",
       "      <td>find_restaurant|restaurant-area=centre|restaur...</td>\n",
       "    </tr>\n",
       "    <tr>\n",
       "      <th>3</th>\n",
       "      <td>Are there any accommodations in the east part ...</td>\n",
       "      <td>find_hotel|hotel-area=east|hotel-parking=yes</td>\n",
       "    </tr>\n",
       "    <tr>\n",
       "      <th>4</th>\n",
       "      <td>I'm looking for a nice place to stay, somewher...</td>\n",
       "      <td>find_hotel|hotel-internet=yes|hotel-pricerange...</td>\n",
       "    </tr>\n",
       "  </tbody>\n",
       "</table>\n",
       "</div>"
      ],
      "text/plain": [
       "                                                text  \\\n",
       "0  I'm looking for a local place to dine in the c...   \n",
       "1  My husband and I are celebrating our anniversa...   \n",
       "2  I'm looking for an expensive restaurant in the...   \n",
       "3  Are there any accommodations in the east part ...   \n",
       "4  I'm looking for a nice place to stay, somewher...   \n",
       "\n",
       "                                          answer_raw  \n",
       "0  find_restaurant|restaurant-area=centre|restaur...  \n",
       "1                                         find_hotel  \n",
       "2  find_restaurant|restaurant-area=centre|restaur...  \n",
       "3       find_hotel|hotel-area=east|hotel-parking=yes  \n",
       "4  find_hotel|hotel-internet=yes|hotel-pricerange...  "
      ]
     },
     "execution_count": 26,
     "metadata": {},
     "output_type": "execute_result"
    }
   ],
   "source": [
    "dev_df = pd.DataFrame({\"text\": lines_utt,\n",
    "                       \"answer_raw\": lines_ans\n",
    "                      })\n",
    "\n",
    "# apply data cleaning\n",
    "dev_df[\"text\"] = dev_df[\"text\"].apply(lambda text: text.strip())\n",
    "dev_df[\"answer_raw\"] = dev_df[\"answer_raw\"].apply(lambda text: text.strip())\n",
    "\n",
    "dev_df.head()"
   ]
  },
  {
   "cell_type": "code",
   "execution_count": 27,
   "id": "97d6c860-62c4-4f3c-90a9-a85ed2ba5082",
   "metadata": {},
   "outputs": [
    {
     "data": {
      "text/html": [
       "<div>\n",
       "<style scoped>\n",
       "    .dataframe tbody tr th:only-of-type {\n",
       "        vertical-align: middle;\n",
       "    }\n",
       "\n",
       "    .dataframe tbody tr th {\n",
       "        vertical-align: top;\n",
       "    }\n",
       "\n",
       "    .dataframe thead th {\n",
       "        text-align: right;\n",
       "    }\n",
       "</style>\n",
       "<table border=\"1\" class=\"dataframe\">\n",
       "  <thead>\n",
       "    <tr style=\"text-align: right;\">\n",
       "      <th></th>\n",
       "      <th>text</th>\n",
       "      <th>answer_raw</th>\n",
       "      <th>answer</th>\n",
       "      <th>intent</th>\n",
       "      <th>slots</th>\n",
       "    </tr>\n",
       "  </thead>\n",
       "  <tbody>\n",
       "    <tr>\n",
       "      <th>0</th>\n",
       "      <td>I'm looking for a local place to dine in the c...</td>\n",
       "      <td>find_restaurant|restaurant-area=centre|restaur...</td>\n",
       "      <td>[find_restaurant, restaurant-area=centre, rest...</td>\n",
       "      <td>find_restaurant</td>\n",
       "      <td>{'restaurant-area': 'centre', 'restaurant-food...</td>\n",
       "    </tr>\n",
       "    <tr>\n",
       "      <th>1</th>\n",
       "      <td>My husband and I are celebrating our anniversa...</td>\n",
       "      <td>find_hotel</td>\n",
       "      <td>[find_hotel]</td>\n",
       "      <td>find_hotel</td>\n",
       "      <td>{}</td>\n",
       "    </tr>\n",
       "    <tr>\n",
       "      <th>2</th>\n",
       "      <td>I'm looking for an expensive restaurant in the...</td>\n",
       "      <td>find_restaurant|restaurant-area=centre|restaur...</td>\n",
       "      <td>[find_restaurant, restaurant-area=centre, rest...</td>\n",
       "      <td>find_restaurant</td>\n",
       "      <td>{'restaurant-area': 'centre', 'restaurant-pric...</td>\n",
       "    </tr>\n",
       "    <tr>\n",
       "      <th>3</th>\n",
       "      <td>Are there any accommodations in the east part ...</td>\n",
       "      <td>find_hotel|hotel-area=east|hotel-parking=yes</td>\n",
       "      <td>[find_hotel, hotel-area=east, hotel-parking=yes]</td>\n",
       "      <td>find_hotel</td>\n",
       "      <td>{'hotel-area': 'east', 'hotel-parking': 'yes'}</td>\n",
       "    </tr>\n",
       "    <tr>\n",
       "      <th>4</th>\n",
       "      <td>I'm looking for a nice place to stay, somewher...</td>\n",
       "      <td>find_hotel|hotel-internet=yes|hotel-pricerange...</td>\n",
       "      <td>[find_hotel, hotel-internet=yes, hotel-pricera...</td>\n",
       "      <td>find_hotel</td>\n",
       "      <td>{'hotel-internet': 'yes', 'hotel-pricerange': ...</td>\n",
       "    </tr>\n",
       "  </tbody>\n",
       "</table>\n",
       "</div>"
      ],
      "text/plain": [
       "                                                text  \\\n",
       "0  I'm looking for a local place to dine in the c...   \n",
       "1  My husband and I are celebrating our anniversa...   \n",
       "2  I'm looking for an expensive restaurant in the...   \n",
       "3  Are there any accommodations in the east part ...   \n",
       "4  I'm looking for a nice place to stay, somewher...   \n",
       "\n",
       "                                          answer_raw  \\\n",
       "0  find_restaurant|restaurant-area=centre|restaur...   \n",
       "1                                         find_hotel   \n",
       "2  find_restaurant|restaurant-area=centre|restaur...   \n",
       "3       find_hotel|hotel-area=east|hotel-parking=yes   \n",
       "4  find_hotel|hotel-internet=yes|hotel-pricerange...   \n",
       "\n",
       "                                              answer           intent  \\\n",
       "0  [find_restaurant, restaurant-area=centre, rest...  find_restaurant   \n",
       "1                                       [find_hotel]       find_hotel   \n",
       "2  [find_restaurant, restaurant-area=centre, rest...  find_restaurant   \n",
       "3   [find_hotel, hotel-area=east, hotel-parking=yes]       find_hotel   \n",
       "4  [find_hotel, hotel-internet=yes, hotel-pricera...       find_hotel   \n",
       "\n",
       "                                               slots  \n",
       "0  {'restaurant-area': 'centre', 'restaurant-food...  \n",
       "1                                                 {}  \n",
       "2  {'restaurant-area': 'centre', 'restaurant-pric...  \n",
       "3     {'hotel-area': 'east', 'hotel-parking': 'yes'}  \n",
       "4  {'hotel-internet': 'yes', 'hotel-pricerange': ...  "
      ]
     },
     "execution_count": 27,
     "metadata": {},
     "output_type": "execute_result"
    }
   ],
   "source": [
    "# split the slots\n",
    "dev_df[\"answer\"] = dev_df[\"answer_raw\"].apply(lambda text: text.split(\"|\"))\n",
    "# get the intent\n",
    "dev_df[\"intent\"] = dev_df[\"answer\"].apply(lambda item:item[0])\n",
    "# build the slots into dictionary format\n",
    "dev_df[\"slots\"] = dev_df[\"answer\"].apply(list2dict)\n",
    "\n",
    "dev_df.head()"
   ]
  },
  {
   "cell_type": "code",
   "execution_count": 28,
   "id": "fc25ee2d-8f60-40d6-a2ef-d50a92d0db34",
   "metadata": {},
   "outputs": [
    {
     "name": "stdout",
     "output_type": "stream",
     "text": [
      "Writing to  ./data/dev.csv\n",
      "Completed\n"
     ]
    }
   ],
   "source": [
    "output_file = \"./data/dev.csv\"\n",
    "print(\"Writing to \", output_file)\n",
    "dev_df.to_csv(output_file, index=False)\n",
    "print(\"Completed\")"
   ]
  },
  {
   "cell_type": "code",
   "execution_count": 29,
   "id": "0ffdaf1c-f14b-4ebd-a3db-9a81c425bc9e",
   "metadata": {},
   "outputs": [
    {
     "name": "stdout",
     "output_type": "stream",
     "text": [
      "Writing to  ./data/dev.json\n",
      "Completed\n"
     ]
    }
   ],
   "source": [
    "output_file = \"./data/dev.json\"\n",
    "print(\"Writing to \", output_file)\n",
    "dev_df.to_json(output_file, orient=\"records\")\n",
    "print(\"Completed\")"
   ]
  }
 ],
 "metadata": {
  "kernelspec": {
   "display_name": "Python 3 (ipykernel)",
   "language": "python",
   "name": "python3"
  },
  "language_info": {
   "codemirror_mode": {
    "name": "ipython",
    "version": 3
   },
   "file_extension": ".py",
   "mimetype": "text/x-python",
   "name": "python",
   "nbconvert_exporter": "python",
   "pygments_lexer": "ipython3",
   "version": "3.11.8"
  }
 },
 "nbformat": 4,
 "nbformat_minor": 5
}
