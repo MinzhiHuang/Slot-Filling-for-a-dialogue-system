{
 "cells": [
  {
   "cell_type": "markdown",
   "id": "b41cfe56-28a0-44a9-b4a4-dc49485b61d5",
   "metadata": {},
   "source": [
    "# End to end prediction model\n",
    "This notebook records all the methods of predicting slots and intents."
   ]
  },
  {
   "cell_type": "code",
   "execution_count": 101,
   "id": "5bf1cfff-0a65-49ef-8cf1-922f4c194060",
   "metadata": {},
   "outputs": [],
   "source": [
    "from llama_cpp import Llama\n",
    "import pandas as pd\n",
    "import time\n",
    "from IPython.display import Image\n",
    "\n",
    "from tqdm.auto import tqdm\n",
    "\n",
    "\n",
    "from sklearn.feature_extraction.text import TfidfVectorizer\n",
    "from sklearn.linear_model import LogisticRegression\n",
    "from sklearn.metrics import accuracy_score\n",
    "\n",
    "from transformers import AutoModelForQuestionAnswering, AutoTokenizer, pipeline\n",
    "\n",
    "from groq import Groq\n",
    "import json\n",
    "\n",
    "from sentence_transformers import SentenceTransformer"
   ]
  },
  {
   "cell_type": "markdown",
   "id": "fd8eaafb-e694-4f2e-a06f-45382a2b894a",
   "metadata": {},
   "source": [
    "![title](img/mixed_architecture_model.png)"
   ]
  },
  {
   "cell_type": "code",
   "execution_count": 43,
   "id": "872ef72f-4a4e-41ef-8d4c-3e8e1a52fad2",
   "metadata": {},
   "outputs": [],
   "source": [
    "tqdm.pandas()"
   ]
  },
  {
   "cell_type": "code",
   "execution_count": 2,
   "id": "2933a536-9ca1-47bd-8513-7f56bc67e567",
   "metadata": {},
   "outputs": [],
   "source": [
    "# Groq API key\n",
    "f = open(\"./data/credentials.json\")\n",
    "key = json.load(f)\n",
    "client = Groq(api_key=key.get(\"GROQ_API_KEY\",\"\"))"
   ]
  },
  {
   "cell_type": "markdown",
   "id": "695053f0-d21f-443a-875c-7acac2f175c1",
   "metadata": {},
   "source": [
    "## Read preprocessed data\n",
    "In `01_preprocessing.ipynb`, we have our train, dev, and test sets preprocessed."
   ]
  },
  {
   "cell_type": "code",
   "execution_count": 3,
   "id": "7323c8f7-9318-4511-a2d1-b1edd180ee23",
   "metadata": {},
   "outputs": [
    {
     "name": "stdout",
     "output_type": "stream",
     "text": [
      "Index(['text', 'answer', 'intent', 'slots', 'text_lower'], dtype='object')\n",
      "Index(['text', 'answer_raw', 'answer', 'intent', 'slots', 'text_lower'], dtype='object')\n",
      "Index(['text', 'text_lower'], dtype='object')\n"
     ]
    }
   ],
   "source": [
    "train_file = \"./data/train.csv\"\n",
    "train_df = pd.read_csv(train_file)\n",
    "\n",
    "dev_filename = \"./data/dev.csv\"\n",
    "dev_df = pd.read_csv(dev_filename)\n",
    "\n",
    "test_filename = \"./data/test.csv\"\n",
    "test_df = pd.read_csv(test_filename)\n",
    "\n",
    "# create `text_lower` column for all dfs\n",
    "train_df[\"text_lower\"] = train_df[\"text\"].str.lower()\n",
    "dev_df[\"text_lower\"] = dev_df[\"text\"].str.lower()\n",
    "test_df[\"text_lower\"] = test_df[\"text\"].str.lower()\n",
    "\n",
    "# change `slot` column back to dictionary type\n",
    "train_df[\"slots\"] = train_df[\"slots\"].progress_apply(lambda s: eval(s))\n",
    "dev_df[\"slots\"] = dev_df[\"slots\"].progress_apply(lambda s: eval(s))\n",
    "\n",
    "print(train_df.columns)\n",
    "print(dev_df.columns)\n",
    "print(test_df.columns)"
   ]
  },
  {
   "cell_type": "markdown",
   "id": "2e33dfca-de08-4d0d-99f6-5930620e94d7",
   "metadata": {},
   "source": [
    "## Step 1: Intent Classifier\n",
    "for this module, we are using simple TFIDF Vectorizer and Logistic Regression for binary classification.\n",
    "The code in this section is inspired by `02_intent_classifier.ipynb`."
   ]
  },
  {
   "cell_type": "code",
   "execution_count": 4,
   "id": "4c673177-9b84-4eef-a72a-b2e824fd8dd8",
   "metadata": {},
   "outputs": [
    {
     "name": "stdout",
     "output_type": "stream",
     "text": [
      "(3760, 989)\n"
     ]
    }
   ],
   "source": [
    "vectorizer = TfidfVectorizer()\n",
    "x_train = train_df[\"text_lower\"]\n",
    "x_train_tfidf = vectorizer.fit_transform(x_train)\n",
    "print(x_train_tfidf.shape)"
   ]
  },
  {
   "cell_type": "code",
   "execution_count": 5,
   "id": "cee666b6-0299-44b3-97b1-7579792cdb2e",
   "metadata": {},
   "outputs": [
    {
     "name": "stdout",
     "output_type": "stream",
     "text": [
      "(3760,)\n",
      "Completed\n"
     ]
    }
   ],
   "source": [
    "# train using logistic regression\n",
    "clf = LogisticRegression(random_state=42)\n",
    "y_train = train_df[\"intent\"]\n",
    "print(y_train.shape)\n",
    "clf.fit(x_train_tfidf, y_train)\n",
    "print(\"Completed\")"
   ]
  },
  {
   "cell_type": "code",
   "execution_count": 6,
   "id": "751664ed-4016-4010-84ba-99a386da3112",
   "metadata": {},
   "outputs": [
    {
     "name": "stdout",
     "output_type": "stream",
     "text": [
      "Train score = 0.9973404255319149\n",
      "Accuracy score = 0.9973404255319149\n"
     ]
    }
   ],
   "source": [
    "train_pred = clf.predict(x_train_tfidf)\n",
    "print(\"Train score =\", clf.score(x_train_tfidf, y_train))\n",
    "print(\"Accuracy score =\", accuracy_score(y_train, train_pred)) # should be the same"
   ]
  },
  {
   "cell_type": "code",
   "execution_count": 7,
   "id": "7217f1a6-583e-4da7-86d2-fbc80e83bb61",
   "metadata": {},
   "outputs": [
    {
     "name": "stdout",
     "output_type": "stream",
     "text": [
      "(413, 989)\n",
      "Dev accuracy = 99.27360774818402\n",
      "Dev accuracy = 99.27360774818402\n"
     ]
    }
   ],
   "source": [
    "# dev evaluation\n",
    "x_dev = dev_df[\"text_lower\"]\n",
    "x_dev_tfidf = vectorizer.transform(x_dev)\n",
    "print(x_dev_tfidf.shape)\n",
    "y_dev = dev_df[\"intent\"]\n",
    "dev_score = clf.score(x_dev_tfidf, y_dev)\n",
    "dev_pred = clf.predict(x_dev_tfidf)\n",
    "print(\"Dev accuracy =\", accuracy_score(y_dev, dev_pred) * 100)\n",
    "print(\"Dev accuracy =\", dev_score * 100)"
   ]
  },
  {
   "cell_type": "code",
   "execution_count": 8,
   "id": "53496f6f-76b6-4543-85b1-a884c3594759",
   "metadata": {},
   "outputs": [
    {
     "name": "stdout",
     "output_type": "stream",
     "text": [
      "Index(['text', 'answer', 'intent', 'slots', 'text_lower', 'pred_intent'], dtype='object')\n",
      "Index(['text', 'answer_raw', 'answer', 'intent', 'slots', 'text_lower',\n",
      "       'pred_intent'],\n",
      "      dtype='object')\n",
      "Index(['text', 'text_lower', 'pred_intent'], dtype='object')\n"
     ]
    }
   ],
   "source": [
    "# Assign predictions to dfs\n",
    "train_df[\"pred_intent\"] = train_pred\n",
    "dev_df[\"pred_intent\"] = dev_pred\n",
    "\n",
    "x_test = test_df[\"text_lower\"]\n",
    "x_test_tfidf = vectorizer.transform(x_test)\n",
    "test_df[\"pred_intent\"] = clf.predict(x_test_tfidf)\n",
    "\n",
    "print(train_df.columns)\n",
    "print(dev_df.columns)\n",
    "print(test_df.columns)"
   ]
  },
  {
   "cell_type": "markdown",
   "id": "e50311d7-8cce-4a09-99c3-01863619e4d6",
   "metadata": {},
   "source": [
    "## Step 2: Hotel Star Extractor\n",
    "for this module, we will be using RoBERTa question-answering model to extract star rating from context."
   ]
  },
  {
   "cell_type": "code",
   "execution_count": 12,
   "id": "259f7686-2059-4fc5-948f-1f3f8cd2cc75",
   "metadata": {},
   "outputs": [
    {
     "data": {
      "text/plain": [
       "'3'"
      ]
     },
     "execution_count": 12,
     "metadata": {},
     "output_type": "execute_result"
    }
   ],
   "source": [
    "model_name = \"deepset/roberta-base-squad2\"\n",
    "\n",
    "roberta_qa_model = pipeline('question-answering', model=model_name, tokenizer=model_name)\n",
    "\n",
    "def get_star(text, nlp_model=roberta_qa_model):\n",
    "    \"\"\"\n",
    "        extract the star from the text\n",
    "    \"\"\"\n",
    "    query = {\n",
    "    'question': 'What is the star rating?',\n",
    "    'context': text\n",
    "    }\n",
    "    res = nlp_model(query)\n",
    "\n",
    "    result = res[\"answer\"]\n",
    "    \n",
    "    # post-processing result\n",
    "    result = (result\n",
    "             .replace(\"star\", \"\")\n",
    "             .replace(\"five\", \"5\")\n",
    "             .replace(\"four\", \"4\")\n",
    "             .replace(\"three\", \"3\")\n",
    "             .replace(\"two\", \"2\")\n",
    "             .replace(\"one\", \"1\")\n",
    "             .replace(\"zero\", \"0\")\n",
    "             .strip()\n",
    "            )[0]  # get the first digit only\n",
    "    \n",
    "    if result not in ['0', '1', '2', '3', '4', '5']:\n",
    "        result = \"\"\n",
    "        \n",
    "    return result\n",
    "\n",
    "s = \"\"\"I need a three star hotel with internet. Can you help?\"\"\"\n",
    "get_star(s)"
   ]
  },
  {
   "cell_type": "code",
   "execution_count": 13,
   "id": "fa966d23-de9e-401f-a017-90f346a13215",
   "metadata": {},
   "outputs": [
    {
     "name": "stdout",
     "output_type": "stream",
     "text": [
      "Index(['text', 'answer', 'intent', 'slots', 'text_lower', 'pred_intent',\n",
      "       'pred_hotel-stars'],\n",
      "      dtype='object')\n",
      "Index(['text', 'answer_raw', 'answer', 'intent', 'slots', 'text_lower',\n",
      "       'pred_intent', 'pred_hotel-stars'],\n",
      "      dtype='object')\n",
      "Index(['text', 'text_lower', 'pred_intent', 'pred_hotel-stars'], dtype='object')\n"
     ]
    }
   ],
   "source": [
    "# Assign predictions to dfs\n",
    "train_df[\"pred_hotel-stars\"] = train_df[\"text_lower\"].progress_apply(lambda context: get_star(context))\n",
    "dev_df[\"pred_hotel-stars\"] = dev_df[\"text_lower\"].progress_apply(lambda context: get_star(context))\n",
    "test_df[\"pred_hotel-stars\"] = test_df[\"text_lower\"].progress_apply(lambda context: get_star(context))\n",
    "\n",
    "print(train_df.columns)\n",
    "print(dev_df.columns)\n",
    "print(test_df.columns)"
   ]
  },
  {
   "cell_type": "markdown",
   "id": "56bad26b-ad2b-40d6-830d-16b61d360cef",
   "metadata": {},
   "source": [
    "## Step 3: Food Type Extractor\n",
    "for this module, again we will be using RoBERTa question-answering model to extract restaurant food type from context."
   ]
  },
  {
   "cell_type": "code",
   "execution_count": 15,
   "id": "1870f95a-e1d9-4aab-82ad-5594262bb163",
   "metadata": {},
   "outputs": [
    {
     "data": {
      "text/plain": [
       "'modern european'"
      ]
     },
     "execution_count": 15,
     "metadata": {},
     "output_type": "execute_result"
    }
   ],
   "source": [
    "model_name = \"deepset/roberta-base-squad2\"\n",
    "\n",
    "roberta_qa_model = pipeline('question-answering', model=model_name, tokenizer=model_name)\n",
    "\n",
    "possible_food_types = [\n",
    "    'afghan', 'afternoon tea', 'turkish', 'mexican', 'swiss', \n",
    "    'modern european', 'barbeque', 'swedish', 'french', 'kosher', \n",
    "    'modern global', 'traditional', 'german', 'scandinavian', 'bbq', \n",
    "    'corsica', 'brazilian', 'eritrean', 'european', 'gastropub', 'steakhouse', \n",
    "    'unusual', 'english', 'australian', 'north indian', 'spanish', 'korean', \n",
    "    'morrocan', 'international', 'northern european', 'persian', 'vegetarian', \n",
    "    'south indian', 'danish', 'dontcare', 'singaporean', 'catalan', 'welsh', \n",
    "    'north african', 'modern', 'japanese', 'muslim', 'middle eastern', 'global', \n",
    "    'panasian', 'christmas', 'lebanese', 'hungarian', 'americas', 'jamaican', \n",
    "    'british', 'chinese', 'romanian', 'bistro', 'cuban', 'russian', 'cantonese', \n",
    "    'thai', 'mediterranean', 'fusion', 'greek', 'polynesian', 'latin american', \n",
    "    'asian oriental', 'australasian', 'sri lankan', 'irish', 'new zealand', 'pizza', \n",
    "    'belgian', 'venetian', 'creative', 'modern eclectic', 'basque', 'molecular gastronomy', \n",
    "    'caribbean', 'portuguese', 'scottish', 'tuscan', 'moroccan', 'light bites', 'north american', \n",
    "    'canapes', 'halal', 'asian', 'indonesian', 'malaysian', 'crossover', 'indian', 'african', \n",
    "    'polish', 'the americas', 'italian', 'modern american', 'chines', 'world', 'austrian', \n",
    "    'singapore', 'seafood', 'vietnamese'\n",
    "]\n",
    "\n",
    "def get_food_type(text, nlp_model=roberta_qa_model, possible_labels=possible_food_types):\n",
    "    \"\"\"\n",
    "        extract the food type from the text\n",
    "    \"\"\"\n",
    "    query = {\n",
    "    'question': 'What is the food origin?',\n",
    "    'context': text\n",
    "    }\n",
    "    res = nlp_model(query)\n",
    "\n",
    "    result = res[\"answer\"]\n",
    "    \n",
    "    # post-processing result\n",
    "    result = (result\n",
    "                 .lower()\n",
    "                 # .replace(\"the\", \"\")\n",
    "                 .replace(\"food\", \"\")\n",
    "                 .replace(\"'s\", \"\")\n",
    "                 .replace(\".\", \"\")\n",
    "                 .replace(\",\", \"\")\n",
    "                 .replace(\"-\", \" \")\n",
    "                 .replace(\"restaurant\", \"\")\n",
    "                 .replace(\" or \", \" \")\n",
    "                 .strip()\n",
    "                )        \n",
    "\n",
    "    # some special case for naming conventions\n",
    "    if (\"modern\" in text.lower()) and (not \"modern\" in result):\n",
    "        result = \"modern \" + result\n",
    "    # if \"cuisine\" in text.lower():\n",
    "    #     result = result + \" cuisine\"\n",
    "    if result == \"sea\":\n",
    "        result = \"seafood\"\n",
    "    if (result == \"americas\") and (\"the americas\" in text.lower()):\n",
    "        result = \"the americas\"\n",
    "    if \"gastropub\" in result:\n",
    "        result = \"gastropub\"\n",
    "    if \"bistro\" in text.lower():\n",
    "        result = \"bistro\"\n",
    "\n",
    "    if result not in possible_labels:\n",
    "        result = \"\"\n",
    "        \n",
    "    return result\n",
    "\n",
    "s = \"\"\"Hello, I'm looking for a modern european restaurant in the center.\"\"\"\n",
    "get_food_type(s)"
   ]
  },
  {
   "cell_type": "code",
   "execution_count": 16,
   "id": "378e52a5-17d5-48d6-b2d1-c1a26b7f94f6",
   "metadata": {},
   "outputs": [
    {
     "name": "stdout",
     "output_type": "stream",
     "text": [
      "Index(['text', 'answer', 'intent', 'slots', 'text_lower', 'pred_intent',\n",
      "       'pred_hotel-stars', 'pred_restaurant-food'],\n",
      "      dtype='object')\n",
      "Index(['text', 'answer_raw', 'answer', 'intent', 'slots', 'text_lower',\n",
      "       'pred_intent', 'pred_hotel-stars', 'pred_restaurant-food'],\n",
      "      dtype='object')\n",
      "Index(['text', 'text_lower', 'pred_intent', 'pred_hotel-stars',\n",
      "       'pred_restaurant-food'],\n",
      "      dtype='object')\n"
     ]
    }
   ],
   "source": [
    "# Assign predictions to dfs\n",
    "train_df[\"pred_restaurant-food\"] = train_df[\"text_lower\"].progress_apply(lambda context: get_food_type(context))\n",
    "dev_df[\"pred_restaurant-food\"] = dev_df[\"text_lower\"].progress_apply(lambda context: get_food_type(context))\n",
    "test_df[\"pred_restaurant-food\"] = test_df[\"text_lower\"].progress_apply(lambda context: get_food_type(context))\n",
    "\n",
    "print(train_df.columns)\n",
    "print(dev_df.columns)\n",
    "print(test_df.columns)"
   ]
  },
  {
   "cell_type": "markdown",
   "id": "79e0e44d-1d75-4573-9dba-a1747b012e4a",
   "metadata": {},
   "source": [
    "## Step 4: Restaurant Name and Hotel Name Extractor\n",
    "In this module, we will use Mixtral 7X8B to extract restaurant name and hotel name from context."
   ]
  },
  {
   "cell_type": "code",
   "execution_count": 17,
   "id": "4490a1ad-516e-4067-abe1-1d1d9490000a",
   "metadata": {},
   "outputs": [],
   "source": [
    "# method_1 using local GPU resource\n",
    "model_path = \"/Users/haydenchiu/.cache/lm-studio/models/TheBloke/Mixtral-8x7B-Instruct-v0.1-GGUF/\""
   ]
  },
  {
   "cell_type": "code",
   "execution_count": 19,
   "id": "5bd76ed6-22f4-45db-84cc-dbc4a63237b4",
   "metadata": {},
   "outputs": [],
   "source": [
    "n_gpu_layers = -1\n",
    "n_batch = 512\n",
    "n_ctx=512\n",
    "\n",
    "# Set gpu_layers to the number of layers to offload to GPU. Set to 0 if no GPU acceleration is available on your system.\n",
    "llm = Llama(\n",
    "    model_path= model_path + \"mixtral-8x7b-instruct-v0.1.Q4_K_M.gguf\",  # Download the model file first\n",
    "    n_ctx=n_ctx,  # The max sequence length to use - note that longer sequence lengths require much more resources\n",
    "    n_threads=8,            # The number of CPU threads to use, tailor to your system and the resulting performance\n",
    "    n_gpu_layers=n_gpu_layers, # The number of layers to offload to GPU, if you have GPU acceleration available\n",
    "    n_batch=n_batch,\n",
    "    f16_kv=True,\n",
    "    chat_format=\"llama-2\",\n",
    "    verbose=False, #change to True if you want to investigate the logs\n",
    ")"
   ]
  },
  {
   "cell_type": "code",
   "execution_count": 26,
   "id": "39d71e7b-4bf8-4f3b-acd9-f7816f067ddf",
   "metadata": {},
   "outputs": [],
   "source": [
    "def get_name(context, llm=llm, quiet=True):\n",
    "    \"\"\"\n",
    "        get a name of using Mixtral\n",
    "    \"\"\"\n",
    "    tic = time.perf_counter()\n",
    "    \n",
    "    output = llm.create_chat_completion(\n",
    "    messages = [\n",
    "        {\"role\": \"system\", \"content\": \"You are a helpful assistant that outputs in JSON.\"},\n",
    "        {\"role\": \"user\", \"content\": str({\"context\": context, \n",
    "                                'question':'what is the name of restaurant or hotel?'\n",
    "                               }) + \"Concise answer in json format using information in the context in format\\{name:\\}. Return \"\" if no name is found in the context.\"\n",
    "        }\n",
    "        ],\n",
    "    response_format={\n",
    "        \"type\": \"json_object\",\n",
    "        },\n",
    "    )\n",
    "    \n",
    "    result = output['choices'][0]['message']['content']\n",
    "    \n",
    "    try:\n",
    "        result = eval(result).get(\"name\", \"\")\n",
    "    except:\n",
    "        print(\"Error parsing result \", result)\n",
    "        result = \"\"\n",
    "\n",
    "    # post processing\n",
    "    result = (result\n",
    "                 .lower()\n",
    "                 # .replace(\"the\", \"\")\n",
    "                 .replace(\"hotel\", \"\")\n",
    "                 .replace(\"'s\", \"\")\n",
    "                 .replace(\".\", \"\")\n",
    "                 # .replace(\",\", \"\")\n",
    "                 # .replace(\"-\", \" \")\n",
    "                 # .replace(\"restaurant\", \"\")\n",
    "                 # .replace(\" or \", \" \")\n",
    "                 .strip()\n",
    "             )\n",
    "\n",
    "    if (\"not \" in result) or (\"no \" in result) or (\"none \" in result):\n",
    "        # indication name not found\n",
    "        result = \"\"\n",
    "        \n",
    "    toc = time.perf_counter()\n",
    "    if not quiet:\n",
    "        print(f\"extracted gloss in {toc - tic:0.4f} seconds\")\n",
    "        \n",
    "    return result"
   ]
  },
  {
   "cell_type": "code",
   "execution_count": 27,
   "id": "60838d51-a1c6-4cc7-af1a-3a03ee9bbc6e",
   "metadata": {},
   "outputs": [
    {
     "name": "stdout",
     "output_type": "stream",
     "text": [
      "extracted gloss in 2.3521 seconds\n",
      "city centre north b and b\n",
      "extracted gloss in 19.2120 seconds\n",
      "\n"
     ]
    }
   ],
   "source": [
    "context = \"I am looking for info about a hotel called city centre north b and b. Can you help?\"\n",
    "print(get_name(context, quiet=False))\n",
    "\n",
    "context = \"Hi, I am looking for a guesthouse with free parking. Can you help me?\"\n",
    "print(get_name(context, quiet=False))"
   ]
  },
  {
   "cell_type": "markdown",
   "id": "d0046e7c-f7cb-4e92-b385-ed5c9c833114",
   "metadata": {},
   "source": [
    "As we can see, the runtime of running Mixtral 7X8B locally is not ideal. Therefore we will switch to API call approach"
   ]
  },
  {
   "cell_type": "code",
   "execution_count": 33,
   "id": "bc6a93aa-3d63-471a-b9db-11d125f9d623",
   "metadata": {},
   "outputs": [
    {
     "name": "stdout",
     "output_type": "stream",
     "text": [
      "extracted gloss in 0.3978 seconds\n",
      "city centre north b and b\n",
      "extracted gloss in 0.3081 seconds\n",
      "\n",
      "extracted gloss in 0.2795 seconds\n",
      "alyesbray lodge guest house\n"
     ]
    }
   ],
   "source": [
    "# method_2: using Groq API calls\n",
    "SLEEP_TIME = 0.1\n",
    "\n",
    "def get_name_api(row, intent, client=client, quiet=True):\n",
    "    \"\"\"\n",
    "        get name using Mixtral API\n",
    "    \"\"\"\n",
    "    tic = time.perf_counter()\n",
    "    \n",
    "    pred_intent = row[\"pred_intent\"]\n",
    "    context = row[\"text_lower\"]\n",
    "\n",
    "    if pred_intent == intent:\n",
    "        try:\n",
    "            completion = client.chat.completions.create(\n",
    "                model=\"mixtral-8x7b-32768\",\n",
    "                messages=[\n",
    "                    {\n",
    "                        \"role\": \"system\",\n",
    "                        \"content\": \"JSON\"\n",
    "                    },\n",
    "                    {\n",
    "                        \"role\": \"user\",\n",
    "                        \"content\": str({\"context\": context, \n",
    "                                    'question':f'what is the name of {pred_intent.split(\"_\")[1]}?'\n",
    "                                   }) + \"Concise answer in json format using information in the context in format\\{name:\\}. Return \"\" if no name is found in the context.\"\n",
    "                    }\n",
    "                ],\n",
    "                temperature=0.0,\n",
    "                max_tokens=50,\n",
    "                top_p=1,\n",
    "                stream=False,\n",
    "                response_format={\"type\": \"json_object\"},\n",
    "                stop=None,\n",
    "            )\n",
    "            \n",
    "            time.sleep(SLEEP_TIME)\n",
    "            result = completion.choices[0].message\n",
    "        except Exception as error:\n",
    "            print(\"Error calling API \", error)\n",
    "            result = \"\"\n",
    "            \n",
    "        try:\n",
    "            result = eval(result.content).get(\"name\", \"\")\n",
    "        except:\n",
    "            print(\"Error parsing result \", result)\n",
    "            result = \"\"\n",
    "    \n",
    "        # post processing\n",
    "        result = (result\n",
    "                     .lower()\n",
    "                     # .replace(\"the\", \"\")\n",
    "                     .replace(\"hotel\", \"\")\n",
    "                     .replace(\"'s\", \"\")\n",
    "                     .replace(\".\", \"\")\n",
    "                     # .replace(\",\", \"\")\n",
    "                     # .replace(\"-\", \" \")\n",
    "                     # .replace(\"restaurant\", \"\")\n",
    "                     # .replace(\" or \", \" \")\n",
    "                     .strip()\n",
    "                 )\n",
    "    \n",
    "        if (\"not \" in result) or (\"no \" in result) or (\"none \" in result):\n",
    "            # indication name not found\n",
    "            result = \"\"\n",
    "            \n",
    "        toc = time.perf_counter()\n",
    "        if not quiet:\n",
    "            print(f\"extracted gloss in {toc - tic:0.4f} seconds\")\n",
    "\n",
    "    else:\n",
    "        result = \"\"\n",
    "        \n",
    "    return result\n",
    "\n",
    "\n",
    "# unit test\n",
    "intent = \"find_hotel\"\n",
    "data = {'text_lower': [\"I am looking for info about a hotel called city centre north b and b. Can you help?\"], \n",
    "        'pred_intent': [\"find_hotel\"]}\n",
    "row = pd.DataFrame.from_dict(data)\n",
    "context = \"I am looking for info about a hotel called city centre north b and b. Can you help?\"\n",
    "print(get_name_api(row.iloc[0], intent, quiet=False))\n",
    "\n",
    "\n",
    "intent = \"find_hotel\"\n",
    "data = {'text_lower': [\"Hi, I am looking for a guesthouse with free parking. Can you help me?\"], \n",
    "        'pred_intent': [\"find_hotel\"]}\n",
    "row = pd.DataFrame.from_dict(data)\n",
    "print(get_name_api(row.iloc[0], intent, quiet=False))\n",
    "\n",
    "intent = \"find_hotel\"\n",
    "data = {'text_lower': [\"I am looking for a hotel named alyesbray lodge guest house.\"], \n",
    "        'pred_intent': [\"find_hotel\"]}\n",
    "row = pd.DataFrame.from_dict(data)\n",
    "print(get_name_api(row.iloc[0], intent, quiet=False))"
   ]
  },
  {
   "cell_type": "code",
   "execution_count": 47,
   "id": "aaa4d84c-57db-4133-8f55-0e128a5b7310",
   "metadata": {
    "scrolled": true
   },
   "outputs": [
    {
     "data": {
      "application/vnd.jupyter.widget-view+json": {
       "model_id": "ae3844919ead4bd0b429a63638b7567d",
       "version_major": 2,
       "version_minor": 0
      },
      "text/plain": [
       "  0%|          | 0/413 [00:00<?, ?it/s]"
      ]
     },
     "metadata": {},
     "output_type": "display_data"
    },
    {
     "name": "stdout",
     "output_type": "stream",
     "text": [
      "Error parsing result  ChoiceMessage(content='{\"name\": null}', role='assistant', tool_calls=None)\n",
      "Error parsing result  ChoiceMessage(content='{\"name\": null}', role='assistant', tool_calls=None)\n",
      "Error parsing result  ChoiceMessage(content='{\"name\": null}', role='assistant', tool_calls=None)\n",
      "Error parsing result  ChoiceMessage(content='{\"name\": null}', role='assistant', tool_calls=None)\n",
      "Error parsing result  ChoiceMessage(content='{\"name\": null}', role='assistant', tool_calls=None)\n",
      "Error parsing result  ChoiceMessage(content='{\"name\": null}', role='assistant', tool_calls=None)\n",
      "Error parsing result  ChoiceMessage(content='{\"name\": null}', role='assistant', tool_calls=None)\n",
      "Error parsing result  ChoiceMessage(content='{\"name\": null}', role='assistant', tool_calls=None)\n",
      "Error parsing result  ChoiceMessage(content='{\"name\": null}', role='assistant', tool_calls=None)\n",
      "Error parsing result  ChoiceMessage(content='{\"name\": null}', role='assistant', tool_calls=None)\n",
      "Error parsing result  ChoiceMessage(content='{\"name\": null}', role='assistant', tool_calls=None)\n",
      "Error parsing result  ChoiceMessage(content='{\"name\": null}', role='assistant', tool_calls=None)\n",
      "Error parsing result  ChoiceMessage(content='{\"name\": null}', role='assistant', tool_calls=None)\n",
      "Error parsing result  ChoiceMessage(content='{\"name\": null}', role='assistant', tool_calls=None)\n",
      "Error parsing result  ChoiceMessage(content='{\"name\": null}', role='assistant', tool_calls=None)\n",
      "Error parsing result  ChoiceMessage(content='{\"name\": null}', role='assistant', tool_calls=None)\n",
      "Error parsing result  ChoiceMessage(content='{\"name\": null}', role='assistant', tool_calls=None)\n",
      "Error parsing result  ChoiceMessage(content='{\"name\": null}', role='assistant', tool_calls=None)\n",
      "Error parsing result  ChoiceMessage(content='{\"name\": null}', role='assistant', tool_calls=None)\n",
      "Error parsing result  ChoiceMessage(content='{\"name\": null}', role='assistant', tool_calls=None)\n",
      "Error parsing result  ChoiceMessage(content='{\"name\": null}', role='assistant', tool_calls=None)\n",
      "Error parsing result  ChoiceMessage(content='{\"name\": null}', role='assistant', tool_calls=None)\n",
      "Error parsing result  ChoiceMessage(content='{\"name\": null}', role='assistant', tool_calls=None)\n",
      "Error parsing result  ChoiceMessage(content='{\"name\": null}', role='assistant', tool_calls=None)\n"
     ]
    },
    {
     "data": {
      "application/vnd.jupyter.widget-view+json": {
       "model_id": "17a510904153486e80f5daaa2c31cb94",
       "version_major": 2,
       "version_minor": 0
      },
      "text/plain": [
       "  0%|          | 0/400 [00:00<?, ?it/s]"
      ]
     },
     "metadata": {},
     "output_type": "display_data"
    },
    {
     "name": "stdout",
     "output_type": "stream",
     "text": [
      "Error parsing result  ChoiceMessage(content='{\"name\": null}', role='assistant', tool_calls=None)\n",
      "Error parsing result  ChoiceMessage(content='{\"name\": null}', role='assistant', tool_calls=None)\n",
      "Error parsing result  ChoiceMessage(content='{\"name\": null}', role='assistant', tool_calls=None)\n",
      "Error parsing result  ChoiceMessage(content='{\"name\": null}', role='assistant', tool_calls=None)\n",
      "Error parsing result  ChoiceMessage(content='{\"name\": null}', role='assistant', tool_calls=None)\n",
      "Error parsing result  ChoiceMessage(content='{\"name\": null}', role='assistant', tool_calls=None)\n",
      "Error parsing result  ChoiceMessage(content='{\"name\": null}', role='assistant', tool_calls=None)\n",
      "Error parsing result  ChoiceMessage(content='{\"name\": null}', role='assistant', tool_calls=None)\n",
      "Error parsing result  ChoiceMessage(content='{\"name\": null}', role='assistant', tool_calls=None)\n",
      "Error parsing result  ChoiceMessage(content='{\"name\": null}', role='assistant', tool_calls=None)\n",
      "Error parsing result  ChoiceMessage(content='{\"name\": null}', role='assistant', tool_calls=None)\n",
      "Error parsing result  ChoiceMessage(content='{\"name\": null}', role='assistant', tool_calls=None)\n",
      "Error calling API  Error code: 400 - {'error': {'message': \"Failed to generate JSON. Please adjust your prompt. See 'failed_generation' for more details.\", 'type': 'invalid_request_error', 'code': 'json_validate_failed', 'failed_generation': '{\"name\": \"el shaddai\"}\\n\\nThe name of the hotel is found in the context as \"el shaddai hotel\". Therefore, the JSON response is {\"name\": \"el shaddai\"}'}}\n",
      "Error parsing result  \n",
      "Error parsing result  ChoiceMessage(content='{\"name\": null}', role='assistant', tool_calls=None)\n",
      "Error parsing result  ChoiceMessage(content='{\"name\": null}', role='assistant', tool_calls=None)\n",
      "Error parsing result  ChoiceMessage(content='{\"name\": null}', role='assistant', tool_calls=None)\n",
      "Error parsing result  ChoiceMessage(content='{\"name\": null}', role='assistant', tool_calls=None)\n",
      "Error parsing result  ChoiceMessage(content='{\"name\": null}', role='assistant', tool_calls=None)\n",
      "Error parsing result  ChoiceMessage(content='{\"name\": null}', role='assistant', tool_calls=None)\n",
      "Error parsing result  ChoiceMessage(content='{\"name\": null}', role='assistant', tool_calls=None)\n",
      "Error parsing result  ChoiceMessage(content='{\"name\": null}', role='assistant', tool_calls=None)\n",
      "Error parsing result  ChoiceMessage(content='{\"name\": null}', role='assistant', tool_calls=None)\n",
      "Error parsing result  ChoiceMessage(content='{\"name\": null}', role='assistant', tool_calls=None)\n",
      "Error parsing result  ChoiceMessage(content='{\"name\": null}', role='assistant', tool_calls=None)\n",
      "Error parsing result  ChoiceMessage(content='{\"name\": null}', role='assistant', tool_calls=None)\n",
      "Error parsing result  ChoiceMessage(content='{\"name\": null}', role='assistant', tool_calls=None)\n",
      "Error parsing result  ChoiceMessage(content='{\"name\": null}', role='assistant', tool_calls=None)\n",
      "Error parsing result  ChoiceMessage(content='{\"name\": null}', role='assistant', tool_calls=None)\n",
      "Error parsing result  ChoiceMessage(content='{\"name\": null}', role='assistant', tool_calls=None)\n",
      "Error parsing result  ChoiceMessage(content='{\"name\": null}', role='assistant', tool_calls=None)\n",
      "Error parsing result  ChoiceMessage(content='{\"name\": null}', role='assistant', tool_calls=None)\n",
      "Error parsing result  ChoiceMessage(content='{\"name\": null}', role='assistant', tool_calls=None)\n"
     ]
    },
    {
     "data": {
      "application/vnd.jupyter.widget-view+json": {
       "model_id": "7316281e1e1c4563be123a89ec8f4341",
       "version_major": 2,
       "version_minor": 0
      },
      "text/plain": [
       "  0%|          | 0/413 [00:00<?, ?it/s]"
      ]
     },
     "metadata": {},
     "output_type": "display_data"
    },
    {
     "name": "stdout",
     "output_type": "stream",
     "text": [
      "Error calling API  Error code: 400 - {'error': {'message': \"Failed to generate JSON. Please adjust your prompt. See 'failed_generation' for more details.\", 'type': 'invalid_request_error', 'code': 'json_validate_failed', 'failed_generation': '{\"name\": \"cotto\"}\\n\\n(Note: This answer is based on the assumption that the name of the restaurant in the given context is cotto. If that is not the case, the answer would be {\"name\": \"\"}'}}\n",
      "Error parsing result  \n",
      "Error calling API  Error code: 400 - {'error': {'message': \"Failed to generate JSON. Please adjust your prompt. See 'failed_generation' for more details.\", 'type': 'invalid_request_error', 'code': 'json_validate_failed', 'failed_generation': '{\"name\": \"The Rice Ship\" or \"The Rice Boat\"}'}}\n",
      "Error parsing result  \n",
      "Error parsing result  ChoiceMessage(content='{\"name\": null}', role='assistant', tool_calls=None)\n",
      "Error parsing result  ChoiceMessage(content='{\"name\": null}', role='assistant', tool_calls=None)\n",
      "Error parsing result  ChoiceMessage(content='{\"name\": null}', role='assistant', tool_calls=None)\n",
      "Error parsing result  ChoiceMessage(content='{\"name\": null}', role='assistant', tool_calls=None)\n",
      "Error parsing result  ChoiceMessage(content='{\"name\": null}', role='assistant', tool_calls=None)\n",
      "Error parsing result  ChoiceMessage(content='{\"name\": null}', role='assistant', tool_calls=None)\n",
      "Error parsing result  ChoiceMessage(content='{\"name\": null}', role='assistant', tool_calls=None)\n",
      "Error parsing result  ChoiceMessage(content='{\"name\": null}', role='assistant', tool_calls=None)\n",
      "Error parsing result  ChoiceMessage(content='{\"name\": null}', role='assistant', tool_calls=None)\n",
      "Error parsing result  ChoiceMessage(content='{\"name\": null}', role='assistant', tool_calls=None)\n",
      "Error parsing result  ChoiceMessage(content='{\"name\": null}', role='assistant', tool_calls=None)\n",
      "Error parsing result  ChoiceMessage(content='{\"name\": null}', role='assistant', tool_calls=None)\n",
      "Error parsing result  ChoiceMessage(content='{\"name\": null}', role='assistant', tool_calls=None)\n",
      "Error parsing result  ChoiceMessage(content='{\"name\": null}', role='assistant', tool_calls=None)\n",
      "Error parsing result  ChoiceMessage(content='{\"name\": null}', role='assistant', tool_calls=None)\n",
      "Error parsing result  ChoiceMessage(content='{\"name\": null}', role='assistant', tool_calls=None)\n",
      "Error parsing result  ChoiceMessage(content='{\"name\": null}', role='assistant', tool_calls=None)\n",
      "Error parsing result  ChoiceMessage(content='{\"name\": null}', role='assistant', tool_calls=None)\n",
      "Error parsing result  ChoiceMessage(content='{\"name\": null}', role='assistant', tool_calls=None)\n",
      "Error parsing result  ChoiceMessage(content='{\"name\": null}', role='assistant', tool_calls=None)\n",
      "Error parsing result  ChoiceMessage(content='{\"name\": null}', role='assistant', tool_calls=None)\n"
     ]
    },
    {
     "data": {
      "application/vnd.jupyter.widget-view+json": {
       "model_id": "3a2a297ce4ce4c36a8fd190b25ea9faf",
       "version_major": 2,
       "version_minor": 0
      },
      "text/plain": [
       "  0%|          | 0/400 [00:00<?, ?it/s]"
      ]
     },
     "metadata": {},
     "output_type": "display_data"
    },
    {
     "name": "stdout",
     "output_type": "stream",
     "text": [
      "Error parsing result  ChoiceMessage(content='{\"name\": null}', role='assistant', tool_calls=None)\n",
      "Error parsing result  ChoiceMessage(content='{\"name\": null}', role='assistant', tool_calls=None)\n",
      "Error parsing result  ChoiceMessage(content='{\"name\": null}', role='assistant', tool_calls=None)\n",
      "Error parsing result  ChoiceMessage(content='{\"name\": null}', role='assistant', tool_calls=None)\n",
      "Error parsing result  ChoiceMessage(content='{\"name\": null}', role='assistant', tool_calls=None)\n",
      "Error parsing result  ChoiceMessage(content='{\"name\": null}', role='assistant', tool_calls=None)\n",
      "Error parsing result  ChoiceMessage(content='{\"name\": null}', role='assistant', tool_calls=None)\n",
      "Error parsing result  ChoiceMessage(content='{\"name\": null}', role='assistant', tool_calls=None)\n",
      "Error parsing result  ChoiceMessage(content='{\"name\": null}', role='assistant', tool_calls=None)\n",
      "Error parsing result  ChoiceMessage(content='{\"name\": null}', role='assistant', tool_calls=None)\n",
      "Error parsing result  ChoiceMessage(content='{\"name\": null}', role='assistant', tool_calls=None)\n",
      "Error parsing result  ChoiceMessage(content='{\"name\": null}', role='assistant', tool_calls=None)\n",
      "Error parsing result  ChoiceMessage(content='{\"name\": null}', role='assistant', tool_calls=None)\n",
      "Error parsing result  ChoiceMessage(content='{\"name\": null}', role='assistant', tool_calls=None)\n",
      "Error parsing result  ChoiceMessage(content='{\"name\": null}', role='assistant', tool_calls=None)\n",
      "Error parsing result  ChoiceMessage(content='{\"name\": null}', role='assistant', tool_calls=None)\n",
      "Error parsing result  ChoiceMessage(content='{\"name\": null}', role='assistant', tool_calls=None)\n",
      "Error parsing result  ChoiceMessage(content='{\"name\": null}', role='assistant', tool_calls=None)\n",
      "Error parsing result  ChoiceMessage(content='{\"name\": null}', role='assistant', tool_calls=None)\n",
      "Error parsing result  ChoiceMessage(content='{\"name\": null}', role='assistant', tool_calls=None)\n",
      "Error parsing result  ChoiceMessage(content='{\"name\": null}', role='assistant', tool_calls=None)\n",
      "Error parsing result  ChoiceMessage(content='{\"name\": null}', role='assistant', tool_calls=None)\n",
      "Error parsing result  ChoiceMessage(content='{\"name\": null}', role='assistant', tool_calls=None)\n",
      "Error calling API  Error code: 400 - {'error': {'message': \"Failed to generate JSON. Please adjust your prompt. See 'failed_generation' for more details.\", 'type': 'invalid_request_error', 'code': 'json_validate_failed', 'failed_generation': '{\"name\": \"Kohinoor\"}\\n\\nThe context provided contains the name of the restaurant, which is \"Kohinoor\". The name of the restaurant is being returned in the format {\"name\": \"Kohinoor\"}'}}\n",
      "Error parsing result  \n",
      "Error parsing result  ChoiceMessage(content='{\"name\": null}', role='assistant', tool_calls=None)\n",
      "Error parsing result  ChoiceMessage(content='{\"name\": null}', role='assistant', tool_calls=None)\n",
      "Error parsing result  ChoiceMessage(content='{\"name\": null}', role='assistant', tool_calls=None)\n",
      "Error parsing result  ChoiceMessage(content='{\"name\": null}', role='assistant', tool_calls=None)\n",
      "Error parsing result  ChoiceMessage(content='{\"name\": null}', role='assistant', tool_calls=None)\n",
      "Error parsing result  ChoiceMessage(content='{\"name\": null}', role='assistant', tool_calls=None)\n",
      "Error parsing result  ChoiceMessage(content='{\"name\": null}', role='assistant', tool_calls=None)\n",
      "Error parsing result  ChoiceMessage(content='{\"name\": null}', role='assistant', tool_calls=None)\n",
      "Index(['text', 'answer_raw', 'answer', 'intent', 'slots', 'text_lower',\n",
      "       'pred_intent', 'pred_hotel-stars', 'pred_restaurant-food',\n",
      "       'pred_hotel-name', 'pred_restaurant-name'],\n",
      "      dtype='object')\n",
      "Index(['text', 'text_lower', 'pred_intent', 'pred_hotel-stars',\n",
      "       'pred_restaurant-food', 'pred_hotel-name', 'pred_restaurant-name'],\n",
      "      dtype='object')\n"
     ]
    }
   ],
   "source": [
    "# Assign predictions to dfs\n",
    "\n",
    "# We are not running inference on train set to save time...\n",
    "\n",
    "# train_df[\"pred_hotel-name\"] = train_df.progress_apply(lambda x: get_name_api(x,\"find_hotel\"), axis=1)\n",
    "dev_df[\"pred_hotel-name\"] = dev_df.progress_apply(lambda x: get_name_api(x,\"find_hotel\"), axis=1)\n",
    "test_df[\"pred_hotel-name\"] = test_df.progress_apply(lambda x: get_name_api(x,\"find_hotel\"), axis=1)\n",
    "\n",
    "# train_df[\"pred_restaurant-name\"] = train_df.progress_apply(lambda x: get_name_api(x,\"find_restaurant\"), axis=1)\n",
    "dev_df[\"pred_restaurant-name\"] = dev_df.progress_apply(lambda x: get_name_api(x,\"find_restaurant\"), axis=1)\n",
    "test_df[\"pred_restaurant-name\"] = test_df.progress_apply(lambda x: get_name_api(x,\"find_restaurant\"), axis=1)\n",
    "\n",
    "# print(train_df.columns)\n",
    "print(dev_df.columns)\n",
    "print(test_df.columns)"
   ]
  },
  {
   "cell_type": "markdown",
   "id": "c39ae918-8dc6-44ae-b5e3-e6eaee1acbe3",
   "metadata": {},
   "source": [
    "## Step 5: All of the other slots extraction\n",
    "This module we will use `LaBASE` embedding and logistic regression to classify the rest of the slots."
   ]
  },
  {
   "cell_type": "code",
   "execution_count": 72,
   "id": "a414a3d9-81b5-462d-9e1f-35c6e0ae9999",
   "metadata": {},
   "outputs": [
    {
     "data": {
      "text/plain": [
       "(2, 768)"
      ]
     },
     "execution_count": 72,
     "metadata": {},
     "output_type": "execute_result"
    }
   ],
   "source": [
    "slot_names = [\n",
    "    #'hotel-name', \n",
    "    #'hotel-stars', \n",
    "    'hotel-area', 'hotel-internet', 'hotel-pricerange', 'hotel-parking','hotel-type',\n",
    "    #'restaurant-food', \n",
    "    #'restaurant-name', \n",
    "    'restaurant-pricerange', \n",
    "    'restaurant-area'\n",
    "]\n",
    "\n",
    "model = SentenceTransformer(\"sentence-transformers/LaBSE\")\n",
    "embeddings = model.encode(['I want to have some chinese food.', 'I love Japanese food.'])\n",
    "embeddings.shape"
   ]
  },
  {
   "cell_type": "code",
   "execution_count": 73,
   "id": "64e66321-cb15-440c-915b-66ba4166f2ac",
   "metadata": {},
   "outputs": [
    {
     "name": "stdout",
     "output_type": "stream",
     "text": [
      "(3760, 768)\n"
     ]
    }
   ],
   "source": [
    "# train LR with training set text LaBSE sentence embedding\n",
    "x_train = train_df[\"text_lower\"]\n",
    "x_train = list(train_df[\"text_lower\"])\n",
    "x_train_labse = model.encode(x_train)\n",
    "\n",
    "print(x_train_labse.shape)"
   ]
  },
  {
   "cell_type": "code",
   "execution_count": 74,
   "id": "e2461d2c-c2f4-44e9-b8cb-0eff2d442e72",
   "metadata": {
    "scrolled": true
   },
   "outputs": [
    {
     "name": "stdout",
     "output_type": "stream",
     "text": [
      "Training for slot = hotel-area\n"
     ]
    },
    {
     "data": {
      "application/vnd.jupyter.widget-view+json": {
       "model_id": "1c24eca30d8e48b1a6b0cc4209377667",
       "version_major": 2,
       "version_minor": 0
      },
      "text/plain": [
       "  0%|          | 0/3760 [00:00<?, ?it/s]"
      ]
     },
     "metadata": {},
     "output_type": "display_data"
    },
    {
     "name": "stdout",
     "output_type": "stream",
     "text": [
      "\n",
      "Train score = 97.90 %\n",
      "------------\n",
      "Training for slot = hotel-internet\n"
     ]
    },
    {
     "data": {
      "application/vnd.jupyter.widget-view+json": {
       "model_id": "a91b73d5401f4f3f872b06772fcb9f84",
       "version_major": 2,
       "version_minor": 0
      },
      "text/plain": [
       "  0%|          | 0/3760 [00:00<?, ?it/s]"
      ]
     },
     "metadata": {},
     "output_type": "display_data"
    },
    {
     "name": "stdout",
     "output_type": "stream",
     "text": [
      "\n",
      "Train score = 98.67 %\n",
      "------------\n",
      "Training for slot = hotel-pricerange\n"
     ]
    },
    {
     "data": {
      "application/vnd.jupyter.widget-view+json": {
       "model_id": "53ba681213d64723b6bd389754e52fbe",
       "version_major": 2,
       "version_minor": 0
      },
      "text/plain": [
       "  0%|          | 0/3760 [00:00<?, ?it/s]"
      ]
     },
     "metadata": {},
     "output_type": "display_data"
    },
    {
     "name": "stdout",
     "output_type": "stream",
     "text": [
      "\n",
      "Train score = 98.22 %\n",
      "------------\n",
      "Training for slot = hotel-parking\n"
     ]
    },
    {
     "data": {
      "application/vnd.jupyter.widget-view+json": {
       "model_id": "e3c15838e8994a52ac4e09b34de6a7ae",
       "version_major": 2,
       "version_minor": 0
      },
      "text/plain": [
       "  0%|          | 0/3760 [00:00<?, ?it/s]"
      ]
     },
     "metadata": {},
     "output_type": "display_data"
    },
    {
     "name": "stdout",
     "output_type": "stream",
     "text": [
      "\n",
      "Train score = 98.67 %\n",
      "------------\n",
      "Training for slot = hotel-type\n"
     ]
    },
    {
     "data": {
      "application/vnd.jupyter.widget-view+json": {
       "model_id": "b855d6758e044de7963d474b3094c7ca",
       "version_major": 2,
       "version_minor": 0
      },
      "text/plain": [
       "  0%|          | 0/3760 [00:00<?, ?it/s]"
      ]
     },
     "metadata": {},
     "output_type": "display_data"
    },
    {
     "name": "stdout",
     "output_type": "stream",
     "text": [
      "\n",
      "Train score = 98.96 %\n",
      "------------\n",
      "Training for slot = restaurant-pricerange\n"
     ]
    },
    {
     "data": {
      "application/vnd.jupyter.widget-view+json": {
       "model_id": "75417bfb0cec476892db290ca7fa8c3a",
       "version_major": 2,
       "version_minor": 0
      },
      "text/plain": [
       "  0%|          | 0/3760 [00:00<?, ?it/s]"
      ]
     },
     "metadata": {},
     "output_type": "display_data"
    },
    {
     "name": "stdout",
     "output_type": "stream",
     "text": [
      "\n",
      "Train score = 97.74 %\n",
      "------------\n",
      "Training for slot = restaurant-area\n"
     ]
    },
    {
     "data": {
      "application/vnd.jupyter.widget-view+json": {
       "model_id": "3c1813d7dd984343a2ae649a2acfed2d",
       "version_major": 2,
       "version_minor": 0
      },
      "text/plain": [
       "  0%|          | 0/3760 [00:00<?, ?it/s]"
      ]
     },
     "metadata": {},
     "output_type": "display_data"
    },
    {
     "name": "stdout",
     "output_type": "stream",
     "text": [
      "\n",
      "Train score = 98.70 %\n",
      "------------\n",
      "Completed\n"
     ]
    }
   ],
   "source": [
    "master_clf = dict()\n",
    "\n",
    "for slot in slot_names:\n",
    "    print(\"Training for slot =\", slot)\n",
    "    clf = LogisticRegression(random_state=42)\n",
    "    y_train = train_df[\"slots\"].progress_apply(lambda slots:slots.get(slot, \"\"))\n",
    "    # print(y_train.shape)\n",
    "    print()\n",
    "    clf.fit(x_train_labse, y_train)\n",
    "    print(f\"Train score = {clf.score(x_train_labse, y_train) * 100:.2f} %\")\n",
    "    master_clf[slot] = clf\n",
    "    print(\"------------\")\n",
    "\n",
    "print(\"Completed\")"
   ]
  },
  {
   "cell_type": "code",
   "execution_count": 75,
   "id": "7555f6bc-6aa5-47ce-8723-04fb6f6f183c",
   "metadata": {},
   "outputs": [
    {
     "name": "stdout",
     "output_type": "stream",
     "text": [
      "{}\n"
     ]
    },
    {
     "data": {
      "text/html": [
       "<div>\n",
       "<style scoped>\n",
       "    .dataframe tbody tr th:only-of-type {\n",
       "        vertical-align: middle;\n",
       "    }\n",
       "\n",
       "    .dataframe tbody tr th {\n",
       "        vertical-align: top;\n",
       "    }\n",
       "\n",
       "    .dataframe thead th {\n",
       "        text-align: right;\n",
       "    }\n",
       "</style>\n",
       "<table border=\"1\" class=\"dataframe\">\n",
       "  <thead>\n",
       "    <tr style=\"text-align: right;\">\n",
       "      <th></th>\n",
       "      <th>text</th>\n",
       "      <th>answer</th>\n",
       "      <th>intent</th>\n",
       "      <th>slots</th>\n",
       "      <th>text_lower</th>\n",
       "      <th>pred_intent</th>\n",
       "      <th>pred_hotel-stars</th>\n",
       "      <th>pred_restaurant-food</th>\n",
       "      <th>pred_slots</th>\n",
       "    </tr>\n",
       "  </thead>\n",
       "  <tbody>\n",
       "    <tr>\n",
       "      <th>0</th>\n",
       "      <td>Guten Tag, I am staying overnight in Cambridge...</td>\n",
       "      <td>['find_hotel', 'hotel-area=centre', 'hotel-int...</td>\n",
       "      <td>find_hotel</td>\n",
       "      <td>{'hotel-area': 'centre', 'hotel-internet': 'ye...</td>\n",
       "      <td>guten tag, i am staying overnight in cambridge...</td>\n",
       "      <td>find_hotel</td>\n",
       "      <td></td>\n",
       "      <td></td>\n",
       "      <td>{}</td>\n",
       "    </tr>\n",
       "    <tr>\n",
       "      <th>1</th>\n",
       "      <td>Hi there! Can you give me some info on Cityroomz?</td>\n",
       "      <td>['find_hotel', 'hotel-name=cityroomz']</td>\n",
       "      <td>find_hotel</td>\n",
       "      <td>{'hotel-name': 'cityroomz'}</td>\n",
       "      <td>hi there! can you give me some info on cityroomz?</td>\n",
       "      <td>find_hotel</td>\n",
       "      <td></td>\n",
       "      <td></td>\n",
       "      <td>{}</td>\n",
       "    </tr>\n",
       "    <tr>\n",
       "      <th>2</th>\n",
       "      <td>I am looking for a hotel named alyesbray lodge...</td>\n",
       "      <td>['find_hotel', 'hotel-name=alyesbray lodge gue...</td>\n",
       "      <td>find_hotel</td>\n",
       "      <td>{'hotel-name': 'alyesbray lodge guest house'}</td>\n",
       "      <td>i am looking for a hotel named alyesbray lodge...</td>\n",
       "      <td>find_hotel</td>\n",
       "      <td></td>\n",
       "      <td></td>\n",
       "      <td>{}</td>\n",
       "    </tr>\n",
       "    <tr>\n",
       "      <th>3</th>\n",
       "      <td>I am looking for a restaurant. I would like so...</td>\n",
       "      <td>['find_restaurant', 'restaurant-food=chinese',...</td>\n",
       "      <td>find_restaurant</td>\n",
       "      <td>{'restaurant-food': 'chinese', 'restaurant-pri...</td>\n",
       "      <td>i am looking for a restaurant. i would like so...</td>\n",
       "      <td>find_restaurant</td>\n",
       "      <td></td>\n",
       "      <td>chinese</td>\n",
       "      <td>{}</td>\n",
       "    </tr>\n",
       "    <tr>\n",
       "      <th>4</th>\n",
       "      <td>I'm looking for an expensive restaurant in the...</td>\n",
       "      <td>['find_restaurant', 'restaurant-area=centre', ...</td>\n",
       "      <td>find_restaurant</td>\n",
       "      <td>{'restaurant-area': 'centre', 'restaurant-pric...</td>\n",
       "      <td>i'm looking for an expensive restaurant in the...</td>\n",
       "      <td>find_restaurant</td>\n",
       "      <td></td>\n",
       "      <td></td>\n",
       "      <td>{}</td>\n",
       "    </tr>\n",
       "  </tbody>\n",
       "</table>\n",
       "</div>"
      ],
      "text/plain": [
       "                                                text  \\\n",
       "0  Guten Tag, I am staying overnight in Cambridge...   \n",
       "1  Hi there! Can you give me some info on Cityroomz?   \n",
       "2  I am looking for a hotel named alyesbray lodge...   \n",
       "3  I am looking for a restaurant. I would like so...   \n",
       "4  I'm looking for an expensive restaurant in the...   \n",
       "\n",
       "                                              answer           intent  \\\n",
       "0  ['find_hotel', 'hotel-area=centre', 'hotel-int...       find_hotel   \n",
       "1             ['find_hotel', 'hotel-name=cityroomz']       find_hotel   \n",
       "2  ['find_hotel', 'hotel-name=alyesbray lodge gue...       find_hotel   \n",
       "3  ['find_restaurant', 'restaurant-food=chinese',...  find_restaurant   \n",
       "4  ['find_restaurant', 'restaurant-area=centre', ...  find_restaurant   \n",
       "\n",
       "                                               slots  \\\n",
       "0  {'hotel-area': 'centre', 'hotel-internet': 'ye...   \n",
       "1                        {'hotel-name': 'cityroomz'}   \n",
       "2      {'hotel-name': 'alyesbray lodge guest house'}   \n",
       "3  {'restaurant-food': 'chinese', 'restaurant-pri...   \n",
       "4  {'restaurant-area': 'centre', 'restaurant-pric...   \n",
       "\n",
       "                                          text_lower      pred_intent  \\\n",
       "0  guten tag, i am staying overnight in cambridge...       find_hotel   \n",
       "1  hi there! can you give me some info on cityroomz?       find_hotel   \n",
       "2  i am looking for a hotel named alyesbray lodge...       find_hotel   \n",
       "3  i am looking for a restaurant. i would like so...  find_restaurant   \n",
       "4  i'm looking for an expensive restaurant in the...  find_restaurant   \n",
       "\n",
       "  pred_hotel-stars pred_restaurant-food pred_slots  \n",
       "0                                               {}  \n",
       "1                                               {}  \n",
       "2                                               {}  \n",
       "3                               chinese         {}  \n",
       "4                                               {}  "
      ]
     },
     "execution_count": 75,
     "metadata": {},
     "output_type": "execute_result"
    }
   ],
   "source": [
    "# create predicted dictionary for each item\n",
    "train_df[\"pred_slots\"] = train_df[\"text\"].apply(lambda x: dict())\n",
    "print(train_df.iloc[0][\"pred_slots\"])\n",
    "train_df.head()"
   ]
  },
  {
   "cell_type": "code",
   "execution_count": 76,
   "id": "feb8e67a-5646-4408-87ff-91fe643c1f77",
   "metadata": {},
   "outputs": [
    {
     "name": "stdout",
     "output_type": "stream",
     "text": [
      "Accuracy score = 97.89893617021276\n",
      "Accuracy score = 98.67021276595744\n",
      "Accuracy score = 98.21808510638299\n",
      "Accuracy score = 98.67021276595744\n",
      "Accuracy score = 98.9627659574468\n",
      "Accuracy score = 97.73936170212765\n",
      "Accuracy score = 98.6968085106383\n"
     ]
    }
   ],
   "source": [
    "# double check train scores\n",
    "for slot in slot_names:\n",
    "    y_pred = master_clf[slot].predict(x_train_labse)\n",
    "    # print(\"Train score =\", master_clf[slot].score(x_train_tfidf, y_train))\n",
    "    y_train = train_df[\"slots\"].apply(lambda slots:slots.get(slot, \"\"))\n",
    "    print(\"Accuracy score =\", accuracy_score(y_train, y_pred) * 100) # should be the same\n",
    "\n",
    "    # go through non-empty result and add to pred_slots\n",
    "    for i, item in enumerate(y_pred):\n",
    "        # print(i)\n",
    "        if item is not None and item != \"\":\n",
    "            item_slot = train_df.iloc[i][\"pred_slots\"]\n",
    "            # print(item_slot)\n",
    "            item_slot.update({slot:item})\n",
    "            train_df.at[i, \"pred_slots\"] = item_slot"
   ]
  },
  {
   "cell_type": "code",
   "execution_count": 77,
   "id": "64837b43-216b-484f-8e9e-7f95bc877263",
   "metadata": {},
   "outputs": [
    {
     "data": {
      "text/plain": [
       "0.8970744680851064"
      ]
     },
     "execution_count": 77,
     "metadata": {},
     "output_type": "execute_result"
    }
   ],
   "source": [
    "# get accuracy on slots\n",
    "def get_accuracy(gold_slots, pred_slots, slot_lists=slot_names):\n",
    "    \"\"\"\n",
    "        return accuracy of predicted slots vs gold slots in dictionary form\n",
    "    \"\"\"\n",
    "    correct_count = 0\n",
    "    for gold_slot, pred_slot in zip(gold_slots, pred_slots):\n",
    "        gold = {k:v \n",
    "                for k, v in gold_slot.items()\n",
    "                if k in slot_names\n",
    "               }\n",
    "        # print(gold)\n",
    "        sys = {k:v \n",
    "                for k, v in pred_slot.items()\n",
    "                if k in slot_names\n",
    "               }\n",
    "        # print(sys)\n",
    "        # if gold_slot == pred_slot:\n",
    "        if gold == sys:\n",
    "            correct_count += 1\n",
    "    return correct_count / len(gold_slots)\n",
    "\n",
    "get_accuracy(train_df[\"slots\"], train_df[\"pred_slots\"])"
   ]
  },
  {
   "cell_type": "code",
   "execution_count": 78,
   "id": "3e8f7328-5b65-485e-bfc3-bf2eb8551b3a",
   "metadata": {},
   "outputs": [
    {
     "name": "stdout",
     "output_type": "stream",
     "text": [
      "(413, 768)\n"
     ]
    },
    {
     "data": {
      "text/html": [
       "<div>\n",
       "<style scoped>\n",
       "    .dataframe tbody tr th:only-of-type {\n",
       "        vertical-align: middle;\n",
       "    }\n",
       "\n",
       "    .dataframe tbody tr th {\n",
       "        vertical-align: top;\n",
       "    }\n",
       "\n",
       "    .dataframe thead th {\n",
       "        text-align: right;\n",
       "    }\n",
       "</style>\n",
       "<table border=\"1\" class=\"dataframe\">\n",
       "  <thead>\n",
       "    <tr style=\"text-align: right;\">\n",
       "      <th></th>\n",
       "      <th>text</th>\n",
       "      <th>answer_raw</th>\n",
       "      <th>answer</th>\n",
       "      <th>intent</th>\n",
       "      <th>slots</th>\n",
       "      <th>text_lower</th>\n",
       "      <th>pred_intent</th>\n",
       "      <th>pred_hotel-stars</th>\n",
       "      <th>pred_restaurant-food</th>\n",
       "      <th>pred_hotel-name</th>\n",
       "      <th>pred_restaurant-name</th>\n",
       "      <th>pred_slots</th>\n",
       "    </tr>\n",
       "  </thead>\n",
       "  <tbody>\n",
       "    <tr>\n",
       "      <th>0</th>\n",
       "      <td>I'm looking for a local place to dine in the c...</td>\n",
       "      <td>find_restaurant|restaurant-area=centre|restaur...</td>\n",
       "      <td>['find_restaurant', 'restaurant-area=centre', ...</td>\n",
       "      <td>find_restaurant</td>\n",
       "      <td>{'restaurant-area': 'centre', 'restaurant-food...</td>\n",
       "      <td>i'm looking for a local place to dine in the c...</td>\n",
       "      <td>find_restaurant</td>\n",
       "      <td></td>\n",
       "      <td>chinese</td>\n",
       "      <td></td>\n",
       "      <td></td>\n",
       "      <td>{}</td>\n",
       "    </tr>\n",
       "    <tr>\n",
       "      <th>1</th>\n",
       "      <td>My husband and I are celebrating our anniversa...</td>\n",
       "      <td>find_hotel</td>\n",
       "      <td>['find_hotel']</td>\n",
       "      <td>find_hotel</td>\n",
       "      <td>{}</td>\n",
       "      <td>my husband and i are celebrating our anniversa...</td>\n",
       "      <td>find_hotel</td>\n",
       "      <td></td>\n",
       "      <td></td>\n",
       "      <td></td>\n",
       "      <td></td>\n",
       "      <td>{}</td>\n",
       "    </tr>\n",
       "    <tr>\n",
       "      <th>2</th>\n",
       "      <td>I'm looking for an expensive restaurant in the...</td>\n",
       "      <td>find_restaurant|restaurant-area=centre|restaur...</td>\n",
       "      <td>['find_restaurant', 'restaurant-area=centre', ...</td>\n",
       "      <td>find_restaurant</td>\n",
       "      <td>{'restaurant-area': 'centre', 'restaurant-pric...</td>\n",
       "      <td>i'm looking for an expensive restaurant in the...</td>\n",
       "      <td>find_restaurant</td>\n",
       "      <td></td>\n",
       "      <td></td>\n",
       "      <td></td>\n",
       "      <td></td>\n",
       "      <td>{}</td>\n",
       "    </tr>\n",
       "    <tr>\n",
       "      <th>3</th>\n",
       "      <td>Are there any accommodations in the east part ...</td>\n",
       "      <td>find_hotel|hotel-area=east|hotel-parking=yes</td>\n",
       "      <td>['find_hotel', 'hotel-area=east', 'hotel-parki...</td>\n",
       "      <td>find_hotel</td>\n",
       "      <td>{'hotel-area': 'east', 'hotel-parking': 'yes'}</td>\n",
       "      <td>are there any accommodations in the east part ...</td>\n",
       "      <td>find_hotel</td>\n",
       "      <td></td>\n",
       "      <td></td>\n",
       "      <td></td>\n",
       "      <td></td>\n",
       "      <td>{}</td>\n",
       "    </tr>\n",
       "    <tr>\n",
       "      <th>4</th>\n",
       "      <td>I'm looking for a nice place to stay, somewher...</td>\n",
       "      <td>find_hotel|hotel-internet=yes|hotel-pricerange...</td>\n",
       "      <td>['find_hotel', 'hotel-internet=yes', 'hotel-pr...</td>\n",
       "      <td>find_hotel</td>\n",
       "      <td>{'hotel-internet': 'yes', 'hotel-pricerange': ...</td>\n",
       "      <td>i'm looking for a nice place to stay, somewher...</td>\n",
       "      <td>find_hotel</td>\n",
       "      <td></td>\n",
       "      <td></td>\n",
       "      <td></td>\n",
       "      <td></td>\n",
       "      <td>{}</td>\n",
       "    </tr>\n",
       "  </tbody>\n",
       "</table>\n",
       "</div>"
      ],
      "text/plain": [
       "                                                text  \\\n",
       "0  I'm looking for a local place to dine in the c...   \n",
       "1  My husband and I are celebrating our anniversa...   \n",
       "2  I'm looking for an expensive restaurant in the...   \n",
       "3  Are there any accommodations in the east part ...   \n",
       "4  I'm looking for a nice place to stay, somewher...   \n",
       "\n",
       "                                          answer_raw  \\\n",
       "0  find_restaurant|restaurant-area=centre|restaur...   \n",
       "1                                         find_hotel   \n",
       "2  find_restaurant|restaurant-area=centre|restaur...   \n",
       "3       find_hotel|hotel-area=east|hotel-parking=yes   \n",
       "4  find_hotel|hotel-internet=yes|hotel-pricerange...   \n",
       "\n",
       "                                              answer           intent  \\\n",
       "0  ['find_restaurant', 'restaurant-area=centre', ...  find_restaurant   \n",
       "1                                     ['find_hotel']       find_hotel   \n",
       "2  ['find_restaurant', 'restaurant-area=centre', ...  find_restaurant   \n",
       "3  ['find_hotel', 'hotel-area=east', 'hotel-parki...       find_hotel   \n",
       "4  ['find_hotel', 'hotel-internet=yes', 'hotel-pr...       find_hotel   \n",
       "\n",
       "                                               slots  \\\n",
       "0  {'restaurant-area': 'centre', 'restaurant-food...   \n",
       "1                                                 {}   \n",
       "2  {'restaurant-area': 'centre', 'restaurant-pric...   \n",
       "3     {'hotel-area': 'east', 'hotel-parking': 'yes'}   \n",
       "4  {'hotel-internet': 'yes', 'hotel-pricerange': ...   \n",
       "\n",
       "                                          text_lower      pred_intent  \\\n",
       "0  i'm looking for a local place to dine in the c...  find_restaurant   \n",
       "1  my husband and i are celebrating our anniversa...       find_hotel   \n",
       "2  i'm looking for an expensive restaurant in the...  find_restaurant   \n",
       "3  are there any accommodations in the east part ...       find_hotel   \n",
       "4  i'm looking for a nice place to stay, somewher...       find_hotel   \n",
       "\n",
       "  pred_hotel-stars pred_restaurant-food pred_hotel-name pred_restaurant-name  \\\n",
       "0                               chinese                                        \n",
       "1                                                                              \n",
       "2                                                                              \n",
       "3                                                                              \n",
       "4                                                                              \n",
       "\n",
       "  pred_slots  \n",
       "0         {}  \n",
       "1         {}  \n",
       "2         {}  \n",
       "3         {}  \n",
       "4         {}  "
      ]
     },
     "execution_count": 78,
     "metadata": {},
     "output_type": "execute_result"
    }
   ],
   "source": [
    "# dev\n",
    "x_dev = dev_df[\"text_lower\"]\n",
    "x_dev = list(x_dev)\n",
    "x_dev_labse = model.encode(x_dev)\n",
    "\n",
    "print(x_dev_labse.shape)\n",
    "\n",
    "dev_df[\"pred_slots\"] = dev_df[\"text\"].apply(lambda x: dict())\n",
    "dev_df.head()"
   ]
  },
  {
   "cell_type": "code",
   "execution_count": 79,
   "id": "d0e429a2-71d4-4bf0-9630-417cb7c80d03",
   "metadata": {},
   "outputs": [
    {
     "name": "stdout",
     "output_type": "stream",
     "text": [
      "Slot prediction = hotel-area\n",
      "Dev accuracy = 95.88 %\n",
      "Slot prediction = hotel-internet\n",
      "Dev accuracy = 99.52 %\n",
      "Slot prediction = hotel-pricerange\n",
      "Dev accuracy = 98.55 %\n",
      "Slot prediction = hotel-parking\n",
      "Dev accuracy = 98.06 %\n",
      "Slot prediction = hotel-type\n",
      "Dev accuracy = 99.03 %\n",
      "Slot prediction = restaurant-pricerange\n",
      "Dev accuracy = 98.31 %\n",
      "Slot prediction = restaurant-area\n",
      "Dev accuracy = 98.06 %\n"
     ]
    }
   ],
   "source": [
    "# dev\n",
    "for slot in slot_names:\n",
    "    # y_dev = dev_df[\"target\"]\n",
    "    y_dev = dev_df[\"slots\"].apply(lambda slots:slots.get(slot, \"\"))\n",
    "    \n",
    "    dev_pred = master_clf[slot].predict(x_dev_labse)\n",
    "    # dev_score = clf.score(x_dev_tfidf, y_dev)\n",
    "    print(\"Slot prediction =\", slot)\n",
    "    print(f\"Dev accuracy = {accuracy_score(y_dev, dev_pred) * 100:.2f} %\")\n",
    "\n",
    "    # go through non-empty result and add to pred_slots\n",
    "    for i, item in enumerate(dev_pred):\n",
    "    # print(i)\n",
    "        if item is not None and item != \"\":\n",
    "            item_slot = dev_df.iloc[i][\"pred_slots\"]\n",
    "            # print(item_slot)\n",
    "            item_slot.update({slot:item})\n",
    "            dev_df.at[i, \"pred_slots\"] = item_slot\n",
    "            \n",
    "    # print(\"Dev accuracy =\", dev_score * 100)"
   ]
  },
  {
   "cell_type": "code",
   "execution_count": 80,
   "id": "456cfa7b-c876-4f5b-acf0-1babe778cdd5",
   "metadata": {},
   "outputs": [
    {
     "name": "stdout",
     "output_type": "stream",
     "text": [
      "Overall accuracy = 0.89 %\n"
     ]
    }
   ],
   "source": [
    "# calculate overall accuracy \n",
    "score = get_accuracy(dev_df[\"slots\"], dev_df[\"pred_slots\"])\n",
    "print(f\"Overall accuracy = {score:.2f} %\")"
   ]
  },
  {
   "cell_type": "code",
   "execution_count": 81,
   "id": "d147f380-0413-42cb-b53f-8f2c92db98e4",
   "metadata": {},
   "outputs": [
    {
     "name": "stdout",
     "output_type": "stream",
     "text": [
      "(400, 768)\n"
     ]
    },
    {
     "data": {
      "text/html": [
       "<div>\n",
       "<style scoped>\n",
       "    .dataframe tbody tr th:only-of-type {\n",
       "        vertical-align: middle;\n",
       "    }\n",
       "\n",
       "    .dataframe tbody tr th {\n",
       "        vertical-align: top;\n",
       "    }\n",
       "\n",
       "    .dataframe thead th {\n",
       "        text-align: right;\n",
       "    }\n",
       "</style>\n",
       "<table border=\"1\" class=\"dataframe\">\n",
       "  <thead>\n",
       "    <tr style=\"text-align: right;\">\n",
       "      <th></th>\n",
       "      <th>text</th>\n",
       "      <th>text_lower</th>\n",
       "      <th>pred_intent</th>\n",
       "      <th>pred_hotel-stars</th>\n",
       "      <th>pred_restaurant-food</th>\n",
       "      <th>pred_hotel-name</th>\n",
       "      <th>pred_restaurant-name</th>\n",
       "      <th>pred_slots</th>\n",
       "    </tr>\n",
       "  </thead>\n",
       "  <tbody>\n",
       "    <tr>\n",
       "      <th>0</th>\n",
       "      <td>Hello, I am looking for a restaurant in Cambri...</td>\n",
       "      <td>hello, i am looking for a restaurant in cambri...</td>\n",
       "      <td>find_restaurant</td>\n",
       "      <td></td>\n",
       "      <td></td>\n",
       "      <td></td>\n",
       "      <td>golden wok</td>\n",
       "      <td>{}</td>\n",
       "    </tr>\n",
       "    <tr>\n",
       "      <th>1</th>\n",
       "      <td>Hi, I'm looking for a hotel to stay in that in...</td>\n",
       "      <td>hi, i'm looking for a hotel to stay in that in...</td>\n",
       "      <td>find_hotel</td>\n",
       "      <td></td>\n",
       "      <td></td>\n",
       "      <td></td>\n",
       "      <td></td>\n",
       "      <td>{}</td>\n",
       "    </tr>\n",
       "    <tr>\n",
       "      <th>2</th>\n",
       "      <td>I am looking for a place to stay in the north ...</td>\n",
       "      <td>i am looking for a place to stay in the north ...</td>\n",
       "      <td>find_hotel</td>\n",
       "      <td>4</td>\n",
       "      <td></td>\n",
       "      <td></td>\n",
       "      <td></td>\n",
       "      <td>{}</td>\n",
       "    </tr>\n",
       "    <tr>\n",
       "      <th>3</th>\n",
       "      <td>I need a place to dine, and I'd like to know w...</td>\n",
       "      <td>i need a place to dine, and i'd like to know w...</td>\n",
       "      <td>find_restaurant</td>\n",
       "      <td></td>\n",
       "      <td>asian oriental</td>\n",
       "      <td></td>\n",
       "      <td></td>\n",
       "      <td>{}</td>\n",
       "    </tr>\n",
       "    <tr>\n",
       "      <th>4</th>\n",
       "      <td>I need a five starts hotel close to a mall and...</td>\n",
       "      <td>i need a five starts hotel close to a mall and...</td>\n",
       "      <td>find_hotel</td>\n",
       "      <td>5</td>\n",
       "      <td></td>\n",
       "      <td></td>\n",
       "      <td></td>\n",
       "      <td>{}</td>\n",
       "    </tr>\n",
       "  </tbody>\n",
       "</table>\n",
       "</div>"
      ],
      "text/plain": [
       "                                                text  \\\n",
       "0  Hello, I am looking for a restaurant in Cambri...   \n",
       "1  Hi, I'm looking for a hotel to stay in that in...   \n",
       "2  I am looking for a place to stay in the north ...   \n",
       "3  I need a place to dine, and I'd like to know w...   \n",
       "4  I need a five starts hotel close to a mall and...   \n",
       "\n",
       "                                          text_lower      pred_intent  \\\n",
       "0  hello, i am looking for a restaurant in cambri...  find_restaurant   \n",
       "1  hi, i'm looking for a hotel to stay in that in...       find_hotel   \n",
       "2  i am looking for a place to stay in the north ...       find_hotel   \n",
       "3  i need a place to dine, and i'd like to know w...  find_restaurant   \n",
       "4  i need a five starts hotel close to a mall and...       find_hotel   \n",
       "\n",
       "  pred_hotel-stars pred_restaurant-food pred_hotel-name pred_restaurant-name  \\\n",
       "0                                                                 golden wok   \n",
       "1                                                                              \n",
       "2                4                                                             \n",
       "3                        asian oriental                                        \n",
       "4                5                                                             \n",
       "\n",
       "  pred_slots  \n",
       "0         {}  \n",
       "1         {}  \n",
       "2         {}  \n",
       "3         {}  \n",
       "4         {}  "
      ]
     },
     "execution_count": 81,
     "metadata": {},
     "output_type": "execute_result"
    }
   ],
   "source": [
    "# test\n",
    "x_test = test_df[\"text_lower\"]\n",
    "x_test = list(x_test)\n",
    "x_test_labse = model.encode(x_test)\n",
    "\n",
    "print(x_test_labse.shape)\n",
    "\n",
    "# create predicted dictionary for each item\n",
    "test_df[\"pred_slots\"] = test_df[\"text\"].apply(lambda x: dict())\n",
    "test_df.head()"
   ]
  },
  {
   "cell_type": "code",
   "execution_count": 82,
   "id": "7a24ea0c-2ea7-48b3-ac0c-d901937b449b",
   "metadata": {},
   "outputs": [],
   "source": [
    "for slot in slot_names:\n",
    "    \n",
    "    test_pred = master_clf[slot].predict(x_test_labse)\n",
    "\n",
    "    # go through non-empty result and add to pred_slots\n",
    "    for i, item in enumerate(test_pred):\n",
    "    # print(i)\n",
    "        if item is not None and item != \"\":\n",
    "            item_slot = test_df.iloc[i][\"pred_slots\"]\n",
    "            # print(item_slot)\n",
    "            item_slot.update({slot:item})\n",
    "            test_df.at[i, \"pred_slots\"] = item_slot\n",
    "            "
   ]
  },
  {
   "cell_type": "markdown",
   "id": "cec90b8e-7f2d-4fb8-8d95-908c9d66a3d3",
   "metadata": {},
   "source": [
    "## Step 6: Consolidate intent and 11 slots"
   ]
  },
  {
   "cell_type": "code",
   "execution_count": 83,
   "id": "b3b0f2e2-14c9-45d4-890e-449f3ac4cd8d",
   "metadata": {},
   "outputs": [
    {
     "data": {
      "text/html": [
       "<div>\n",
       "<style scoped>\n",
       "    .dataframe tbody tr th:only-of-type {\n",
       "        vertical-align: middle;\n",
       "    }\n",
       "\n",
       "    .dataframe tbody tr th {\n",
       "        vertical-align: top;\n",
       "    }\n",
       "\n",
       "    .dataframe thead th {\n",
       "        text-align: right;\n",
       "    }\n",
       "</style>\n",
       "<table border=\"1\" class=\"dataframe\">\n",
       "  <thead>\n",
       "    <tr style=\"text-align: right;\">\n",
       "      <th></th>\n",
       "      <th>text</th>\n",
       "      <th>answer_raw</th>\n",
       "      <th>answer</th>\n",
       "      <th>intent</th>\n",
       "      <th>slots</th>\n",
       "      <th>text_lower</th>\n",
       "      <th>pred_intent</th>\n",
       "      <th>pred_hotel-stars</th>\n",
       "      <th>pred_restaurant-food</th>\n",
       "      <th>pred_hotel-name</th>\n",
       "      <th>pred_restaurant-name</th>\n",
       "      <th>pred_slots</th>\n",
       "    </tr>\n",
       "  </thead>\n",
       "  <tbody>\n",
       "    <tr>\n",
       "      <th>0</th>\n",
       "      <td>I'm looking for a local place to dine in the c...</td>\n",
       "      <td>find_restaurant|restaurant-area=centre|restaur...</td>\n",
       "      <td>['find_restaurant', 'restaurant-area=centre', ...</td>\n",
       "      <td>find_restaurant</td>\n",
       "      <td>{'restaurant-area': 'centre', 'restaurant-food...</td>\n",
       "      <td>i'm looking for a local place to dine in the c...</td>\n",
       "      <td>find_restaurant</td>\n",
       "      <td></td>\n",
       "      <td>chinese</td>\n",
       "      <td></td>\n",
       "      <td></td>\n",
       "      <td>{'restaurant-area': 'centre'}</td>\n",
       "    </tr>\n",
       "    <tr>\n",
       "      <th>1</th>\n",
       "      <td>My husband and I are celebrating our anniversa...</td>\n",
       "      <td>find_hotel</td>\n",
       "      <td>['find_hotel']</td>\n",
       "      <td>find_hotel</td>\n",
       "      <td>{}</td>\n",
       "      <td>my husband and i are celebrating our anniversa...</td>\n",
       "      <td>find_hotel</td>\n",
       "      <td></td>\n",
       "      <td></td>\n",
       "      <td></td>\n",
       "      <td></td>\n",
       "      <td>{}</td>\n",
       "    </tr>\n",
       "    <tr>\n",
       "      <th>2</th>\n",
       "      <td>I'm looking for an expensive restaurant in the...</td>\n",
       "      <td>find_restaurant|restaurant-area=centre|restaur...</td>\n",
       "      <td>['find_restaurant', 'restaurant-area=centre', ...</td>\n",
       "      <td>find_restaurant</td>\n",
       "      <td>{'restaurant-area': 'centre', 'restaurant-pric...</td>\n",
       "      <td>i'm looking for an expensive restaurant in the...</td>\n",
       "      <td>find_restaurant</td>\n",
       "      <td></td>\n",
       "      <td></td>\n",
       "      <td></td>\n",
       "      <td></td>\n",
       "      <td>{'restaurant-pricerange': 'expensive', 'restau...</td>\n",
       "    </tr>\n",
       "    <tr>\n",
       "      <th>3</th>\n",
       "      <td>Are there any accommodations in the east part ...</td>\n",
       "      <td>find_hotel|hotel-area=east|hotel-parking=yes</td>\n",
       "      <td>['find_hotel', 'hotel-area=east', 'hotel-parki...</td>\n",
       "      <td>find_hotel</td>\n",
       "      <td>{'hotel-area': 'east', 'hotel-parking': 'yes'}</td>\n",
       "      <td>are there any accommodations in the east part ...</td>\n",
       "      <td>find_hotel</td>\n",
       "      <td></td>\n",
       "      <td></td>\n",
       "      <td></td>\n",
       "      <td></td>\n",
       "      <td>{'hotel-area': 'east', 'hotel-parking': 'yes'}</td>\n",
       "    </tr>\n",
       "    <tr>\n",
       "      <th>4</th>\n",
       "      <td>I'm looking for a nice place to stay, somewher...</td>\n",
       "      <td>find_hotel|hotel-internet=yes|hotel-pricerange...</td>\n",
       "      <td>['find_hotel', 'hotel-internet=yes', 'hotel-pr...</td>\n",
       "      <td>find_hotel</td>\n",
       "      <td>{'hotel-internet': 'yes', 'hotel-pricerange': ...</td>\n",
       "      <td>i'm looking for a nice place to stay, somewher...</td>\n",
       "      <td>find_hotel</td>\n",
       "      <td></td>\n",
       "      <td></td>\n",
       "      <td></td>\n",
       "      <td></td>\n",
       "      <td>{'hotel-internet': 'yes', 'hotel-pricerange': ...</td>\n",
       "    </tr>\n",
       "  </tbody>\n",
       "</table>\n",
       "</div>"
      ],
      "text/plain": [
       "                                                text  \\\n",
       "0  I'm looking for a local place to dine in the c...   \n",
       "1  My husband and I are celebrating our anniversa...   \n",
       "2  I'm looking for an expensive restaurant in the...   \n",
       "3  Are there any accommodations in the east part ...   \n",
       "4  I'm looking for a nice place to stay, somewher...   \n",
       "\n",
       "                                          answer_raw  \\\n",
       "0  find_restaurant|restaurant-area=centre|restaur...   \n",
       "1                                         find_hotel   \n",
       "2  find_restaurant|restaurant-area=centre|restaur...   \n",
       "3       find_hotel|hotel-area=east|hotel-parking=yes   \n",
       "4  find_hotel|hotel-internet=yes|hotel-pricerange...   \n",
       "\n",
       "                                              answer           intent  \\\n",
       "0  ['find_restaurant', 'restaurant-area=centre', ...  find_restaurant   \n",
       "1                                     ['find_hotel']       find_hotel   \n",
       "2  ['find_restaurant', 'restaurant-area=centre', ...  find_restaurant   \n",
       "3  ['find_hotel', 'hotel-area=east', 'hotel-parki...       find_hotel   \n",
       "4  ['find_hotel', 'hotel-internet=yes', 'hotel-pr...       find_hotel   \n",
       "\n",
       "                                               slots  \\\n",
       "0  {'restaurant-area': 'centre', 'restaurant-food...   \n",
       "1                                                 {}   \n",
       "2  {'restaurant-area': 'centre', 'restaurant-pric...   \n",
       "3     {'hotel-area': 'east', 'hotel-parking': 'yes'}   \n",
       "4  {'hotel-internet': 'yes', 'hotel-pricerange': ...   \n",
       "\n",
       "                                          text_lower      pred_intent  \\\n",
       "0  i'm looking for a local place to dine in the c...  find_restaurant   \n",
       "1  my husband and i are celebrating our anniversa...       find_hotel   \n",
       "2  i'm looking for an expensive restaurant in the...  find_restaurant   \n",
       "3  are there any accommodations in the east part ...       find_hotel   \n",
       "4  i'm looking for a nice place to stay, somewher...       find_hotel   \n",
       "\n",
       "  pred_hotel-stars pred_restaurant-food pred_hotel-name pred_restaurant-name  \\\n",
       "0                               chinese                                        \n",
       "1                                                                              \n",
       "2                                                                              \n",
       "3                                                                              \n",
       "4                                                                              \n",
       "\n",
       "                                          pred_slots  \n",
       "0                      {'restaurant-area': 'centre'}  \n",
       "1                                                 {}  \n",
       "2  {'restaurant-pricerange': 'expensive', 'restau...  \n",
       "3     {'hotel-area': 'east', 'hotel-parking': 'yes'}  \n",
       "4  {'hotel-internet': 'yes', 'hotel-pricerange': ...  "
      ]
     },
     "execution_count": 83,
     "metadata": {},
     "output_type": "execute_result"
    }
   ],
   "source": [
    "dev_df.columns\n",
    "dev_df.head()"
   ]
  },
  {
   "cell_type": "code",
   "execution_count": 84,
   "id": "796918a7-5818-452a-9d63-22b8a3e05f20",
   "metadata": {},
   "outputs": [
    {
     "data": {
      "application/vnd.jupyter.widget-view+json": {
       "model_id": "1d64b67192ac4746b1bbb4f67a8bfaa1",
       "version_major": 2,
       "version_minor": 0
      },
      "text/plain": [
       "  0%|          | 0/413 [00:00<?, ?it/s]"
      ]
     },
     "metadata": {},
     "output_type": "display_data"
    },
    {
     "data": {
      "application/vnd.jupyter.widget-view+json": {
       "model_id": "f3dd23d2aa3d4c34a52e0f3060c66873",
       "version_major": 2,
       "version_minor": 0
      },
      "text/plain": [
       "  0%|          | 0/400 [00:00<?, ?it/s]"
      ]
     },
     "metadata": {},
     "output_type": "display_data"
    }
   ],
   "source": [
    "def update_pred_slots(row):\n",
    "    pred_slots = row[\"pred_slots\"]\n",
    "    for slot in ['pred_hotel-stars', 'pred_restaurant-food', 'pred_hotel-name', 'pred_restaurant-name']:\n",
    "        if row[slot] != \"\":\n",
    "            pred_slots[slot.split(\"_\")[1]] = row[slot]\n",
    "    return pred_slots\n",
    "\n",
    "dev_df[\"pred_slots\"] = dev_df.progress_apply(update_pred_slots, axis=1)\n",
    "test_df[\"pred_slots\"] = test_df.progress_apply(update_pred_slots, axis=1)"
   ]
  },
  {
   "cell_type": "code",
   "execution_count": 86,
   "id": "0a4874d4-28a1-4732-993b-04d85ac3a45b",
   "metadata": {},
   "outputs": [
    {
     "name": "stdout",
     "output_type": "stream",
     "text": [
      "Overall accuracy = 0.89 %\n"
     ]
    }
   ],
   "source": [
    "score = get_accuracy(dev_df[\"slots\"], dev_df[\"pred_slots\"])\n",
    "print(f\"Overall accuracy = {score:.2f} %\")"
   ]
  },
  {
   "cell_type": "code",
   "execution_count": 90,
   "id": "59c7a5d4-d071-42c0-8683-3b5195a87955",
   "metadata": {},
   "outputs": [],
   "source": [
    "# consolidate step 1 - 5\n",
    "def consolidation(data):\n",
    "    \"\"\"\n",
    "    \n",
    "    \"\"\"\n",
    "    df = data.copy()\n",
    "    \n",
    "    order = [\n",
    "        \"hotel-area\",\"hotel-internet\",\"hotel-name\",\"hotel-parking\",\"hotel-pricerange\",'hotel-stars',\"hotel-type\",\n",
    "        \"restaurant-area\",\"restaurant-food\",\"restaurant-name\",\"restaurant-pricerange\",\n",
    "    ]\n",
    "\n",
    "    def reorder_dict(dict, order):\n",
    "        reordered_dict = {key: dict[key] for key in order if key in dict.keys()}\n",
    "        return reordered_dict\n",
    "\n",
    "    df['pred_slots'] = df.progress_apply(lambda x: reorder_dict(x.pred_slots, order), axis=1)\n",
    "\n",
    "    def dict_2_list(dict):\n",
    "        l = []\n",
    "        for k, v in dict.items():\n",
    "            l.append(k +\"=\"+v)\n",
    "        return l\n",
    "    \n",
    "    df['pred_answers'] = df.progress_apply(lambda x: dict_2_list(x.pred_slots), axis=1)\n",
    "\n",
    "    def to_answer_raw(pred_intent, pred_answers):\n",
    "        pred_answers.insert(0, pred_intent)\n",
    "        s = \"|\".join(pred_answers)\n",
    "        return s\n",
    "\n",
    "    df['pred_answer_raw'] = df.progress_apply(lambda x: to_answer_raw(x.pred_intent, x.pred_answers), axis=1)\n",
    "    \n",
    "    return(df)"
   ]
  },
  {
   "cell_type": "code",
   "execution_count": 93,
   "id": "8a349ff3-507e-4bce-9d5a-a8ac2606a508",
   "metadata": {},
   "outputs": [
    {
     "data": {
      "application/vnd.jupyter.widget-view+json": {
       "model_id": "1ca284fc6a8a4a42a61b8861c5ffe4ae",
       "version_major": 2,
       "version_minor": 0
      },
      "text/plain": [
       "  0%|          | 0/413 [00:00<?, ?it/s]"
      ]
     },
     "metadata": {},
     "output_type": "display_data"
    },
    {
     "data": {
      "application/vnd.jupyter.widget-view+json": {
       "model_id": "3091d4b59df64104892058ababd2190f",
       "version_major": 2,
       "version_minor": 0
      },
      "text/plain": [
       "  0%|          | 0/413 [00:00<?, ?it/s]"
      ]
     },
     "metadata": {},
     "output_type": "display_data"
    },
    {
     "data": {
      "application/vnd.jupyter.widget-view+json": {
       "model_id": "bc69322934d24630b249a078a799bb32",
       "version_major": 2,
       "version_minor": 0
      },
      "text/plain": [
       "  0%|          | 0/413 [00:00<?, ?it/s]"
      ]
     },
     "metadata": {},
     "output_type": "display_data"
    },
    {
     "data": {
      "application/vnd.jupyter.widget-view+json": {
       "model_id": "83c1cd17064a41a4b38d8069b0c62b2f",
       "version_major": 2,
       "version_minor": 0
      },
      "text/plain": [
       "  0%|          | 0/400 [00:00<?, ?it/s]"
      ]
     },
     "metadata": {},
     "output_type": "display_data"
    },
    {
     "data": {
      "application/vnd.jupyter.widget-view+json": {
       "model_id": "8258fb2b4c7d4c84b10b62e0c08aba10",
       "version_major": 2,
       "version_minor": 0
      },
      "text/plain": [
       "  0%|          | 0/400 [00:00<?, ?it/s]"
      ]
     },
     "metadata": {},
     "output_type": "display_data"
    },
    {
     "data": {
      "application/vnd.jupyter.widget-view+json": {
       "model_id": "7a687dd053464438ac574d26d1fe1edb",
       "version_major": 2,
       "version_minor": 0
      },
      "text/plain": [
       "  0%|          | 0/400 [00:00<?, ?it/s]"
      ]
     },
     "metadata": {},
     "output_type": "display_data"
    }
   ],
   "source": [
    "dev_df = consolidation(dev_df)\n",
    "\n",
    "test_df = consolidation(test_df)"
   ]
  },
  {
   "cell_type": "code",
   "execution_count": 95,
   "id": "36216048-575b-4a2e-983f-4fd58df000a4",
   "metadata": {},
   "outputs": [
    {
     "data": {
      "text/html": [
       "<div>\n",
       "<style scoped>\n",
       "    .dataframe tbody tr th:only-of-type {\n",
       "        vertical-align: middle;\n",
       "    }\n",
       "\n",
       "    .dataframe tbody tr th {\n",
       "        vertical-align: top;\n",
       "    }\n",
       "\n",
       "    .dataframe thead th {\n",
       "        text-align: right;\n",
       "    }\n",
       "</style>\n",
       "<table border=\"1\" class=\"dataframe\">\n",
       "  <thead>\n",
       "    <tr style=\"text-align: right;\">\n",
       "      <th></th>\n",
       "      <th>text</th>\n",
       "      <th>answer_raw</th>\n",
       "      <th>answer</th>\n",
       "      <th>intent</th>\n",
       "      <th>slots</th>\n",
       "      <th>text_lower</th>\n",
       "      <th>pred_intent</th>\n",
       "      <th>pred_hotel-stars</th>\n",
       "      <th>pred_restaurant-food</th>\n",
       "      <th>pred_hotel-name</th>\n",
       "      <th>pred_restaurant-name</th>\n",
       "      <th>pred_slots</th>\n",
       "      <th>pred_answers</th>\n",
       "      <th>pred_answer_raw</th>\n",
       "    </tr>\n",
       "  </thead>\n",
       "  <tbody>\n",
       "    <tr>\n",
       "      <th>0</th>\n",
       "      <td>I'm looking for a local place to dine in the c...</td>\n",
       "      <td>find_restaurant|restaurant-area=centre|restaur...</td>\n",
       "      <td>['find_restaurant', 'restaurant-area=centre', ...</td>\n",
       "      <td>find_restaurant</td>\n",
       "      <td>{'restaurant-area': 'centre', 'restaurant-food...</td>\n",
       "      <td>i'm looking for a local place to dine in the c...</td>\n",
       "      <td>find_restaurant</td>\n",
       "      <td></td>\n",
       "      <td>chinese</td>\n",
       "      <td></td>\n",
       "      <td></td>\n",
       "      <td>{'restaurant-area': 'centre', 'restaurant-food...</td>\n",
       "      <td>[find_restaurant, restaurant-area=centre, rest...</td>\n",
       "      <td>find_restaurant|restaurant-area=centre|restaur...</td>\n",
       "    </tr>\n",
       "    <tr>\n",
       "      <th>1</th>\n",
       "      <td>My husband and I are celebrating our anniversa...</td>\n",
       "      <td>find_hotel</td>\n",
       "      <td>['find_hotel']</td>\n",
       "      <td>find_hotel</td>\n",
       "      <td>{}</td>\n",
       "      <td>my husband and i are celebrating our anniversa...</td>\n",
       "      <td>find_hotel</td>\n",
       "      <td></td>\n",
       "      <td></td>\n",
       "      <td></td>\n",
       "      <td></td>\n",
       "      <td>{}</td>\n",
       "      <td>[find_hotel]</td>\n",
       "      <td>find_hotel</td>\n",
       "    </tr>\n",
       "    <tr>\n",
       "      <th>2</th>\n",
       "      <td>I'm looking for an expensive restaurant in the...</td>\n",
       "      <td>find_restaurant|restaurant-area=centre|restaur...</td>\n",
       "      <td>['find_restaurant', 'restaurant-area=centre', ...</td>\n",
       "      <td>find_restaurant</td>\n",
       "      <td>{'restaurant-area': 'centre', 'restaurant-pric...</td>\n",
       "      <td>i'm looking for an expensive restaurant in the...</td>\n",
       "      <td>find_restaurant</td>\n",
       "      <td></td>\n",
       "      <td></td>\n",
       "      <td></td>\n",
       "      <td></td>\n",
       "      <td>{'restaurant-area': 'centre', 'restaurant-pric...</td>\n",
       "      <td>[find_restaurant, restaurant-area=centre, rest...</td>\n",
       "      <td>find_restaurant|restaurant-area=centre|restaur...</td>\n",
       "    </tr>\n",
       "    <tr>\n",
       "      <th>3</th>\n",
       "      <td>Are there any accommodations in the east part ...</td>\n",
       "      <td>find_hotel|hotel-area=east|hotel-parking=yes</td>\n",
       "      <td>['find_hotel', 'hotel-area=east', 'hotel-parki...</td>\n",
       "      <td>find_hotel</td>\n",
       "      <td>{'hotel-area': 'east', 'hotel-parking': 'yes'}</td>\n",
       "      <td>are there any accommodations in the east part ...</td>\n",
       "      <td>find_hotel</td>\n",
       "      <td></td>\n",
       "      <td></td>\n",
       "      <td></td>\n",
       "      <td></td>\n",
       "      <td>{'hotel-area': 'east', 'hotel-parking': 'yes'}</td>\n",
       "      <td>[find_hotel, hotel-area=east, hotel-parking=yes]</td>\n",
       "      <td>find_hotel|hotel-area=east|hotel-parking=yes</td>\n",
       "    </tr>\n",
       "    <tr>\n",
       "      <th>4</th>\n",
       "      <td>I'm looking for a nice place to stay, somewher...</td>\n",
       "      <td>find_hotel|hotel-internet=yes|hotel-pricerange...</td>\n",
       "      <td>['find_hotel', 'hotel-internet=yes', 'hotel-pr...</td>\n",
       "      <td>find_hotel</td>\n",
       "      <td>{'hotel-internet': 'yes', 'hotel-pricerange': ...</td>\n",
       "      <td>i'm looking for a nice place to stay, somewher...</td>\n",
       "      <td>find_hotel</td>\n",
       "      <td></td>\n",
       "      <td></td>\n",
       "      <td></td>\n",
       "      <td></td>\n",
       "      <td>{'hotel-internet': 'yes', 'hotel-pricerange': ...</td>\n",
       "      <td>[find_hotel, hotel-internet=yes, hotel-pricera...</td>\n",
       "      <td>find_hotel|hotel-internet=yes|hotel-pricerange...</td>\n",
       "    </tr>\n",
       "    <tr>\n",
       "      <th>...</th>\n",
       "      <td>...</td>\n",
       "      <td>...</td>\n",
       "      <td>...</td>\n",
       "      <td>...</td>\n",
       "      <td>...</td>\n",
       "      <td>...</td>\n",
       "      <td>...</td>\n",
       "      <td>...</td>\n",
       "      <td>...</td>\n",
       "      <td>...</td>\n",
       "      <td>...</td>\n",
       "      <td>...</td>\n",
       "      <td>...</td>\n",
       "      <td>...</td>\n",
       "    </tr>\n",
       "    <tr>\n",
       "      <th>408</th>\n",
       "      <td>I'm looking for info about 4-star accommodatio...</td>\n",
       "      <td>find_hotel|hotel-internet=yes|hotel-stars=4</td>\n",
       "      <td>['find_hotel', 'hotel-internet=yes', 'hotel-st...</td>\n",
       "      <td>find_hotel</td>\n",
       "      <td>{'hotel-internet': 'yes', 'hotel-stars': '4'}</td>\n",
       "      <td>i'm looking for info about 4-star accommodatio...</td>\n",
       "      <td>find_hotel</td>\n",
       "      <td>4</td>\n",
       "      <td></td>\n",
       "      <td></td>\n",
       "      <td></td>\n",
       "      <td>{'hotel-internet': 'yes', 'hotel-stars': '4'}</td>\n",
       "      <td>[find_hotel, hotel-internet=yes, hotel-stars=4]</td>\n",
       "      <td>find_hotel|hotel-internet=yes|hotel-stars=4</td>\n",
       "    </tr>\n",
       "    <tr>\n",
       "      <th>409</th>\n",
       "      <td>I'm looking for a place to eat that is cheap a...</td>\n",
       "      <td>find_restaurant|restaurant-area=centre|restaur...</td>\n",
       "      <td>['find_restaurant', 'restaurant-area=centre', ...</td>\n",
       "      <td>find_restaurant</td>\n",
       "      <td>{'restaurant-area': 'centre', 'restaurant-pric...</td>\n",
       "      <td>i'm looking for a place to eat that is cheap a...</td>\n",
       "      <td>find_restaurant</td>\n",
       "      <td></td>\n",
       "      <td></td>\n",
       "      <td></td>\n",
       "      <td></td>\n",
       "      <td>{'restaurant-area': 'centre', 'restaurant-pric...</td>\n",
       "      <td>[find_restaurant, restaurant-area=centre, rest...</td>\n",
       "      <td>find_restaurant|restaurant-area=centre|restaur...</td>\n",
       "    </tr>\n",
       "    <tr>\n",
       "      <th>410</th>\n",
       "      <td>Hi, I'm looking for an expensive restaurant in...</td>\n",
       "      <td>find_restaurant|restaurant-area=north|restaura...</td>\n",
       "      <td>['find_restaurant', 'restaurant-area=north', '...</td>\n",
       "      <td>find_restaurant</td>\n",
       "      <td>{'restaurant-area': 'north', 'restaurant-price...</td>\n",
       "      <td>hi, i'm looking for an expensive restaurant in...</td>\n",
       "      <td>find_restaurant</td>\n",
       "      <td></td>\n",
       "      <td></td>\n",
       "      <td></td>\n",
       "      <td>i don't have a specific restaurant name in the...</td>\n",
       "      <td>{'restaurant-name': 'i don't have a specific r...</td>\n",
       "      <td>[find_restaurant, restaurant-name=i don't have...</td>\n",
       "      <td>find_restaurant|restaurant-name=i don't have a...</td>\n",
       "    </tr>\n",
       "    <tr>\n",
       "      <th>411</th>\n",
       "      <td>Can you help me find a restaurant? I want some...</td>\n",
       "      <td>find_restaurant|restaurant-pricerange=expensive</td>\n",
       "      <td>['find_restaurant', 'restaurant-pricerange=exp...</td>\n",
       "      <td>find_restaurant</td>\n",
       "      <td>{'restaurant-pricerange': 'expensive'}</td>\n",
       "      <td>can you help me find a restaurant? i want some...</td>\n",
       "      <td>find_restaurant</td>\n",
       "      <td></td>\n",
       "      <td></td>\n",
       "      <td></td>\n",
       "      <td></td>\n",
       "      <td>{'restaurant-pricerange': 'expensive'}</td>\n",
       "      <td>[find_restaurant, restaurant-pricerange=expens...</td>\n",
       "      <td>find_restaurant|restaurant-pricerange=expensive</td>\n",
       "    </tr>\n",
       "    <tr>\n",
       "      <th>412</th>\n",
       "      <td>I'm going to Cambridge and interested in tryin...</td>\n",
       "      <td>find_restaurant|restaurant-food=traditional</td>\n",
       "      <td>['find_restaurant', 'restaurant-food=tradition...</td>\n",
       "      <td>find_restaurant</td>\n",
       "      <td>{'restaurant-food': 'traditional'}</td>\n",
       "      <td>i'm going to cambridge and interested in tryin...</td>\n",
       "      <td>find_restaurant</td>\n",
       "      <td></td>\n",
       "      <td>traditional</td>\n",
       "      <td></td>\n",
       "      <td></td>\n",
       "      <td>{'restaurant-food': 'traditional'}</td>\n",
       "      <td>[find_restaurant, restaurant-food=traditional]</td>\n",
       "      <td>find_restaurant|restaurant-food=traditional</td>\n",
       "    </tr>\n",
       "  </tbody>\n",
       "</table>\n",
       "<p>413 rows × 14 columns</p>\n",
       "</div>"
      ],
      "text/plain": [
       "                                                  text  \\\n",
       "0    I'm looking for a local place to dine in the c...   \n",
       "1    My husband and I are celebrating our anniversa...   \n",
       "2    I'm looking for an expensive restaurant in the...   \n",
       "3    Are there any accommodations in the east part ...   \n",
       "4    I'm looking for a nice place to stay, somewher...   \n",
       "..                                                 ...   \n",
       "408  I'm looking for info about 4-star accommodatio...   \n",
       "409  I'm looking for a place to eat that is cheap a...   \n",
       "410  Hi, I'm looking for an expensive restaurant in...   \n",
       "411  Can you help me find a restaurant? I want some...   \n",
       "412  I'm going to Cambridge and interested in tryin...   \n",
       "\n",
       "                                            answer_raw  \\\n",
       "0    find_restaurant|restaurant-area=centre|restaur...   \n",
       "1                                           find_hotel   \n",
       "2    find_restaurant|restaurant-area=centre|restaur...   \n",
       "3         find_hotel|hotel-area=east|hotel-parking=yes   \n",
       "4    find_hotel|hotel-internet=yes|hotel-pricerange...   \n",
       "..                                                 ...   \n",
       "408        find_hotel|hotel-internet=yes|hotel-stars=4   \n",
       "409  find_restaurant|restaurant-area=centre|restaur...   \n",
       "410  find_restaurant|restaurant-area=north|restaura...   \n",
       "411    find_restaurant|restaurant-pricerange=expensive   \n",
       "412        find_restaurant|restaurant-food=traditional   \n",
       "\n",
       "                                                answer           intent  \\\n",
       "0    ['find_restaurant', 'restaurant-area=centre', ...  find_restaurant   \n",
       "1                                       ['find_hotel']       find_hotel   \n",
       "2    ['find_restaurant', 'restaurant-area=centre', ...  find_restaurant   \n",
       "3    ['find_hotel', 'hotel-area=east', 'hotel-parki...       find_hotel   \n",
       "4    ['find_hotel', 'hotel-internet=yes', 'hotel-pr...       find_hotel   \n",
       "..                                                 ...              ...   \n",
       "408  ['find_hotel', 'hotel-internet=yes', 'hotel-st...       find_hotel   \n",
       "409  ['find_restaurant', 'restaurant-area=centre', ...  find_restaurant   \n",
       "410  ['find_restaurant', 'restaurant-area=north', '...  find_restaurant   \n",
       "411  ['find_restaurant', 'restaurant-pricerange=exp...  find_restaurant   \n",
       "412  ['find_restaurant', 'restaurant-food=tradition...  find_restaurant   \n",
       "\n",
       "                                                 slots  \\\n",
       "0    {'restaurant-area': 'centre', 'restaurant-food...   \n",
       "1                                                   {}   \n",
       "2    {'restaurant-area': 'centre', 'restaurant-pric...   \n",
       "3       {'hotel-area': 'east', 'hotel-parking': 'yes'}   \n",
       "4    {'hotel-internet': 'yes', 'hotel-pricerange': ...   \n",
       "..                                                 ...   \n",
       "408      {'hotel-internet': 'yes', 'hotel-stars': '4'}   \n",
       "409  {'restaurant-area': 'centre', 'restaurant-pric...   \n",
       "410  {'restaurant-area': 'north', 'restaurant-price...   \n",
       "411             {'restaurant-pricerange': 'expensive'}   \n",
       "412                 {'restaurant-food': 'traditional'}   \n",
       "\n",
       "                                            text_lower      pred_intent  \\\n",
       "0    i'm looking for a local place to dine in the c...  find_restaurant   \n",
       "1    my husband and i are celebrating our anniversa...       find_hotel   \n",
       "2    i'm looking for an expensive restaurant in the...  find_restaurant   \n",
       "3    are there any accommodations in the east part ...       find_hotel   \n",
       "4    i'm looking for a nice place to stay, somewher...       find_hotel   \n",
       "..                                                 ...              ...   \n",
       "408  i'm looking for info about 4-star accommodatio...       find_hotel   \n",
       "409  i'm looking for a place to eat that is cheap a...  find_restaurant   \n",
       "410  hi, i'm looking for an expensive restaurant in...  find_restaurant   \n",
       "411  can you help me find a restaurant? i want some...  find_restaurant   \n",
       "412  i'm going to cambridge and interested in tryin...  find_restaurant   \n",
       "\n",
       "    pred_hotel-stars pred_restaurant-food pred_hotel-name  \\\n",
       "0                                 chinese                   \n",
       "1                                                           \n",
       "2                                                           \n",
       "3                                                           \n",
       "4                                                           \n",
       "..               ...                  ...             ...   \n",
       "408                4                                        \n",
       "409                                                         \n",
       "410                                                         \n",
       "411                                                         \n",
       "412                           traditional                   \n",
       "\n",
       "                                  pred_restaurant-name  \\\n",
       "0                                                        \n",
       "1                                                        \n",
       "2                                                        \n",
       "3                                                        \n",
       "4                                                        \n",
       "..                                                 ...   \n",
       "408                                                      \n",
       "409                                                      \n",
       "410  i don't have a specific restaurant name in the...   \n",
       "411                                                      \n",
       "412                                                      \n",
       "\n",
       "                                            pred_slots  \\\n",
       "0    {'restaurant-area': 'centre', 'restaurant-food...   \n",
       "1                                                   {}   \n",
       "2    {'restaurant-area': 'centre', 'restaurant-pric...   \n",
       "3       {'hotel-area': 'east', 'hotel-parking': 'yes'}   \n",
       "4    {'hotel-internet': 'yes', 'hotel-pricerange': ...   \n",
       "..                                                 ...   \n",
       "408      {'hotel-internet': 'yes', 'hotel-stars': '4'}   \n",
       "409  {'restaurant-area': 'centre', 'restaurant-pric...   \n",
       "410  {'restaurant-name': 'i don't have a specific r...   \n",
       "411             {'restaurant-pricerange': 'expensive'}   \n",
       "412                 {'restaurant-food': 'traditional'}   \n",
       "\n",
       "                                          pred_answers  \\\n",
       "0    [find_restaurant, restaurant-area=centre, rest...   \n",
       "1                                         [find_hotel]   \n",
       "2    [find_restaurant, restaurant-area=centre, rest...   \n",
       "3     [find_hotel, hotel-area=east, hotel-parking=yes]   \n",
       "4    [find_hotel, hotel-internet=yes, hotel-pricera...   \n",
       "..                                                 ...   \n",
       "408    [find_hotel, hotel-internet=yes, hotel-stars=4]   \n",
       "409  [find_restaurant, restaurant-area=centre, rest...   \n",
       "410  [find_restaurant, restaurant-name=i don't have...   \n",
       "411  [find_restaurant, restaurant-pricerange=expens...   \n",
       "412     [find_restaurant, restaurant-food=traditional]   \n",
       "\n",
       "                                       pred_answer_raw  \n",
       "0    find_restaurant|restaurant-area=centre|restaur...  \n",
       "1                                           find_hotel  \n",
       "2    find_restaurant|restaurant-area=centre|restaur...  \n",
       "3         find_hotel|hotel-area=east|hotel-parking=yes  \n",
       "4    find_hotel|hotel-internet=yes|hotel-pricerange...  \n",
       "..                                                 ...  \n",
       "408        find_hotel|hotel-internet=yes|hotel-stars=4  \n",
       "409  find_restaurant|restaurant-area=centre|restaur...  \n",
       "410  find_restaurant|restaurant-name=i don't have a...  \n",
       "411    find_restaurant|restaurant-pricerange=expensive  \n",
       "412        find_restaurant|restaurant-food=traditional  \n",
       "\n",
       "[413 rows x 14 columns]"
      ]
     },
     "execution_count": 95,
     "metadata": {},
     "output_type": "execute_result"
    }
   ],
   "source": [
    "dev_df"
   ]
  },
  {
   "cell_type": "code",
   "execution_count": 122,
   "id": "7499d2b8-fcae-4ffd-9bdd-028c9cebeb76",
   "metadata": {},
   "outputs": [],
   "source": [
    "full_slots = ['hotel-name', 'hotel-stars', 'hotel-area', 'hotel-internet', 'hotel-pricerange', 'hotel-parking','hotel-type','restaurant-food', 'restaurant-name', 'restaurant-pricerange', 'restaurant-area']"
   ]
  },
  {
   "cell_type": "code",
   "execution_count": 123,
   "id": "f3de1e46-60ee-4253-a909-b7b4a0aebecb",
   "metadata": {},
   "outputs": [
    {
     "name": "stdout",
     "output_type": "stream",
     "text": [
      "slots accuracy: 0.8910411622276029\n",
      "intent accuracy: 0.9927360774818402\n",
      "answer accuracy: 0.7796610169491526\n"
     ]
    }
   ],
   "source": [
    "# dev evaluation\n",
    "print(f'slots accuracy: {get_accuracy(dev_df[\"slots\"], dev_df[\"pred_slots\"], slot_lists=full_slots)}')\n",
    "print(f'intent accuracy: {accuracy_score(dev_df[\"intent\"], dev_df[\"pred_intent\"])}')\n",
    "print(f'answer accuracy: {accuracy_score(dev_df[\"answer_raw\"], dev_df[\"pred_answer_raw\"])}')"
   ]
  },
  {
   "cell_type": "code",
   "execution_count": 124,
   "id": "2dcdce10-8045-4658-8f22-52667308937b",
   "metadata": {},
   "outputs": [
    {
     "data": {
      "text/html": [
       "<div>\n",
       "<style scoped>\n",
       "    .dataframe tbody tr th:only-of-type {\n",
       "        vertical-align: middle;\n",
       "    }\n",
       "\n",
       "    .dataframe tbody tr th {\n",
       "        vertical-align: top;\n",
       "    }\n",
       "\n",
       "    .dataframe thead th {\n",
       "        text-align: right;\n",
       "    }\n",
       "</style>\n",
       "<table border=\"1\" class=\"dataframe\">\n",
       "  <thead>\n",
       "    <tr style=\"text-align: right;\">\n",
       "      <th></th>\n",
       "      <th>text</th>\n",
       "      <th>answer_raw</th>\n",
       "      <th>answer</th>\n",
       "      <th>intent</th>\n",
       "      <th>slots</th>\n",
       "      <th>text_lower</th>\n",
       "      <th>pred_intent</th>\n",
       "      <th>pred_hotel-stars</th>\n",
       "      <th>pred_restaurant-food</th>\n",
       "      <th>pred_hotel-name</th>\n",
       "      <th>pred_restaurant-name</th>\n",
       "      <th>pred_slots</th>\n",
       "      <th>pred_answers</th>\n",
       "      <th>pred_answer_raw</th>\n",
       "    </tr>\n",
       "  </thead>\n",
       "  <tbody>\n",
       "    <tr>\n",
       "      <th>5</th>\n",
       "      <td>I'm looking for a 4 star hotel in the south.</td>\n",
       "      <td>find_hotel|hotel-area=south|hotel-stars=4</td>\n",
       "      <td>['find_hotel', 'hotel-area=south', 'hotel-star...</td>\n",
       "      <td>find_hotel</td>\n",
       "      <td>{'hotel-area': 'south', 'hotel-stars': '4'}</td>\n",
       "      <td>i'm looking for a 4 star hotel in the south.</td>\n",
       "      <td>find_hotel</td>\n",
       "      <td>4</td>\n",
       "      <td></td>\n",
       "      <td></td>\n",
       "      <td></td>\n",
       "      <td>{'hotel-area': 'north', 'hotel-stars': '4'}</td>\n",
       "      <td>[find_hotel, hotel-area=north, hotel-stars=4]</td>\n",
       "      <td>find_hotel|hotel-area=north|hotel-stars=4</td>\n",
       "    </tr>\n",
       "    <tr>\n",
       "      <th>13</th>\n",
       "      <td>I am looking to get some information on gonvil...</td>\n",
       "      <td>find_hotel|hotel-name=gonville hotel</td>\n",
       "      <td>['find_hotel', 'hotel-name=gonville hotel']</td>\n",
       "      <td>find_hotel</td>\n",
       "      <td>{'hotel-name': 'gonville hotel'}</td>\n",
       "      <td>i am looking to get some information on gonvil...</td>\n",
       "      <td>find_hotel</td>\n",
       "      <td></td>\n",
       "      <td></td>\n",
       "      <td>gonville</td>\n",
       "      <td></td>\n",
       "      <td>{'hotel-name': 'gonville'}</td>\n",
       "      <td>[find_hotel, hotel-name=gonville]</td>\n",
       "      <td>find_hotel|hotel-name=gonville</td>\n",
       "    </tr>\n",
       "    <tr>\n",
       "      <th>14</th>\n",
       "      <td>Could you tell me where Cotto is located?</td>\n",
       "      <td>find_restaurant|restaurant-name=cotto</td>\n",
       "      <td>['find_restaurant', 'restaurant-name=cotto']</td>\n",
       "      <td>find_restaurant</td>\n",
       "      <td>{'restaurant-name': 'cotto'}</td>\n",
       "      <td>could you tell me where cotto is located?</td>\n",
       "      <td>find_restaurant</td>\n",
       "      <td></td>\n",
       "      <td></td>\n",
       "      <td></td>\n",
       "      <td></td>\n",
       "      <td>{}</td>\n",
       "      <td>[find_restaurant]</td>\n",
       "      <td>find_restaurant</td>\n",
       "    </tr>\n",
       "    <tr>\n",
       "      <th>18</th>\n",
       "      <td>Yes, hello. I need a place to crash so I'm thi...</td>\n",
       "      <td>find_hotel|hotel-stars=0|hotel-type=guesthouse</td>\n",
       "      <td>['find_hotel', 'hotel-stars=0', 'hotel-type=gu...</td>\n",
       "      <td>find_hotel</td>\n",
       "      <td>{'hotel-stars': '0', 'hotel-type': 'guesthouse'}</td>\n",
       "      <td>yes, hello. i need a place to crash so i'm thi...</td>\n",
       "      <td>find_hotel</td>\n",
       "      <td>0</td>\n",
       "      <td></td>\n",
       "      <td>0-star guesthouse</td>\n",
       "      <td></td>\n",
       "      <td>{'hotel-name': '0-star guesthouse', 'hotel-sta...</td>\n",
       "      <td>[find_hotel, hotel-name=0-star guesthouse, hot...</td>\n",
       "      <td>find_hotel|hotel-name=0-star guesthouse|hotel-...</td>\n",
       "    </tr>\n",
       "    <tr>\n",
       "      <th>27</th>\n",
       "      <td>I need to find a barbeque restaurant in the ce...</td>\n",
       "      <td>find_restaurant|restaurant-food=barbeque</td>\n",
       "      <td>['find_restaurant', 'restaurant-food=barbeque']</td>\n",
       "      <td>find_restaurant</td>\n",
       "      <td>{'restaurant-food': 'barbeque'}</td>\n",
       "      <td>i need to find a barbeque restaurant in the ce...</td>\n",
       "      <td>find_restaurant</td>\n",
       "      <td></td>\n",
       "      <td>barbeque</td>\n",
       "      <td></td>\n",
       "      <td></td>\n",
       "      <td>{'restaurant-area': 'centre', 'restaurant-food...</td>\n",
       "      <td>[find_restaurant, restaurant-area=centre, rest...</td>\n",
       "      <td>find_restaurant|restaurant-area=centre|restaur...</td>\n",
       "    </tr>\n",
       "    <tr>\n",
       "      <th>...</th>\n",
       "      <td>...</td>\n",
       "      <td>...</td>\n",
       "      <td>...</td>\n",
       "      <td>...</td>\n",
       "      <td>...</td>\n",
       "      <td>...</td>\n",
       "      <td>...</td>\n",
       "      <td>...</td>\n",
       "      <td>...</td>\n",
       "      <td>...</td>\n",
       "      <td>...</td>\n",
       "      <td>...</td>\n",
       "      <td>...</td>\n",
       "      <td>...</td>\n",
       "    </tr>\n",
       "    <tr>\n",
       "      <th>398</th>\n",
       "      <td>I'm looking for a gueshouse that includes free...</td>\n",
       "      <td>find_hotel|hotel-parking=yes|hotel-type=guesth...</td>\n",
       "      <td>['find_hotel', 'hotel-parking=yes', 'hotel-typ...</td>\n",
       "      <td>find_hotel</td>\n",
       "      <td>{'hotel-parking': 'yes', 'hotel-type': 'guesth...</td>\n",
       "      <td>i'm looking for a gueshouse that includes free...</td>\n",
       "      <td>find_hotel</td>\n",
       "      <td></td>\n",
       "      <td></td>\n",
       "      <td></td>\n",
       "      <td></td>\n",
       "      <td>{'hotel-parking': 'yes'}</td>\n",
       "      <td>[find_hotel, hotel-parking=yes]</td>\n",
       "      <td>find_hotel|hotel-parking=yes</td>\n",
       "    </tr>\n",
       "    <tr>\n",
       "      <th>401</th>\n",
       "      <td>I need an expensive place to stay that include...</td>\n",
       "      <td>find_hotel|hotel-internet=yes|hotel-pricerange...</td>\n",
       "      <td>['find_hotel', 'hotel-internet=yes', 'hotel-pr...</td>\n",
       "      <td>find_hotel</td>\n",
       "      <td>{'hotel-internet': 'yes', 'hotel-pricerange': ...</td>\n",
       "      <td>i need an expensive place to stay that include...</td>\n",
       "      <td>find_hotel</td>\n",
       "      <td></td>\n",
       "      <td></td>\n",
       "      <td></td>\n",
       "      <td></td>\n",
       "      <td>{'hotel-internet': 'yes'}</td>\n",
       "      <td>[find_hotel, hotel-internet=yes]</td>\n",
       "      <td>find_hotel|hotel-internet=yes</td>\n",
       "    </tr>\n",
       "    <tr>\n",
       "      <th>402</th>\n",
       "      <td>I need a restaurant. Something expensive and i...</td>\n",
       "      <td>find_restaurant|restaurant-food=italian|restau...</td>\n",
       "      <td>['find_restaurant', 'restaurant-food=italian',...</td>\n",
       "      <td>find_restaurant</td>\n",
       "      <td>{'restaurant-food': 'italian', 'restaurant-pri...</td>\n",
       "      <td>i need a restaurant. something expensive and i...</td>\n",
       "      <td>find_restaurant</td>\n",
       "      <td></td>\n",
       "      <td>italian</td>\n",
       "      <td></td>\n",
       "      <td>expensive italian restaurant</td>\n",
       "      <td>{'restaurant-food': 'italian', 'restaurant-nam...</td>\n",
       "      <td>[find_restaurant, restaurant-food=italian, res...</td>\n",
       "      <td>find_restaurant|restaurant-food=italian|restau...</td>\n",
       "    </tr>\n",
       "    <tr>\n",
       "      <th>406</th>\n",
       "      <td>Hi. I'm looking for information on a hotel cal...</td>\n",
       "      <td>find_hotel|hotel-name=limehouse</td>\n",
       "      <td>['find_hotel', 'hotel-name=limehouse']</td>\n",
       "      <td>find_hotel</td>\n",
       "      <td>{'hotel-name': 'limehouse'}</td>\n",
       "      <td>hi. i'm looking for information on a hotel cal...</td>\n",
       "      <td>find_hotel</td>\n",
       "      <td></td>\n",
       "      <td></td>\n",
       "      <td>the limehouse</td>\n",
       "      <td></td>\n",
       "      <td>{'hotel-name': 'the limehouse'}</td>\n",
       "      <td>[find_hotel, hotel-name=the limehouse]</td>\n",
       "      <td>find_hotel|hotel-name=the limehouse</td>\n",
       "    </tr>\n",
       "    <tr>\n",
       "      <th>410</th>\n",
       "      <td>Hi, I'm looking for an expensive restaurant in...</td>\n",
       "      <td>find_restaurant|restaurant-area=north|restaura...</td>\n",
       "      <td>['find_restaurant', 'restaurant-area=north', '...</td>\n",
       "      <td>find_restaurant</td>\n",
       "      <td>{'restaurant-area': 'north', 'restaurant-price...</td>\n",
       "      <td>hi, i'm looking for an expensive restaurant in...</td>\n",
       "      <td>find_restaurant</td>\n",
       "      <td></td>\n",
       "      <td></td>\n",
       "      <td></td>\n",
       "      <td>i don't have a specific restaurant name in the...</td>\n",
       "      <td>{'restaurant-name': 'i don't have a specific r...</td>\n",
       "      <td>[find_restaurant, restaurant-name=i don't have...</td>\n",
       "      <td>find_restaurant|restaurant-name=i don't have a...</td>\n",
       "    </tr>\n",
       "  </tbody>\n",
       "</table>\n",
       "<p>90 rows × 14 columns</p>\n",
       "</div>"
      ],
      "text/plain": [
       "                                                  text  \\\n",
       "5         I'm looking for a 4 star hotel in the south.   \n",
       "13   I am looking to get some information on gonvil...   \n",
       "14           Could you tell me where Cotto is located?   \n",
       "18   Yes, hello. I need a place to crash so I'm thi...   \n",
       "27   I need to find a barbeque restaurant in the ce...   \n",
       "..                                                 ...   \n",
       "398  I'm looking for a gueshouse that includes free...   \n",
       "401  I need an expensive place to stay that include...   \n",
       "402  I need a restaurant. Something expensive and i...   \n",
       "406  Hi. I'm looking for information on a hotel cal...   \n",
       "410  Hi, I'm looking for an expensive restaurant in...   \n",
       "\n",
       "                                            answer_raw  \\\n",
       "5            find_hotel|hotel-area=south|hotel-stars=4   \n",
       "13                find_hotel|hotel-name=gonville hotel   \n",
       "14               find_restaurant|restaurant-name=cotto   \n",
       "18      find_hotel|hotel-stars=0|hotel-type=guesthouse   \n",
       "27            find_restaurant|restaurant-food=barbeque   \n",
       "..                                                 ...   \n",
       "398  find_hotel|hotel-parking=yes|hotel-type=guesth...   \n",
       "401  find_hotel|hotel-internet=yes|hotel-pricerange...   \n",
       "402  find_restaurant|restaurant-food=italian|restau...   \n",
       "406                    find_hotel|hotel-name=limehouse   \n",
       "410  find_restaurant|restaurant-area=north|restaura...   \n",
       "\n",
       "                                                answer           intent  \\\n",
       "5    ['find_hotel', 'hotel-area=south', 'hotel-star...       find_hotel   \n",
       "13         ['find_hotel', 'hotel-name=gonville hotel']       find_hotel   \n",
       "14        ['find_restaurant', 'restaurant-name=cotto']  find_restaurant   \n",
       "18   ['find_hotel', 'hotel-stars=0', 'hotel-type=gu...       find_hotel   \n",
       "27     ['find_restaurant', 'restaurant-food=barbeque']  find_restaurant   \n",
       "..                                                 ...              ...   \n",
       "398  ['find_hotel', 'hotel-parking=yes', 'hotel-typ...       find_hotel   \n",
       "401  ['find_hotel', 'hotel-internet=yes', 'hotel-pr...       find_hotel   \n",
       "402  ['find_restaurant', 'restaurant-food=italian',...  find_restaurant   \n",
       "406             ['find_hotel', 'hotel-name=limehouse']       find_hotel   \n",
       "410  ['find_restaurant', 'restaurant-area=north', '...  find_restaurant   \n",
       "\n",
       "                                                 slots  \\\n",
       "5          {'hotel-area': 'south', 'hotel-stars': '4'}   \n",
       "13                    {'hotel-name': 'gonville hotel'}   \n",
       "14                        {'restaurant-name': 'cotto'}   \n",
       "18    {'hotel-stars': '0', 'hotel-type': 'guesthouse'}   \n",
       "27                     {'restaurant-food': 'barbeque'}   \n",
       "..                                                 ...   \n",
       "398  {'hotel-parking': 'yes', 'hotel-type': 'guesth...   \n",
       "401  {'hotel-internet': 'yes', 'hotel-pricerange': ...   \n",
       "402  {'restaurant-food': 'italian', 'restaurant-pri...   \n",
       "406                        {'hotel-name': 'limehouse'}   \n",
       "410  {'restaurant-area': 'north', 'restaurant-price...   \n",
       "\n",
       "                                            text_lower      pred_intent  \\\n",
       "5         i'm looking for a 4 star hotel in the south.       find_hotel   \n",
       "13   i am looking to get some information on gonvil...       find_hotel   \n",
       "14           could you tell me where cotto is located?  find_restaurant   \n",
       "18   yes, hello. i need a place to crash so i'm thi...       find_hotel   \n",
       "27   i need to find a barbeque restaurant in the ce...  find_restaurant   \n",
       "..                                                 ...              ...   \n",
       "398  i'm looking for a gueshouse that includes free...       find_hotel   \n",
       "401  i need an expensive place to stay that include...       find_hotel   \n",
       "402  i need a restaurant. something expensive and i...  find_restaurant   \n",
       "406  hi. i'm looking for information on a hotel cal...       find_hotel   \n",
       "410  hi, i'm looking for an expensive restaurant in...  find_restaurant   \n",
       "\n",
       "    pred_hotel-stars pred_restaurant-food    pred_hotel-name  \\\n",
       "5                  4                                           \n",
       "13                                                  gonville   \n",
       "14                                                             \n",
       "18                 0                       0-star guesthouse   \n",
       "27                               barbeque                      \n",
       "..               ...                  ...                ...   \n",
       "398                                                            \n",
       "401                                                            \n",
       "402                               italian                      \n",
       "406                                            the limehouse   \n",
       "410                                                            \n",
       "\n",
       "                                  pred_restaurant-name  \\\n",
       "5                                                        \n",
       "13                                                       \n",
       "14                                                       \n",
       "18                                                       \n",
       "27                                                       \n",
       "..                                                 ...   \n",
       "398                                                      \n",
       "401                                                      \n",
       "402                       expensive italian restaurant   \n",
       "406                                                      \n",
       "410  i don't have a specific restaurant name in the...   \n",
       "\n",
       "                                            pred_slots  \\\n",
       "5          {'hotel-area': 'north', 'hotel-stars': '4'}   \n",
       "13                          {'hotel-name': 'gonville'}   \n",
       "14                                                  {}   \n",
       "18   {'hotel-name': '0-star guesthouse', 'hotel-sta...   \n",
       "27   {'restaurant-area': 'centre', 'restaurant-food...   \n",
       "..                                                 ...   \n",
       "398                           {'hotel-parking': 'yes'}   \n",
       "401                          {'hotel-internet': 'yes'}   \n",
       "402  {'restaurant-food': 'italian', 'restaurant-nam...   \n",
       "406                    {'hotel-name': 'the limehouse'}   \n",
       "410  {'restaurant-name': 'i don't have a specific r...   \n",
       "\n",
       "                                          pred_answers  \\\n",
       "5        [find_hotel, hotel-area=north, hotel-stars=4]   \n",
       "13                   [find_hotel, hotel-name=gonville]   \n",
       "14                                   [find_restaurant]   \n",
       "18   [find_hotel, hotel-name=0-star guesthouse, hot...   \n",
       "27   [find_restaurant, restaurant-area=centre, rest...   \n",
       "..                                                 ...   \n",
       "398                    [find_hotel, hotel-parking=yes]   \n",
       "401                   [find_hotel, hotel-internet=yes]   \n",
       "402  [find_restaurant, restaurant-food=italian, res...   \n",
       "406             [find_hotel, hotel-name=the limehouse]   \n",
       "410  [find_restaurant, restaurant-name=i don't have...   \n",
       "\n",
       "                                       pred_answer_raw  \n",
       "5            find_hotel|hotel-area=north|hotel-stars=4  \n",
       "13                      find_hotel|hotel-name=gonville  \n",
       "14                                     find_restaurant  \n",
       "18   find_hotel|hotel-name=0-star guesthouse|hotel-...  \n",
       "27   find_restaurant|restaurant-area=centre|restaur...  \n",
       "..                                                 ...  \n",
       "398                       find_hotel|hotel-parking=yes  \n",
       "401                      find_hotel|hotel-internet=yes  \n",
       "402  find_restaurant|restaurant-food=italian|restau...  \n",
       "406                find_hotel|hotel-name=the limehouse  \n",
       "410  find_restaurant|restaurant-name=i don't have a...  \n",
       "\n",
       "[90 rows x 14 columns]"
      ]
     },
     "execution_count": 124,
     "metadata": {},
     "output_type": "execute_result"
    }
   ],
   "source": [
    "# inspect the errors\n",
    "dev_df[dev_df[\"slots\"]!=dev_df[\"pred_slots\"]]"
   ]
  },
  {
   "cell_type": "markdown",
   "id": "ab076789-f539-45a8-a028-c52a0dbfd6c7",
   "metadata": {},
   "source": [
    "## Step 7: Output"
   ]
  },
  {
   "cell_type": "code",
   "execution_count": 100,
   "id": "372e1779-ff0a-41eb-a173-b7a378deb6eb",
   "metadata": {},
   "outputs": [],
   "source": [
    "\n",
    "dev_df.to_csv(\"./data/dev_2nd_model.csv\")\n",
    "dev_df[[\"text\",\"pred_answer_raw\"]].to_csv('./data/dev_2nd_model_pred.txt', sep='\\t', index=False)"
   ]
  },
  {
   "cell_type": "code",
   "execution_count": 115,
   "id": "2eb9c1b6-2d31-4e7a-8dda-48e4650503f6",
   "metadata": {},
   "outputs": [],
   "source": [
    "test_df.to_csv(\"./data/test_2nd_model.csv\")\n",
    "test_df[[\"text\",\"pred_answer_raw\"]].to_csv('./data/test_2nd_model_pred.txt', sep='\\t', index=False)"
   ]
  },
  {
   "cell_type": "code",
   "execution_count": 116,
   "id": "e6f99c96-52b6-4a7a-94f9-2c99cd92fb53",
   "metadata": {},
   "outputs": [],
   "source": [
    "kaggle_df = test_df.copy()\n",
    "kaggle_df = test_df.reset_index()\n",
    "\n",
    "kaggle_df = kaggle_df.rename(columns={\"index\":\"ID\", \"pred_answer_raw\":\"Expected\"})\n",
    "\n",
    "kaggle_df[[\"ID\", \"Expected\"]].to_csv('./data/WOZ_test_2nd_model_ans.csv', index=False)"
   ]
  },
  {
   "cell_type": "code",
   "execution_count": null,
   "id": "a3cdbff0-9860-44c5-815b-fe21d119c460",
   "metadata": {},
   "outputs": [],
   "source": []
  }
 ],
 "metadata": {
  "kernelspec": {
   "display_name": "Python [conda env:root] *",
   "language": "python",
   "name": "conda-root-py"
  },
  "language_info": {
   "codemirror_mode": {
    "name": "ipython",
    "version": 3
   },
   "file_extension": ".py",
   "mimetype": "text/x-python",
   "name": "python",
   "nbconvert_exporter": "python",
   "pygments_lexer": "ipython3",
   "version": "3.11.4"
  }
 },
 "nbformat": 4,
 "nbformat_minor": 5
}
