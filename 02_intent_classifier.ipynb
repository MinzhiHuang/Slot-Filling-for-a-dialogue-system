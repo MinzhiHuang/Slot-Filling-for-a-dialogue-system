{
 "cells": [
  {
   "cell_type": "markdown",
   "id": "60768214-efda-4158-bdb8-478e7f7f4f3a",
   "metadata": {},
   "source": [
    "## 02 - Intent Classifier\n",
    "In this notebook, we will classify the intent to \"find-hotel\" or \"find-restaurant\" using lexcial approach (most indicative words associated with each intent)"
   ]
  },
  {
   "cell_type": "code",
   "execution_count": 1,
   "id": "65957d64-cbda-49c3-8527-a6f25f8650e9",
   "metadata": {},
   "outputs": [],
   "source": [
    "import pandas as pd"
   ]
  },
  {
   "cell_type": "code",
   "execution_count": 2,
   "id": "a0cdb14a-d3f2-408f-8ff3-32fb8dac7c64",
   "metadata": {},
   "outputs": [
    {
     "data": {
      "text/html": [
       "<div>\n",
       "<style scoped>\n",
       "    .dataframe tbody tr th:only-of-type {\n",
       "        vertical-align: middle;\n",
       "    }\n",
       "\n",
       "    .dataframe tbody tr th {\n",
       "        vertical-align: top;\n",
       "    }\n",
       "\n",
       "    .dataframe thead th {\n",
       "        text-align: right;\n",
       "    }\n",
       "</style>\n",
       "<table border=\"1\" class=\"dataframe\">\n",
       "  <thead>\n",
       "    <tr style=\"text-align: right;\">\n",
       "      <th></th>\n",
       "      <th>text</th>\n",
       "      <th>answer</th>\n",
       "      <th>intent</th>\n",
       "      <th>slots</th>\n",
       "    </tr>\n",
       "  </thead>\n",
       "  <tbody>\n",
       "    <tr>\n",
       "      <th>0</th>\n",
       "      <td>Guten Tag, I am staying overnight in Cambridge...</td>\n",
       "      <td>['find_hotel', 'hotel-area=centre', 'hotel-int...</td>\n",
       "      <td>find_hotel</td>\n",
       "      <td>{'hotel-area': 'centre', 'hotel-internet': 'ye...</td>\n",
       "    </tr>\n",
       "    <tr>\n",
       "      <th>1</th>\n",
       "      <td>Hi there! Can you give me some info on Cityroomz?</td>\n",
       "      <td>['find_hotel', 'hotel-name=cityroomz']</td>\n",
       "      <td>find_hotel</td>\n",
       "      <td>{'hotel-name': 'cityroomz'}</td>\n",
       "    </tr>\n",
       "    <tr>\n",
       "      <th>2</th>\n",
       "      <td>I am looking for a hotel named alyesbray lodge...</td>\n",
       "      <td>['find_hotel', 'hotel-name=alyesbray lodge gue...</td>\n",
       "      <td>find_hotel</td>\n",
       "      <td>{'hotel-name': 'alyesbray lodge guest house'}</td>\n",
       "    </tr>\n",
       "    <tr>\n",
       "      <th>3</th>\n",
       "      <td>I am looking for a restaurant. I would like so...</td>\n",
       "      <td>['find_restaurant', 'restaurant-food=chinese',...</td>\n",
       "      <td>find_restaurant</td>\n",
       "      <td>{'restaurant-food': 'chinese', 'restaurant-pri...</td>\n",
       "    </tr>\n",
       "    <tr>\n",
       "      <th>4</th>\n",
       "      <td>I'm looking for an expensive restaurant in the...</td>\n",
       "      <td>['find_restaurant', 'restaurant-area=centre', ...</td>\n",
       "      <td>find_restaurant</td>\n",
       "      <td>{'restaurant-area': 'centre', 'restaurant-pric...</td>\n",
       "    </tr>\n",
       "  </tbody>\n",
       "</table>\n",
       "</div>"
      ],
      "text/plain": [
       "                                                text  \\\n",
       "0  Guten Tag, I am staying overnight in Cambridge...   \n",
       "1  Hi there! Can you give me some info on Cityroomz?   \n",
       "2  I am looking for a hotel named alyesbray lodge...   \n",
       "3  I am looking for a restaurant. I would like so...   \n",
       "4  I'm looking for an expensive restaurant in the...   \n",
       "\n",
       "                                              answer           intent  \\\n",
       "0  ['find_hotel', 'hotel-area=centre', 'hotel-int...       find_hotel   \n",
       "1             ['find_hotel', 'hotel-name=cityroomz']       find_hotel   \n",
       "2  ['find_hotel', 'hotel-name=alyesbray lodge gue...       find_hotel   \n",
       "3  ['find_restaurant', 'restaurant-food=chinese',...  find_restaurant   \n",
       "4  ['find_restaurant', 'restaurant-area=centre', ...  find_restaurant   \n",
       "\n",
       "                                               slots  \n",
       "0  {'hotel-area': 'centre', 'hotel-internet': 'ye...  \n",
       "1                        {'hotel-name': 'cityroomz'}  \n",
       "2      {'hotel-name': 'alyesbray lodge guest house'}  \n",
       "3  {'restaurant-food': 'chinese', 'restaurant-pri...  \n",
       "4  {'restaurant-area': 'centre', 'restaurant-pric...  "
      ]
     },
     "execution_count": 2,
     "metadata": {},
     "output_type": "execute_result"
    }
   ],
   "source": [
    "train_file = \"./data/train.csv\"\n",
    "train_df = pd.read_csv(train_file)\n",
    "train_df.head()"
   ]
  },
  {
   "cell_type": "code",
   "execution_count": 3,
   "id": "2ea61aee-b162-47eb-9e62-c97c1525d647",
   "metadata": {},
   "outputs": [
    {
     "data": {
      "text/html": [
       "<div>\n",
       "<style scoped>\n",
       "    .dataframe tbody tr th:only-of-type {\n",
       "        vertical-align: middle;\n",
       "    }\n",
       "\n",
       "    .dataframe tbody tr th {\n",
       "        vertical-align: top;\n",
       "    }\n",
       "\n",
       "    .dataframe thead th {\n",
       "        text-align: right;\n",
       "    }\n",
       "</style>\n",
       "<table border=\"1\" class=\"dataframe\">\n",
       "  <thead>\n",
       "    <tr style=\"text-align: right;\">\n",
       "      <th></th>\n",
       "      <th>text</th>\n",
       "      <th>answer</th>\n",
       "      <th>intent</th>\n",
       "      <th>slots</th>\n",
       "      <th>text_lower</th>\n",
       "    </tr>\n",
       "  </thead>\n",
       "  <tbody>\n",
       "    <tr>\n",
       "      <th>0</th>\n",
       "      <td>Guten Tag, I am staying overnight in Cambridge...</td>\n",
       "      <td>['find_hotel', 'hotel-area=centre', 'hotel-int...</td>\n",
       "      <td>find_hotel</td>\n",
       "      <td>{'hotel-area': 'centre', 'hotel-internet': 'ye...</td>\n",
       "      <td>guten tag, i am staying overnight in cambridge...</td>\n",
       "    </tr>\n",
       "    <tr>\n",
       "      <th>1</th>\n",
       "      <td>Hi there! Can you give me some info on Cityroomz?</td>\n",
       "      <td>['find_hotel', 'hotel-name=cityroomz']</td>\n",
       "      <td>find_hotel</td>\n",
       "      <td>{'hotel-name': 'cityroomz'}</td>\n",
       "      <td>hi there! can you give me some info on cityroomz?</td>\n",
       "    </tr>\n",
       "    <tr>\n",
       "      <th>2</th>\n",
       "      <td>I am looking for a hotel named alyesbray lodge...</td>\n",
       "      <td>['find_hotel', 'hotel-name=alyesbray lodge gue...</td>\n",
       "      <td>find_hotel</td>\n",
       "      <td>{'hotel-name': 'alyesbray lodge guest house'}</td>\n",
       "      <td>i am looking for a hotel named alyesbray lodge...</td>\n",
       "    </tr>\n",
       "    <tr>\n",
       "      <th>3</th>\n",
       "      <td>I am looking for a restaurant. I would like so...</td>\n",
       "      <td>['find_restaurant', 'restaurant-food=chinese',...</td>\n",
       "      <td>find_restaurant</td>\n",
       "      <td>{'restaurant-food': 'chinese', 'restaurant-pri...</td>\n",
       "      <td>i am looking for a restaurant. i would like so...</td>\n",
       "    </tr>\n",
       "    <tr>\n",
       "      <th>4</th>\n",
       "      <td>I'm looking for an expensive restaurant in the...</td>\n",
       "      <td>['find_restaurant', 'restaurant-area=centre', ...</td>\n",
       "      <td>find_restaurant</td>\n",
       "      <td>{'restaurant-area': 'centre', 'restaurant-pric...</td>\n",
       "      <td>i'm looking for an expensive restaurant in the...</td>\n",
       "    </tr>\n",
       "  </tbody>\n",
       "</table>\n",
       "</div>"
      ],
      "text/plain": [
       "                                                text  \\\n",
       "0  Guten Tag, I am staying overnight in Cambridge...   \n",
       "1  Hi there! Can you give me some info on Cityroomz?   \n",
       "2  I am looking for a hotel named alyesbray lodge...   \n",
       "3  I am looking for a restaurant. I would like so...   \n",
       "4  I'm looking for an expensive restaurant in the...   \n",
       "\n",
       "                                              answer           intent  \\\n",
       "0  ['find_hotel', 'hotel-area=centre', 'hotel-int...       find_hotel   \n",
       "1             ['find_hotel', 'hotel-name=cityroomz']       find_hotel   \n",
       "2  ['find_hotel', 'hotel-name=alyesbray lodge gue...       find_hotel   \n",
       "3  ['find_restaurant', 'restaurant-food=chinese',...  find_restaurant   \n",
       "4  ['find_restaurant', 'restaurant-area=centre', ...  find_restaurant   \n",
       "\n",
       "                                               slots  \\\n",
       "0  {'hotel-area': 'centre', 'hotel-internet': 'ye...   \n",
       "1                        {'hotel-name': 'cityroomz'}   \n",
       "2      {'hotel-name': 'alyesbray lodge guest house'}   \n",
       "3  {'restaurant-food': 'chinese', 'restaurant-pri...   \n",
       "4  {'restaurant-area': 'centre', 'restaurant-pric...   \n",
       "\n",
       "                                          text_lower  \n",
       "0  guten tag, i am staying overnight in cambridge...  \n",
       "1  hi there! can you give me some info on cityroomz?  \n",
       "2  i am looking for a hotel named alyesbray lodge...  \n",
       "3  i am looking for a restaurant. i would like so...  \n",
       "4  i'm looking for an expensive restaurant in the...  "
      ]
     },
     "execution_count": 3,
     "metadata": {},
     "output_type": "execute_result"
    }
   ],
   "source": [
    "train_df[\"text_lower\"] = train_df[\"text\"].str.lower()\n",
    "train_df.head()"
   ]
  },
  {
   "cell_type": "code",
   "execution_count": 4,
   "id": "5ad13f25-f29b-4dcb-a27a-dbfb92355d72",
   "metadata": {},
   "outputs": [],
   "source": [
    "from sklearn.feature_extraction.text import TfidfVectorizer\n",
    "from sklearn.linear_model import LogisticRegression\n",
    "from sklearn.metrics import accuracy_score"
   ]
  },
  {
   "cell_type": "code",
   "execution_count": 5,
   "id": "7765ba63-d90c-4e39-b10c-0430d8af8200",
   "metadata": {},
   "outputs": [
    {
     "name": "stdout",
     "output_type": "stream",
     "text": [
      "(3760, 989)\n"
     ]
    }
   ],
   "source": [
    "vectorizer = TfidfVectorizer()\n",
    "x_train = train_df[\"text_lower\"]\n",
    "x_train_tfidf = vectorizer.fit_transform(x_train)\n",
    "print(x_train_tfidf.shape)"
   ]
  },
  {
   "cell_type": "code",
   "execution_count": 6,
   "id": "ba44f618-354c-4e86-864b-d67d028fce9f",
   "metadata": {},
   "outputs": [],
   "source": [
    "# train using logistic regression"
   ]
  },
  {
   "cell_type": "code",
   "execution_count": 7,
   "id": "48c17766-f2be-4741-a516-e4549a2b2820",
   "metadata": {},
   "outputs": [
    {
     "name": "stdout",
     "output_type": "stream",
     "text": [
      "(3760,)\n",
      "Completed\n"
     ]
    }
   ],
   "source": [
    "clf = LogisticRegression(random_state=42)\n",
    "y_train = train_df[\"intent\"]\n",
    "print(y_train.shape)\n",
    "clf.fit(x_train_tfidf, y_train)\n",
    "print(\"Completed\")"
   ]
  },
  {
   "cell_type": "code",
   "execution_count": 8,
   "id": "e446d4a1-7336-415c-9034-0a456f28f5fe",
   "metadata": {},
   "outputs": [
    {
     "name": "stdout",
     "output_type": "stream",
     "text": [
      "Train score = 0.9973404255319149\n",
      "Accuracy score = 0.9973404255319149\n"
     ]
    }
   ],
   "source": [
    "y_pred = clf.predict(x_train_tfidf)\n",
    "print(\"Train score =\", clf.score(x_train_tfidf, y_train))\n",
    "print(\"Accuracy score =\", accuracy_score(y_train, y_pred)) # should be the same"
   ]
  },
  {
   "cell_type": "code",
   "execution_count": 9,
   "id": "f078252e-a551-434b-b197-4f43bd76450d",
   "metadata": {},
   "outputs": [
    {
     "name": "stdout",
     "output_type": "stream",
     "text": [
      "Length = 413\n"
     ]
    }
   ],
   "source": [
    "# test on dev set\n",
    "dev_utt = \"./data/MultiWOZ/WOZ_dev_utt.txt\"\n",
    "# read in dev set utterance\n",
    "lines = []\n",
    "with open(dev_utt, encoding=\"utf-8\") as f:\n",
    "    lines = f.readlines()\n",
    "    print(\"Length =\", len(lines))"
   ]
  },
  {
   "cell_type": "code",
   "execution_count": 10,
   "id": "e2bcbce2-08f1-4755-9155-df27986ac2d9",
   "metadata": {},
   "outputs": [
    {
     "data": {
      "text/html": [
       "<div>\n",
       "<style scoped>\n",
       "    .dataframe tbody tr th:only-of-type {\n",
       "        vertical-align: middle;\n",
       "    }\n",
       "\n",
       "    .dataframe tbody tr th {\n",
       "        vertical-align: top;\n",
       "    }\n",
       "\n",
       "    .dataframe thead th {\n",
       "        text-align: right;\n",
       "    }\n",
       "</style>\n",
       "<table border=\"1\" class=\"dataframe\">\n",
       "  <thead>\n",
       "    <tr style=\"text-align: right;\">\n",
       "      <th></th>\n",
       "      <th>text</th>\n",
       "    </tr>\n",
       "  </thead>\n",
       "  <tbody>\n",
       "    <tr>\n",
       "      <th>0</th>\n",
       "      <td>I'm looking for a local place to dine in the c...</td>\n",
       "    </tr>\n",
       "    <tr>\n",
       "      <th>1</th>\n",
       "      <td>My husband and I are celebrating our anniversa...</td>\n",
       "    </tr>\n",
       "    <tr>\n",
       "      <th>2</th>\n",
       "      <td>I'm looking for an expensive restaurant in the...</td>\n",
       "    </tr>\n",
       "    <tr>\n",
       "      <th>3</th>\n",
       "      <td>Are there any accommodations in the east part ...</td>\n",
       "    </tr>\n",
       "    <tr>\n",
       "      <th>4</th>\n",
       "      <td>I'm looking for a nice place to stay, somewher...</td>\n",
       "    </tr>\n",
       "  </tbody>\n",
       "</table>\n",
       "</div>"
      ],
      "text/plain": [
       "                                                text\n",
       "0  I'm looking for a local place to dine in the c...\n",
       "1  My husband and I are celebrating our anniversa...\n",
       "2  I'm looking for an expensive restaurant in the...\n",
       "3  Are there any accommodations in the east part ...\n",
       "4  I'm looking for a nice place to stay, somewher..."
      ]
     },
     "execution_count": 10,
     "metadata": {},
     "output_type": "execute_result"
    }
   ],
   "source": [
    "dev_df = pd.DataFrame({\"text\":lines})\n",
    "dev_df.head()"
   ]
  },
  {
   "cell_type": "code",
   "execution_count": 11,
   "id": "59a3d94c-23ec-4c9e-9903-428ff8bc97db",
   "metadata": {},
   "outputs": [
    {
     "name": "stdout",
     "output_type": "stream",
     "text": [
      "Length = 413\n"
     ]
    }
   ],
   "source": [
    "# read dev intent\n",
    "dev_ans = \"./data/MultiWOZ/WOZ_dev_ans.txt\"\n",
    "# read in dev set utterance\n",
    "lines = []\n",
    "with open(dev_ans, encoding=\"utf-8\") as f:\n",
    "    lines = f.readlines()\n",
    "    print(\"Length =\", len(lines))"
   ]
  },
  {
   "cell_type": "code",
   "execution_count": 12,
   "id": "e95221c6-e5d6-4d0e-8d8c-8ef4cc207777",
   "metadata": {},
   "outputs": [
    {
     "data": {
      "text/html": [
       "<div>\n",
       "<style scoped>\n",
       "    .dataframe tbody tr th:only-of-type {\n",
       "        vertical-align: middle;\n",
       "    }\n",
       "\n",
       "    .dataframe tbody tr th {\n",
       "        vertical-align: top;\n",
       "    }\n",
       "\n",
       "    .dataframe thead th {\n",
       "        text-align: right;\n",
       "    }\n",
       "</style>\n",
       "<table border=\"1\" class=\"dataframe\">\n",
       "  <thead>\n",
       "    <tr style=\"text-align: right;\">\n",
       "      <th></th>\n",
       "      <th>text</th>\n",
       "      <th>answer_raw</th>\n",
       "    </tr>\n",
       "  </thead>\n",
       "  <tbody>\n",
       "    <tr>\n",
       "      <th>0</th>\n",
       "      <td>I'm looking for a local place to dine in the c...</td>\n",
       "      <td>find_restaurant|restaurant-area=centre|restaur...</td>\n",
       "    </tr>\n",
       "    <tr>\n",
       "      <th>1</th>\n",
       "      <td>My husband and I are celebrating our anniversa...</td>\n",
       "      <td>find_hotel\\n</td>\n",
       "    </tr>\n",
       "    <tr>\n",
       "      <th>2</th>\n",
       "      <td>I'm looking for an expensive restaurant in the...</td>\n",
       "      <td>find_restaurant|restaurant-area=centre|restaur...</td>\n",
       "    </tr>\n",
       "    <tr>\n",
       "      <th>3</th>\n",
       "      <td>Are there any accommodations in the east part ...</td>\n",
       "      <td>find_hotel|hotel-area=east|hotel-parking=yes\\n</td>\n",
       "    </tr>\n",
       "    <tr>\n",
       "      <th>4</th>\n",
       "      <td>I'm looking for a nice place to stay, somewher...</td>\n",
       "      <td>find_hotel|hotel-internet=yes|hotel-pricerange...</td>\n",
       "    </tr>\n",
       "  </tbody>\n",
       "</table>\n",
       "</div>"
      ],
      "text/plain": [
       "                                                text  \\\n",
       "0  I'm looking for a local place to dine in the c...   \n",
       "1  My husband and I are celebrating our anniversa...   \n",
       "2  I'm looking for an expensive restaurant in the...   \n",
       "3  Are there any accommodations in the east part ...   \n",
       "4  I'm looking for a nice place to stay, somewher...   \n",
       "\n",
       "                                          answer_raw  \n",
       "0  find_restaurant|restaurant-area=centre|restaur...  \n",
       "1                                       find_hotel\\n  \n",
       "2  find_restaurant|restaurant-area=centre|restaur...  \n",
       "3     find_hotel|hotel-area=east|hotel-parking=yes\\n  \n",
       "4  find_hotel|hotel-internet=yes|hotel-pricerange...  "
      ]
     },
     "execution_count": 12,
     "metadata": {},
     "output_type": "execute_result"
    }
   ],
   "source": [
    "dev_df[\"answer_raw\"] = lines\n",
    "dev_df.head()"
   ]
  },
  {
   "cell_type": "code",
   "execution_count": 13,
   "id": "37d22863-9be0-4159-a755-838db8981860",
   "metadata": {},
   "outputs": [
    {
     "name": "stdout",
     "output_type": "stream",
     "text": [
      "find_restaurant|restaurant-area=centre|restaurant-food=chinese\n",
      "\n",
      "find_restaurant\n"
     ]
    }
   ],
   "source": [
    "# test extract intent from answer raw\n",
    "s = dev_df.iloc[0][\"answer_raw\"]\n",
    "print(s)\n",
    "print(s.split(\"|\")[0])"
   ]
  },
  {
   "cell_type": "code",
   "execution_count": 14,
   "id": "e748690b-6457-4ef4-9a9e-2cf0cf4bb62f",
   "metadata": {},
   "outputs": [
    {
     "data": {
      "text/html": [
       "<div>\n",
       "<style scoped>\n",
       "    .dataframe tbody tr th:only-of-type {\n",
       "        vertical-align: middle;\n",
       "    }\n",
       "\n",
       "    .dataframe tbody tr th {\n",
       "        vertical-align: top;\n",
       "    }\n",
       "\n",
       "    .dataframe thead th {\n",
       "        text-align: right;\n",
       "    }\n",
       "</style>\n",
       "<table border=\"1\" class=\"dataframe\">\n",
       "  <thead>\n",
       "    <tr style=\"text-align: right;\">\n",
       "      <th></th>\n",
       "      <th>text</th>\n",
       "      <th>answer_raw</th>\n",
       "      <th>intent</th>\n",
       "    </tr>\n",
       "  </thead>\n",
       "  <tbody>\n",
       "    <tr>\n",
       "      <th>0</th>\n",
       "      <td>I'm looking for a local place to dine in the c...</td>\n",
       "      <td>find_restaurant|restaurant-area=centre|restaur...</td>\n",
       "      <td>find_restaurant</td>\n",
       "    </tr>\n",
       "    <tr>\n",
       "      <th>1</th>\n",
       "      <td>My husband and I are celebrating our anniversa...</td>\n",
       "      <td>find_hotel\\n</td>\n",
       "      <td>find_hotel</td>\n",
       "    </tr>\n",
       "    <tr>\n",
       "      <th>2</th>\n",
       "      <td>I'm looking for an expensive restaurant in the...</td>\n",
       "      <td>find_restaurant|restaurant-area=centre|restaur...</td>\n",
       "      <td>find_restaurant</td>\n",
       "    </tr>\n",
       "    <tr>\n",
       "      <th>3</th>\n",
       "      <td>Are there any accommodations in the east part ...</td>\n",
       "      <td>find_hotel|hotel-area=east|hotel-parking=yes\\n</td>\n",
       "      <td>find_hotel</td>\n",
       "    </tr>\n",
       "    <tr>\n",
       "      <th>4</th>\n",
       "      <td>I'm looking for a nice place to stay, somewher...</td>\n",
       "      <td>find_hotel|hotel-internet=yes|hotel-pricerange...</td>\n",
       "      <td>find_hotel</td>\n",
       "    </tr>\n",
       "  </tbody>\n",
       "</table>\n",
       "</div>"
      ],
      "text/plain": [
       "                                                text  \\\n",
       "0  I'm looking for a local place to dine in the c...   \n",
       "1  My husband and I are celebrating our anniversa...   \n",
       "2  I'm looking for an expensive restaurant in the...   \n",
       "3  Are there any accommodations in the east part ...   \n",
       "4  I'm looking for a nice place to stay, somewher...   \n",
       "\n",
       "                                          answer_raw           intent  \n",
       "0  find_restaurant|restaurant-area=centre|restaur...  find_restaurant  \n",
       "1                                       find_hotel\\n       find_hotel  \n",
       "2  find_restaurant|restaurant-area=centre|restaur...  find_restaurant  \n",
       "3     find_hotel|hotel-area=east|hotel-parking=yes\\n       find_hotel  \n",
       "4  find_hotel|hotel-internet=yes|hotel-pricerange...       find_hotel  "
      ]
     },
     "execution_count": 14,
     "metadata": {},
     "output_type": "execute_result"
    }
   ],
   "source": [
    "dev_df[\"intent\"] = dev_df[\"answer_raw\"].apply(lambda s:s.split(\"|\")[0].strip())\n",
    "dev_df.head()"
   ]
  },
  {
   "cell_type": "code",
   "execution_count": 15,
   "id": "2b78fe0f-cfa8-4172-9422-c02fb3678c8f",
   "metadata": {},
   "outputs": [
    {
     "name": "stdout",
     "output_type": "stream",
     "text": [
      "(413, 989)\n",
      "Dev accuracy = 99.27360774818402\n",
      "Dev accuracy = 99.27360774818402\n"
     ]
    }
   ],
   "source": [
    "x_dev = dev_df[\"text\"]\n",
    "x_dev_tfidf = vectorizer.transform(x_dev)\n",
    "print(x_dev_tfidf.shape)\n",
    "y_dev = dev_df[\"intent\"]\n",
    "dev_score = clf.score(x_dev_tfidf, y_dev)\n",
    "dev_pred = clf.predict(x_dev_tfidf)\n",
    "print(\"Dev accuracy =\", accuracy_score(y_dev, dev_pred) * 100)\n",
    "print(\"Dev accuracy =\", dev_score * 100)"
   ]
  },
  {
   "cell_type": "code",
   "execution_count": 16,
   "id": "6c74d821-a985-483d-80b9-686049ea260a",
   "metadata": {},
   "outputs": [
    {
     "data": {
      "text/plain": [
       "Counter({'find_restaurant': 218, 'find_hotel': 195})"
      ]
     },
     "execution_count": 16,
     "metadata": {},
     "output_type": "execute_result"
    }
   ],
   "source": [
    "from collections import Counter\n",
    "Counter(dev_pred)"
   ]
  },
  {
   "cell_type": "code",
   "execution_count": 17,
   "id": "397bf409-736f-48d9-81c3-4183ab40c881",
   "metadata": {},
   "outputs": [
    {
     "data": {
      "text/html": [
       "<div>\n",
       "<style scoped>\n",
       "    .dataframe tbody tr th:only-of-type {\n",
       "        vertical-align: middle;\n",
       "    }\n",
       "\n",
       "    .dataframe tbody tr th {\n",
       "        vertical-align: top;\n",
       "    }\n",
       "\n",
       "    .dataframe thead th {\n",
       "        text-align: right;\n",
       "    }\n",
       "</style>\n",
       "<table border=\"1\" class=\"dataframe\">\n",
       "  <thead>\n",
       "    <tr style=\"text-align: right;\">\n",
       "      <th></th>\n",
       "      <th>text</th>\n",
       "      <th>answer_raw</th>\n",
       "      <th>intent</th>\n",
       "      <th>predicted</th>\n",
       "    </tr>\n",
       "  </thead>\n",
       "  <tbody>\n",
       "    <tr>\n",
       "      <th>135</th>\n",
       "      <td>I would like to have an authentic British meal...</td>\n",
       "      <td>find_restaurant|restaurant-food=british|restau...</td>\n",
       "      <td>find_restaurant</td>\n",
       "      <td>find_hotel</td>\n",
       "    </tr>\n",
       "    <tr>\n",
       "      <th>329</th>\n",
       "      <td>Hi. I will be attending a conference in the ea...</td>\n",
       "      <td>find_hotel|hotel-area=east\\n</td>\n",
       "      <td>find_hotel</td>\n",
       "      <td>find_restaurant</td>\n",
       "    </tr>\n",
       "    <tr>\n",
       "      <th>394</th>\n",
       "      <td>A friend recommended the City Centre North B&amp;B...</td>\n",
       "      <td>find_hotel|hotel-name=city centre north b and b\\n</td>\n",
       "      <td>find_hotel</td>\n",
       "      <td>find_restaurant</td>\n",
       "    </tr>\n",
       "  </tbody>\n",
       "</table>\n",
       "</div>"
      ],
      "text/plain": [
       "                                                  text  \\\n",
       "135  I would like to have an authentic British meal...   \n",
       "329  Hi. I will be attending a conference in the ea...   \n",
       "394  A friend recommended the City Centre North B&B...   \n",
       "\n",
       "                                            answer_raw           intent  \\\n",
       "135  find_restaurant|restaurant-food=british|restau...  find_restaurant   \n",
       "329                       find_hotel|hotel-area=east\\n       find_hotel   \n",
       "394  find_hotel|hotel-name=city centre north b and b\\n       find_hotel   \n",
       "\n",
       "           predicted  \n",
       "135       find_hotel  \n",
       "329  find_restaurant  \n",
       "394  find_restaurant  "
      ]
     },
     "execution_count": 17,
     "metadata": {},
     "output_type": "execute_result"
    }
   ],
   "source": [
    "# find where it predicted wrong\n",
    "dev_df[\"predicted\"] = dev_pred\n",
    "wrong_df = dev_df.query(\"predicted != intent\")\n",
    "wrong_df"
   ]
  },
  {
   "cell_type": "markdown",
   "id": "16fea521-508e-4511-bd1c-92d3fae10195",
   "metadata": {},
   "source": [
    "#### Predict intent on test set"
   ]
  },
  {
   "cell_type": "code",
   "execution_count": 18,
   "id": "22c6dadc-d3ed-4ab5-98cc-23d1ffda422d",
   "metadata": {},
   "outputs": [
    {
     "name": "stdout",
     "output_type": "stream",
     "text": [
      "Length = 400\n"
     ]
    }
   ],
   "source": [
    "# read in data\n",
    "test_utt = \"./data/MultiWOZ/WOZ_test_utt.txt\"\n",
    "# read in dev set utterance\n",
    "lines = []\n",
    "with open(test_utt, encoding=\"utf-8\") as f:\n",
    "    lines = f.readlines()\n",
    "    print(\"Length =\", len(lines))"
   ]
  },
  {
   "cell_type": "code",
   "execution_count": 19,
   "id": "e3d358b4-72dc-4e0b-9b94-36b4fb0b4cc4",
   "metadata": {},
   "outputs": [
    {
     "name": "stdout",
     "output_type": "stream",
     "text": [
      "400\n"
     ]
    },
    {
     "data": {
      "text/html": [
       "<div>\n",
       "<style scoped>\n",
       "    .dataframe tbody tr th:only-of-type {\n",
       "        vertical-align: middle;\n",
       "    }\n",
       "\n",
       "    .dataframe tbody tr th {\n",
       "        vertical-align: top;\n",
       "    }\n",
       "\n",
       "    .dataframe thead th {\n",
       "        text-align: right;\n",
       "    }\n",
       "</style>\n",
       "<table border=\"1\" class=\"dataframe\">\n",
       "  <thead>\n",
       "    <tr style=\"text-align: right;\">\n",
       "      <th></th>\n",
       "      <th>text</th>\n",
       "    </tr>\n",
       "  </thead>\n",
       "  <tbody>\n",
       "    <tr>\n",
       "      <th>0</th>\n",
       "      <td>Hello, I am looking for a restaurant in Cambri...</td>\n",
       "    </tr>\n",
       "    <tr>\n",
       "      <th>1</th>\n",
       "      <td>Hi, I'm looking for a hotel to stay in that in...</td>\n",
       "    </tr>\n",
       "    <tr>\n",
       "      <th>2</th>\n",
       "      <td>I am looking for a place to stay in the north ...</td>\n",
       "    </tr>\n",
       "    <tr>\n",
       "      <th>3</th>\n",
       "      <td>I need a place to dine, and I'd like to know w...</td>\n",
       "    </tr>\n",
       "    <tr>\n",
       "      <th>4</th>\n",
       "      <td>I need a five starts hotel close to a mall and...</td>\n",
       "    </tr>\n",
       "  </tbody>\n",
       "</table>\n",
       "</div>"
      ],
      "text/plain": [
       "                                                text\n",
       "0  Hello, I am looking for a restaurant in Cambri...\n",
       "1  Hi, I'm looking for a hotel to stay in that in...\n",
       "2  I am looking for a place to stay in the north ...\n",
       "3  I need a place to dine, and I'd like to know w...\n",
       "4  I need a five starts hotel close to a mall and..."
      ]
     },
     "execution_count": 19,
     "metadata": {},
     "output_type": "execute_result"
    }
   ],
   "source": [
    "test_df = pd.DataFrame({\"text\":lines})\n",
    "print(len(test_df))\n",
    "test_df.head()"
   ]
  },
  {
   "cell_type": "code",
   "execution_count": 20,
   "id": "6e5b7a2e-ac1b-47c7-97f6-f61808e0a3ba",
   "metadata": {},
   "outputs": [
    {
     "data": {
      "text/html": [
       "<div>\n",
       "<style scoped>\n",
       "    .dataframe tbody tr th:only-of-type {\n",
       "        vertical-align: middle;\n",
       "    }\n",
       "\n",
       "    .dataframe tbody tr th {\n",
       "        vertical-align: top;\n",
       "    }\n",
       "\n",
       "    .dataframe thead th {\n",
       "        text-align: right;\n",
       "    }\n",
       "</style>\n",
       "<table border=\"1\" class=\"dataframe\">\n",
       "  <thead>\n",
       "    <tr style=\"text-align: right;\">\n",
       "      <th></th>\n",
       "      <th>text</th>\n",
       "      <th>text_lower</th>\n",
       "    </tr>\n",
       "  </thead>\n",
       "  <tbody>\n",
       "    <tr>\n",
       "      <th>0</th>\n",
       "      <td>Hello, I am looking for a restaurant in Cambri...</td>\n",
       "      <td>hello, i am looking for a restaurant in cambri...</td>\n",
       "    </tr>\n",
       "    <tr>\n",
       "      <th>1</th>\n",
       "      <td>Hi, I'm looking for a hotel to stay in that in...</td>\n",
       "      <td>hi, i'm looking for a hotel to stay in that in...</td>\n",
       "    </tr>\n",
       "    <tr>\n",
       "      <th>2</th>\n",
       "      <td>I am looking for a place to stay in the north ...</td>\n",
       "      <td>i am looking for a place to stay in the north ...</td>\n",
       "    </tr>\n",
       "    <tr>\n",
       "      <th>3</th>\n",
       "      <td>I need a place to dine, and I'd like to know w...</td>\n",
       "      <td>i need a place to dine, and i'd like to know w...</td>\n",
       "    </tr>\n",
       "    <tr>\n",
       "      <th>4</th>\n",
       "      <td>I need a five starts hotel close to a mall and...</td>\n",
       "      <td>i need a five starts hotel close to a mall and...</td>\n",
       "    </tr>\n",
       "  </tbody>\n",
       "</table>\n",
       "</div>"
      ],
      "text/plain": [
       "                                                text  \\\n",
       "0  Hello, I am looking for a restaurant in Cambri...   \n",
       "1  Hi, I'm looking for a hotel to stay in that in...   \n",
       "2  I am looking for a place to stay in the north ...   \n",
       "3  I need a place to dine, and I'd like to know w...   \n",
       "4  I need a five starts hotel close to a mall and...   \n",
       "\n",
       "                                          text_lower  \n",
       "0  hello, i am looking for a restaurant in cambri...  \n",
       "1  hi, i'm looking for a hotel to stay in that in...  \n",
       "2  i am looking for a place to stay in the north ...  \n",
       "3  i need a place to dine, and i'd like to know w...  \n",
       "4  i need a five starts hotel close to a mall and...  "
      ]
     },
     "execution_count": 20,
     "metadata": {},
     "output_type": "execute_result"
    }
   ],
   "source": [
    "# pre-processing\n",
    "test_df[\"text_lower\"] = test_df[\"text\"].str.lower()\n",
    "test_df.head()"
   ]
  },
  {
   "cell_type": "code",
   "execution_count": 21,
   "id": "1e36c630-e8eb-4cc6-871f-d27f31ccf2fa",
   "metadata": {},
   "outputs": [
    {
     "name": "stdout",
     "output_type": "stream",
     "text": [
      "(400, 989)\n"
     ]
    }
   ],
   "source": [
    "# predict\n",
    "x_test = test_df[\"text_lower\"]\n",
    "x_test_tfidf = vectorizer.transform(x_test)\n",
    "print(x_test_tfidf.shape)\n",
    "# y_test = test_df[\"intent\"]\n",
    "# dev_score = clf.score(x_dev_tfidf, y_dev)\n",
    "test_pred = clf.predict(x_test_tfidf)\n",
    "# print(\"Dev accuracy =\", accuracy_score(y_dev, dev_pred) * 100)\n",
    "# print(\"Dev accuracy =\", dev_score * 100)"
   ]
  },
  {
   "cell_type": "code",
   "execution_count": 22,
   "id": "0fecc377-ab84-4655-b358-0a4568299412",
   "metadata": {},
   "outputs": [
    {
     "data": {
      "text/html": [
       "<div>\n",
       "<style scoped>\n",
       "    .dataframe tbody tr th:only-of-type {\n",
       "        vertical-align: middle;\n",
       "    }\n",
       "\n",
       "    .dataframe tbody tr th {\n",
       "        vertical-align: top;\n",
       "    }\n",
       "\n",
       "    .dataframe thead th {\n",
       "        text-align: right;\n",
       "    }\n",
       "</style>\n",
       "<table border=\"1\" class=\"dataframe\">\n",
       "  <thead>\n",
       "    <tr style=\"text-align: right;\">\n",
       "      <th></th>\n",
       "      <th>text</th>\n",
       "      <th>text_lower</th>\n",
       "      <th>predicted</th>\n",
       "    </tr>\n",
       "  </thead>\n",
       "  <tbody>\n",
       "    <tr>\n",
       "      <th>0</th>\n",
       "      <td>Hello, I am looking for a restaurant in Cambri...</td>\n",
       "      <td>hello, i am looking for a restaurant in cambri...</td>\n",
       "      <td>find_restaurant</td>\n",
       "    </tr>\n",
       "    <tr>\n",
       "      <th>1</th>\n",
       "      <td>Hi, I'm looking for a hotel to stay in that in...</td>\n",
       "      <td>hi, i'm looking for a hotel to stay in that in...</td>\n",
       "      <td>find_hotel</td>\n",
       "    </tr>\n",
       "    <tr>\n",
       "      <th>2</th>\n",
       "      <td>I am looking for a place to stay in the north ...</td>\n",
       "      <td>i am looking for a place to stay in the north ...</td>\n",
       "      <td>find_hotel</td>\n",
       "    </tr>\n",
       "    <tr>\n",
       "      <th>3</th>\n",
       "      <td>I need a place to dine, and I'd like to know w...</td>\n",
       "      <td>i need a place to dine, and i'd like to know w...</td>\n",
       "      <td>find_restaurant</td>\n",
       "    </tr>\n",
       "    <tr>\n",
       "      <th>4</th>\n",
       "      <td>I need a five starts hotel close to a mall and...</td>\n",
       "      <td>i need a five starts hotel close to a mall and...</td>\n",
       "      <td>find_hotel</td>\n",
       "    </tr>\n",
       "    <tr>\n",
       "      <th>...</th>\n",
       "      <td>...</td>\n",
       "      <td>...</td>\n",
       "      <td>...</td>\n",
       "    </tr>\n",
       "    <tr>\n",
       "      <th>395</th>\n",
       "      <td>I am looking for a place to stay. The hotel sh...</td>\n",
       "      <td>i am looking for a place to stay. the hotel sh...</td>\n",
       "      <td>find_hotel</td>\n",
       "    </tr>\n",
       "    <tr>\n",
       "      <th>396</th>\n",
       "      <td>I am looking to book a hotel in the Cambridge ...</td>\n",
       "      <td>i am looking to book a hotel in the cambridge ...</td>\n",
       "      <td>find_hotel</td>\n",
       "    </tr>\n",
       "    <tr>\n",
       "      <th>397</th>\n",
       "      <td>I would like to go to an Indian restaurant in ...</td>\n",
       "      <td>i would like to go to an indian restaurant in ...</td>\n",
       "      <td>find_restaurant</td>\n",
       "    </tr>\n",
       "    <tr>\n",
       "      <th>398</th>\n",
       "      <td>I'm looking for a place to eat in the centre t...</td>\n",
       "      <td>i'm looking for a place to eat in the centre t...</td>\n",
       "      <td>find_restaurant</td>\n",
       "    </tr>\n",
       "    <tr>\n",
       "      <th>399</th>\n",
       "      <td>I need to get a guesthouse that doesn't have f...</td>\n",
       "      <td>i need to get a guesthouse that doesn't have f...</td>\n",
       "      <td>find_hotel</td>\n",
       "    </tr>\n",
       "  </tbody>\n",
       "</table>\n",
       "<p>400 rows × 3 columns</p>\n",
       "</div>"
      ],
      "text/plain": [
       "                                                  text  \\\n",
       "0    Hello, I am looking for a restaurant in Cambri...   \n",
       "1    Hi, I'm looking for a hotel to stay in that in...   \n",
       "2    I am looking for a place to stay in the north ...   \n",
       "3    I need a place to dine, and I'd like to know w...   \n",
       "4    I need a five starts hotel close to a mall and...   \n",
       "..                                                 ...   \n",
       "395  I am looking for a place to stay. The hotel sh...   \n",
       "396  I am looking to book a hotel in the Cambridge ...   \n",
       "397  I would like to go to an Indian restaurant in ...   \n",
       "398  I'm looking for a place to eat in the centre t...   \n",
       "399  I need to get a guesthouse that doesn't have f...   \n",
       "\n",
       "                                            text_lower        predicted  \n",
       "0    hello, i am looking for a restaurant in cambri...  find_restaurant  \n",
       "1    hi, i'm looking for a hotel to stay in that in...       find_hotel  \n",
       "2    i am looking for a place to stay in the north ...       find_hotel  \n",
       "3    i need a place to dine, and i'd like to know w...  find_restaurant  \n",
       "4    i need a five starts hotel close to a mall and...       find_hotel  \n",
       "..                                                 ...              ...  \n",
       "395  i am looking for a place to stay. the hotel sh...       find_hotel  \n",
       "396  i am looking to book a hotel in the cambridge ...       find_hotel  \n",
       "397  i would like to go to an indian restaurant in ...  find_restaurant  \n",
       "398  i'm looking for a place to eat in the centre t...  find_restaurant  \n",
       "399  i need to get a guesthouse that doesn't have f...       find_hotel  \n",
       "\n",
       "[400 rows x 3 columns]"
      ]
     },
     "execution_count": 22,
     "metadata": {},
     "output_type": "execute_result"
    }
   ],
   "source": [
    "test_df[\"predicted\"] = test_pred\n",
    "test_df"
   ]
  },
  {
   "cell_type": "code",
   "execution_count": 23,
   "id": "11badcdf-ea19-4097-94b2-9230647317dd",
   "metadata": {},
   "outputs": [
    {
     "name": "stdout",
     "output_type": "stream",
     "text": [
      "Output completed\n"
     ]
    }
   ],
   "source": [
    "# write to output\n",
    "test_output_fn = \"./data/test_step1.csv\"\n",
    "test_df.to_csv(test_output_fn)\n",
    "print(\"Output completed\")"
   ]
  },
  {
   "cell_type": "code",
   "execution_count": null,
   "id": "68e7ae28-63fa-4d94-b90f-0f0456ef9b62",
   "metadata": {},
   "outputs": [],
   "source": []
  }
 ],
 "metadata": {
  "kernelspec": {
   "display_name": "Python 3 (ipykernel)",
   "language": "python",
   "name": "python3"
  },
  "language_info": {
   "codemirror_mode": {
    "name": "ipython",
    "version": 3
   },
   "file_extension": ".py",
   "mimetype": "text/x-python",
   "name": "python",
   "nbconvert_exporter": "python",
   "pygments_lexer": "ipython3",
   "version": "3.11.4"
  }
 },
 "nbformat": 4,
 "nbformat_minor": 5
}
